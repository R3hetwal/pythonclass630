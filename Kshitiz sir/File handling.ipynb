{
 "cells": [
  {
   "cell_type": "markdown",
   "id": "aac080dd",
   "metadata": {},
   "source": [
    "File handling in Python includes: \n",
    "\n",
    "* creating, \n",
    "* opening, and \n",
    "* closing files.\n",
    "\n",
    "While files are open, Python additionally allows performing various file operations, such as: \n",
    "\n",
    "* reading, \n",
    "* writing, and\n",
    "* appending information."
   ]
  },
  {
   "cell_type": "markdown",
   "id": "1a817911",
   "metadata": {},
   "source": [
    "# Opening a file\n",
    "\n",
    "syntax:\n",
    "\n",
    "```\n",
    "open(filename, mode)\n",
    "```\n",
    "\n",
    "mode:\n",
    "* read:   'r'\n",
    "* write:  'w'\n",
    "* append: 'a'\n",
    "* create: 'x'"
   ]
  },
  {
   "cell_type": "code",
   "execution_count": 1,
   "id": "455f0cb8",
   "metadata": {},
   "outputs": [],
   "source": [
    "obj = open(\"news.txt\", 'r') # open the file"
   ]
  },
  {
   "cell_type": "code",
   "execution_count": 2,
   "id": "fed63a12",
   "metadata": {},
   "outputs": [],
   "source": [
    "text = obj.read() # read the file"
   ]
  },
  {
   "cell_type": "code",
   "execution_count": 4,
   "id": "f159e0d7",
   "metadata": {},
   "outputs": [
    {
     "name": "stdout",
     "output_type": "stream",
     "text": [
      "Python is a high-level, general-purpose programming language. Its design philosophy emphasizes code readability with the use of significant indentation.[33]\n",
      "\n",
      "Python is dynamically-typed and garbage-collected. It supports multiple programming paradigms, including structured (particularly procedural), object-oriented and functional programming. \n"
     ]
    }
   ],
   "source": [
    "print(text)"
   ]
  },
  {
   "cell_type": "code",
   "execution_count": 5,
   "id": "ca90b436",
   "metadata": {},
   "outputs": [],
   "source": [
    "obj.close() # you should close file after opening it"
   ]
  },
  {
   "cell_type": "code",
   "execution_count": 6,
   "id": "c40c9f3f",
   "metadata": {},
   "outputs": [
    {
     "data": {
      "text/plain": [
       "'Python is a high-level, general-purpose programming language. Its design philosophy emphasizes code readability with the use of significant indentation.[33]\\n\\nPython is dynamically-typed and garbage-collected. It supports multiple programming paradigms, including structured (particularly procedural), object-oriented and functional programming. '"
      ]
     },
     "execution_count": 6,
     "metadata": {},
     "output_type": "execute_result"
    }
   ],
   "source": [
    "text"
   ]
  },
  {
   "cell_type": "code",
   "execution_count": 7,
   "id": "62db8573",
   "metadata": {},
   "outputs": [],
   "source": [
    "with open('news.txt', 'r') as file: # alternative -- preferred way\n",
    "    text = file.read()"
   ]
  },
  {
   "cell_type": "code",
   "execution_count": 8,
   "id": "172ea7bf",
   "metadata": {},
   "outputs": [
    {
     "name": "stdout",
     "output_type": "stream",
     "text": [
      "Python is a high-level, general-purpose programming language. Its design philosophy emphasizes code readability with the use of significant indentation.[33]\n",
      "\n",
      "Python is dynamically-typed and garbage-collected. It supports multiple programming paradigms, including structured (particularly procedural), object-oriented and functional programming. \n"
     ]
    }
   ],
   "source": [
    "print(text)"
   ]
  },
  {
   "cell_type": "code",
   "execution_count": 9,
   "id": "48e9feb1",
   "metadata": {},
   "outputs": [],
   "source": [
    "# file reading methods"
   ]
  },
  {
   "cell_type": "code",
   "execution_count": 10,
   "id": "7125d723",
   "metadata": {},
   "outputs": [],
   "source": [
    "with open('news.txt', 'r') as file:\n",
    "    text = file.readline() # readline reads first paragrapth of text"
   ]
  },
  {
   "cell_type": "code",
   "execution_count": 11,
   "id": "188fe53e",
   "metadata": {},
   "outputs": [
    {
     "data": {
      "text/plain": [
       "'Python is a high-level, general-purpose programming language. Its design philosophy emphasizes code readability with the use of significant indentation.[33]\\n'"
      ]
     },
     "execution_count": 11,
     "metadata": {},
     "output_type": "execute_result"
    }
   ],
   "source": [
    "text"
   ]
  },
  {
   "cell_type": "code",
   "execution_count": 12,
   "id": "df3ad652",
   "metadata": {},
   "outputs": [],
   "source": [
    "with open('news.txt', 'r') as file:\n",
    "    text = file.readlines()"
   ]
  },
  {
   "cell_type": "code",
   "execution_count": 13,
   "id": "9108e3ca",
   "metadata": {},
   "outputs": [
    {
     "data": {
      "text/plain": [
       "['Python is a high-level, general-purpose programming language. Its design philosophy emphasizes code readability with the use of significant indentation.[33]\\n',\n",
       " '\\n',\n",
       " 'Python is dynamically-typed and garbage-collected. It supports multiple programming paradigms, including structured (particularly procedural), object-oriented and functional programming. ']"
      ]
     },
     "execution_count": 13,
     "metadata": {},
     "output_type": "execute_result"
    }
   ],
   "source": [
    "text"
   ]
  },
  {
   "cell_type": "code",
   "execution_count": 14,
   "id": "a547f77c",
   "metadata": {},
   "outputs": [
    {
     "data": {
      "text/plain": [
       "3"
      ]
     },
     "execution_count": 14,
     "metadata": {},
     "output_type": "execute_result"
    }
   ],
   "source": [
    "len(text)"
   ]
  },
  {
   "cell_type": "code",
   "execution_count": 15,
   "id": "1cc5fbd1",
   "metadata": {},
   "outputs": [
    {
     "data": {
      "text/plain": [
       "list"
      ]
     },
     "execution_count": 15,
     "metadata": {},
     "output_type": "execute_result"
    }
   ],
   "source": [
    "type(text)"
   ]
  },
  {
   "cell_type": "markdown",
   "id": "e8d0ea37",
   "metadata": {},
   "source": [
    "# write mode : creates a new file if it doesn't exist . if exist replaces old file and create new file  (old data get lost)"
   ]
  },
  {
   "cell_type": "code",
   "execution_count": 16,
   "id": "53898a18",
   "metadata": {},
   "outputs": [],
   "source": [
    "with open('write.txt', 'w') as file:\n",
    "    file.write(\"I love Python\")"
   ]
  },
  {
   "cell_type": "code",
   "execution_count": 17,
   "id": "6b2623cb",
   "metadata": {},
   "outputs": [
    {
     "data": {
      "text/plain": [
       "'I love Python'"
      ]
     },
     "execution_count": 17,
     "metadata": {},
     "output_type": "execute_result"
    }
   ],
   "source": [
    "with open('write.txt', 'r') as file:\n",
    "    text = file.read()\n",
    "\n",
    "text"
   ]
  },
  {
   "cell_type": "code",
   "execution_count": 18,
   "id": "662ee6ae",
   "metadata": {},
   "outputs": [],
   "source": [
    "with open('write.txt', 'w') as file:\n",
    "    file.write(\"I love programming. \")"
   ]
  },
  {
   "cell_type": "code",
   "execution_count": 19,
   "id": "4fe070a8",
   "metadata": {},
   "outputs": [
    {
     "data": {
      "text/plain": [
       "'I love programming. '"
      ]
     },
     "execution_count": 19,
     "metadata": {},
     "output_type": "execute_result"
    }
   ],
   "source": [
    "with open('write.txt', 'r') as file:\n",
    "    text = file.read()\n",
    "\n",
    "text"
   ]
  },
  {
   "cell_type": "markdown",
   "id": "660344fb",
   "metadata": {},
   "source": [
    "# append mode"
   ]
  },
  {
   "cell_type": "code",
   "execution_count": 20,
   "id": "39fbf8c2",
   "metadata": {},
   "outputs": [],
   "source": [
    "with open('write.txt', 'a') as file: # appends text on EOL\n",
    "    file.write(\"Python is my favourite language.\")"
   ]
  },
  {
   "cell_type": "code",
   "execution_count": 21,
   "id": "5d6d0fc8",
   "metadata": {},
   "outputs": [
    {
     "data": {
      "text/plain": [
       "'I love programming.  Python is my favourite language.'"
      ]
     },
     "execution_count": 21,
     "metadata": {},
     "output_type": "execute_result"
    }
   ],
   "source": [
    "with open('write.txt', 'r') as file:\n",
    "    text = file.read()\n",
    "    \n",
    "text"
   ]
  },
  {
   "cell_type": "code",
   "execution_count": 22,
   "id": "4829aafd",
   "metadata": {},
   "outputs": [],
   "source": [
    "with open(\"append.txt\", 'a') as f:\n",
    "    f.write(\"Append Mode creates a new file if doesn't exist. \")"
   ]
  },
  {
   "cell_type": "code",
   "execution_count": 23,
   "id": "6e568155",
   "metadata": {},
   "outputs": [
    {
     "data": {
      "text/plain": [
       "\"Append Mode creates a new file if doesn't exist. \""
      ]
     },
     "execution_count": 23,
     "metadata": {},
     "output_type": "execute_result"
    }
   ],
   "source": [
    "with open(\"append.txt\", 'r') as f:\n",
    "    txt = f.read()\n",
    "    \n",
    "txt"
   ]
  },
  {
   "cell_type": "code",
   "execution_count": null,
   "id": "8ba229bc",
   "metadata": {},
   "outputs": [],
   "source": []
  }
 ],
 "metadata": {
  "kernelspec": {
   "display_name": "Python 3 (ipykernel)",
   "language": "python",
   "name": "python3"
  },
  "language_info": {
   "codemirror_mode": {
    "name": "ipython",
    "version": 3
   },
   "file_extension": ".py",
   "mimetype": "text/x-python",
   "name": "python",
   "nbconvert_exporter": "python",
   "pygments_lexer": "ipython3",
   "version": "3.8.10"
  }
 },
 "nbformat": 4,
 "nbformat_minor": 5
}
