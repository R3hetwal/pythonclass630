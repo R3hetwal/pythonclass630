{
 "cells": [
  {
   "cell_type": "code",
   "execution_count": 1,
   "id": "f67c1776",
   "metadata": {},
   "outputs": [],
   "source": [
    "import pandas as pd"
   ]
  },
  {
   "cell_type": "code",
   "execution_count": 2,
   "id": "9d70350b",
   "metadata": {},
   "outputs": [],
   "source": [
    "df = pd.read_csv('covid-live_dec7.csv')"
   ]
  },
  {
   "cell_type": "code",
   "execution_count": 3,
   "id": "f670f5d4",
   "metadata": {},
   "outputs": [
    {
     "data": {
      "text/html": [
       "<div>\n",
       "<style scoped>\n",
       "    .dataframe tbody tr th:only-of-type {\n",
       "        vertical-align: middle;\n",
       "    }\n",
       "\n",
       "    .dataframe tbody tr th {\n",
       "        vertical-align: top;\n",
       "    }\n",
       "\n",
       "    .dataframe thead th {\n",
       "        text-align: right;\n",
       "    }\n",
       "</style>\n",
       "<table border=\"1\" class=\"dataframe\">\n",
       "  <thead>\n",
       "    <tr style=\"text-align: right;\">\n",
       "      <th></th>\n",
       "      <th>country</th>\n",
       "      <th>total cases</th>\n",
       "      <th>new cases</th>\n",
       "      <th>total death</th>\n",
       "      <th>new death</th>\n",
       "      <th>total recovered</th>\n",
       "      <th>new recovered</th>\n",
       "      <th>active cases</th>\n",
       "      <th>critital</th>\n",
       "    </tr>\n",
       "  </thead>\n",
       "  <tbody>\n",
       "    <tr>\n",
       "      <th>0</th>\n",
       "      <td>USA</td>\n",
       "      <td>100,962,518</td>\n",
       "      <td>+23,950</td>\n",
       "      <td>1,107,791</td>\n",
       "      <td>245.0</td>\n",
       "      <td>98,364,274</td>\n",
       "      <td>+43,720</td>\n",
       "      <td>1,490,453</td>\n",
       "      <td>3,531</td>\n",
       "    </tr>\n",
       "    <tr>\n",
       "      <th>1</th>\n",
       "      <td>India</td>\n",
       "      <td>44,674,874</td>\n",
       "      <td>NaN</td>\n",
       "      <td>530,633</td>\n",
       "      <td>NaN</td>\n",
       "      <td>44,138,805</td>\n",
       "      <td>NaN</td>\n",
       "      <td>5,436</td>\n",
       "      <td>698</td>\n",
       "    </tr>\n",
       "    <tr>\n",
       "      <th>2</th>\n",
       "      <td>France</td>\n",
       "      <td>38,184,081</td>\n",
       "      <td>+105,516</td>\n",
       "      <td>159,362</td>\n",
       "      <td>117.0</td>\n",
       "      <td>37,057,794</td>\n",
       "      <td>+34,774</td>\n",
       "      <td>966,925</td>\n",
       "      <td>869</td>\n",
       "    </tr>\n",
       "    <tr>\n",
       "      <th>3</th>\n",
       "      <td>Germany</td>\n",
       "      <td>36,604,648</td>\n",
       "      <td>NaN</td>\n",
       "      <td>158,386</td>\n",
       "      <td>NaN</td>\n",
       "      <td>35,953,400</td>\n",
       "      <td>+40,400</td>\n",
       "      <td>492,862</td>\n",
       "      <td>1,406</td>\n",
       "    </tr>\n",
       "    <tr>\n",
       "      <th>4</th>\n",
       "      <td>Brazil</td>\n",
       "      <td>35,482,252</td>\n",
       "      <td>+46,221</td>\n",
       "      <td>690,465</td>\n",
       "      <td>167.0</td>\n",
       "      <td>34,262,104</td>\n",
       "      <td>NaN</td>\n",
       "      <td>529,683</td>\n",
       "      <td>8,318</td>\n",
       "    </tr>\n",
       "  </tbody>\n",
       "</table>\n",
       "</div>"
      ],
      "text/plain": [
       "   country  total cases new cases                                total death  \\\n",
       "0      USA  100,962,518   +23,950  1,107,791                                   \n",
       "1    India   44,674,874       NaN    530,633                                   \n",
       "2   France   38,184,081  +105,516    159,362                                   \n",
       "3  Germany   36,604,648       NaN    158,386                                   \n",
       "4   Brazil   35,482,252   +46,221    690,465                                   \n",
       "\n",
       "   new death total recovered new recovered active cases critital  \n",
       "0      245.0      98,364,274       +43,720    1,490,453    3,531  \n",
       "1        NaN      44,138,805           NaN        5,436      698  \n",
       "2      117.0      37,057,794       +34,774      966,925      869  \n",
       "3        NaN      35,953,400       +40,400      492,862    1,406  \n",
       "4      167.0      34,262,104           NaN      529,683    8,318  "
      ]
     },
     "execution_count": 3,
     "metadata": {},
     "output_type": "execute_result"
    }
   ],
   "source": [
    "df.head()"
   ]
  },
  {
   "cell_type": "code",
   "execution_count": 4,
   "id": "aa60b88d",
   "metadata": {},
   "outputs": [
    {
     "data": {
      "text/html": [
       "<div>\n",
       "<style scoped>\n",
       "    .dataframe tbody tr th:only-of-type {\n",
       "        vertical-align: middle;\n",
       "    }\n",
       "\n",
       "    .dataframe tbody tr th {\n",
       "        vertical-align: top;\n",
       "    }\n",
       "\n",
       "    .dataframe thead th {\n",
       "        text-align: right;\n",
       "    }\n",
       "</style>\n",
       "<table border=\"1\" class=\"dataframe\">\n",
       "  <thead>\n",
       "    <tr style=\"text-align: right;\">\n",
       "      <th></th>\n",
       "      <th>country</th>\n",
       "      <th>total cases</th>\n",
       "      <th>new cases</th>\n",
       "      <th>total death</th>\n",
       "      <th>new death</th>\n",
       "      <th>total recovered</th>\n",
       "      <th>new recovered</th>\n",
       "      <th>active cases</th>\n",
       "      <th>critital</th>\n",
       "    </tr>\n",
       "  </thead>\n",
       "  <tbody>\n",
       "    <tr>\n",
       "      <th>225</th>\n",
       "      <td>Niue</td>\n",
       "      <td>180</td>\n",
       "      <td>+8</td>\n",
       "      <td></td>\n",
       "      <td>NaN</td>\n",
       "      <td>114</td>\n",
       "      <td>+3</td>\n",
       "      <td>66</td>\n",
       "      <td>NaN</td>\n",
       "    </tr>\n",
       "    <tr>\n",
       "      <th>226</th>\n",
       "      <td>Vatican City</td>\n",
       "      <td>29</td>\n",
       "      <td>NaN</td>\n",
       "      <td></td>\n",
       "      <td>NaN</td>\n",
       "      <td>29</td>\n",
       "      <td>NaN</td>\n",
       "      <td>0</td>\n",
       "      <td>NaN</td>\n",
       "    </tr>\n",
       "    <tr>\n",
       "      <th>227</th>\n",
       "      <td>Western Sahara</td>\n",
       "      <td>10</td>\n",
       "      <td>NaN</td>\n",
       "      <td>1</td>\n",
       "      <td>NaN</td>\n",
       "      <td>9</td>\n",
       "      <td>NaN</td>\n",
       "      <td>0</td>\n",
       "      <td>NaN</td>\n",
       "    </tr>\n",
       "    <tr>\n",
       "      <th>228</th>\n",
       "      <td>MS Zaandam</td>\n",
       "      <td>9</td>\n",
       "      <td>NaN</td>\n",
       "      <td>2</td>\n",
       "      <td>NaN</td>\n",
       "      <td>7</td>\n",
       "      <td>NaN</td>\n",
       "      <td>0</td>\n",
       "      <td>NaN</td>\n",
       "    </tr>\n",
       "    <tr>\n",
       "      <th>229</th>\n",
       "      <td>China</td>\n",
       "      <td>345,529</td>\n",
       "      <td>+5,046</td>\n",
       "      <td>5,235</td>\n",
       "      <td>NaN</td>\n",
       "      <td>297,813</td>\n",
       "      <td>+3,198</td>\n",
       "      <td>42,481</td>\n",
       "      <td>128</td>\n",
       "    </tr>\n",
       "  </tbody>\n",
       "</table>\n",
       "</div>"
      ],
      "text/plain": [
       "            country total cases new cases  \\\n",
       "225            Niue         180        +8   \n",
       "226    Vatican City          29       NaN   \n",
       "227  Western Sahara          10       NaN   \n",
       "228      MS Zaandam           9       NaN   \n",
       "229           China     345,529    +5,046   \n",
       "\n",
       "                               total death  new death total recovered  \\\n",
       "225                                               NaN             114   \n",
       "226                                               NaN              29   \n",
       "227      1                                        NaN               9   \n",
       "228      2                                        NaN               7   \n",
       "229  5,235                                        NaN         297,813   \n",
       "\n",
       "    new recovered active cases critital  \n",
       "225            +3           66      NaN  \n",
       "226           NaN            0      NaN  \n",
       "227           NaN            0      NaN  \n",
       "228           NaN            0      NaN  \n",
       "229        +3,198       42,481      128  "
      ]
     },
     "execution_count": 4,
     "metadata": {},
     "output_type": "execute_result"
    }
   ],
   "source": [
    "df.tail()"
   ]
  },
  {
   "cell_type": "markdown",
   "id": "d9fc3ec7",
   "metadata": {},
   "source": [
    "# NaN is a missing data"
   ]
  },
  {
   "cell_type": "code",
   "execution_count": 5,
   "id": "39be303c",
   "metadata": {},
   "outputs": [],
   "source": [
    "# how to check how many missing data are there in each column of dataset"
   ]
  },
  {
   "cell_type": "code",
   "execution_count": 7,
   "id": "f87f8810",
   "metadata": {},
   "outputs": [
    {
     "data": {
      "text/html": [
       "<div>\n",
       "<style scoped>\n",
       "    .dataframe tbody tr th:only-of-type {\n",
       "        vertical-align: middle;\n",
       "    }\n",
       "\n",
       "    .dataframe tbody tr th {\n",
       "        vertical-align: top;\n",
       "    }\n",
       "\n",
       "    .dataframe thead th {\n",
       "        text-align: right;\n",
       "    }\n",
       "</style>\n",
       "<table border=\"1\" class=\"dataframe\">\n",
       "  <thead>\n",
       "    <tr style=\"text-align: right;\">\n",
       "      <th></th>\n",
       "      <th>country</th>\n",
       "      <th>total cases</th>\n",
       "      <th>new cases</th>\n",
       "      <th>total death</th>\n",
       "      <th>new death</th>\n",
       "      <th>total recovered</th>\n",
       "      <th>new recovered</th>\n",
       "      <th>active cases</th>\n",
       "      <th>critital</th>\n",
       "    </tr>\n",
       "  </thead>\n",
       "  <tbody>\n",
       "    <tr>\n",
       "      <th>0</th>\n",
       "      <td>False</td>\n",
       "      <td>False</td>\n",
       "      <td>False</td>\n",
       "      <td>False</td>\n",
       "      <td>False</td>\n",
       "      <td>False</td>\n",
       "      <td>False</td>\n",
       "      <td>False</td>\n",
       "      <td>False</td>\n",
       "    </tr>\n",
       "    <tr>\n",
       "      <th>1</th>\n",
       "      <td>False</td>\n",
       "      <td>False</td>\n",
       "      <td>True</td>\n",
       "      <td>False</td>\n",
       "      <td>True</td>\n",
       "      <td>False</td>\n",
       "      <td>True</td>\n",
       "      <td>False</td>\n",
       "      <td>False</td>\n",
       "    </tr>\n",
       "    <tr>\n",
       "      <th>2</th>\n",
       "      <td>False</td>\n",
       "      <td>False</td>\n",
       "      <td>False</td>\n",
       "      <td>False</td>\n",
       "      <td>False</td>\n",
       "      <td>False</td>\n",
       "      <td>False</td>\n",
       "      <td>False</td>\n",
       "      <td>False</td>\n",
       "    </tr>\n",
       "    <tr>\n",
       "      <th>3</th>\n",
       "      <td>False</td>\n",
       "      <td>False</td>\n",
       "      <td>True</td>\n",
       "      <td>False</td>\n",
       "      <td>True</td>\n",
       "      <td>False</td>\n",
       "      <td>False</td>\n",
       "      <td>False</td>\n",
       "      <td>False</td>\n",
       "    </tr>\n",
       "    <tr>\n",
       "      <th>4</th>\n",
       "      <td>False</td>\n",
       "      <td>False</td>\n",
       "      <td>False</td>\n",
       "      <td>False</td>\n",
       "      <td>False</td>\n",
       "      <td>False</td>\n",
       "      <td>True</td>\n",
       "      <td>False</td>\n",
       "      <td>False</td>\n",
       "    </tr>\n",
       "    <tr>\n",
       "      <th>...</th>\n",
       "      <td>...</td>\n",
       "      <td>...</td>\n",
       "      <td>...</td>\n",
       "      <td>...</td>\n",
       "      <td>...</td>\n",
       "      <td>...</td>\n",
       "      <td>...</td>\n",
       "      <td>...</td>\n",
       "      <td>...</td>\n",
       "    </tr>\n",
       "    <tr>\n",
       "      <th>225</th>\n",
       "      <td>False</td>\n",
       "      <td>False</td>\n",
       "      <td>False</td>\n",
       "      <td>False</td>\n",
       "      <td>True</td>\n",
       "      <td>False</td>\n",
       "      <td>False</td>\n",
       "      <td>False</td>\n",
       "      <td>True</td>\n",
       "    </tr>\n",
       "    <tr>\n",
       "      <th>226</th>\n",
       "      <td>False</td>\n",
       "      <td>False</td>\n",
       "      <td>True</td>\n",
       "      <td>False</td>\n",
       "      <td>True</td>\n",
       "      <td>False</td>\n",
       "      <td>True</td>\n",
       "      <td>False</td>\n",
       "      <td>True</td>\n",
       "    </tr>\n",
       "    <tr>\n",
       "      <th>227</th>\n",
       "      <td>False</td>\n",
       "      <td>False</td>\n",
       "      <td>True</td>\n",
       "      <td>False</td>\n",
       "      <td>True</td>\n",
       "      <td>False</td>\n",
       "      <td>True</td>\n",
       "      <td>False</td>\n",
       "      <td>True</td>\n",
       "    </tr>\n",
       "    <tr>\n",
       "      <th>228</th>\n",
       "      <td>False</td>\n",
       "      <td>False</td>\n",
       "      <td>True</td>\n",
       "      <td>False</td>\n",
       "      <td>True</td>\n",
       "      <td>False</td>\n",
       "      <td>True</td>\n",
       "      <td>False</td>\n",
       "      <td>True</td>\n",
       "    </tr>\n",
       "    <tr>\n",
       "      <th>229</th>\n",
       "      <td>False</td>\n",
       "      <td>False</td>\n",
       "      <td>False</td>\n",
       "      <td>False</td>\n",
       "      <td>True</td>\n",
       "      <td>False</td>\n",
       "      <td>False</td>\n",
       "      <td>False</td>\n",
       "      <td>False</td>\n",
       "    </tr>\n",
       "  </tbody>\n",
       "</table>\n",
       "<p>230 rows × 9 columns</p>\n",
       "</div>"
      ],
      "text/plain": [
       "     country  total cases  new cases  total death  new death  total recovered  \\\n",
       "0      False        False      False        False      False            False   \n",
       "1      False        False       True        False       True            False   \n",
       "2      False        False      False        False      False            False   \n",
       "3      False        False       True        False       True            False   \n",
       "4      False        False      False        False      False            False   \n",
       "..       ...          ...        ...          ...        ...              ...   \n",
       "225    False        False      False        False       True            False   \n",
       "226    False        False       True        False       True            False   \n",
       "227    False        False       True        False       True            False   \n",
       "228    False        False       True        False       True            False   \n",
       "229    False        False      False        False       True            False   \n",
       "\n",
       "     new recovered  active cases  critital  \n",
       "0            False         False     False  \n",
       "1             True         False     False  \n",
       "2            False         False     False  \n",
       "3            False         False     False  \n",
       "4             True         False     False  \n",
       "..             ...           ...       ...  \n",
       "225          False         False      True  \n",
       "226           True         False      True  \n",
       "227           True         False      True  \n",
       "228           True         False      True  \n",
       "229          False         False     False  \n",
       "\n",
       "[230 rows x 9 columns]"
      ]
     },
     "execution_count": 7,
     "metadata": {},
     "output_type": "execute_result"
    }
   ],
   "source": [
    "df.isna() # True if missing else False"
   ]
  },
  {
   "cell_type": "code",
   "execution_count": 8,
   "id": "322f5dd2",
   "metadata": {},
   "outputs": [
    {
     "data": {
      "text/plain": [
       "0"
      ]
     },
     "execution_count": 8,
     "metadata": {},
     "output_type": "execute_result"
    }
   ],
   "source": [
    "False + False"
   ]
  },
  {
   "cell_type": "code",
   "execution_count": 9,
   "id": "6f2a225b",
   "metadata": {},
   "outputs": [
    {
     "data": {
      "text/plain": [
       "2"
      ]
     },
     "execution_count": 9,
     "metadata": {},
     "output_type": "execute_result"
    }
   ],
   "source": [
    "True + True"
   ]
  },
  {
   "cell_type": "code",
   "execution_count": 11,
   "id": "fb255802",
   "metadata": {},
   "outputs": [],
   "source": [
    "missing = df.isna().sum()"
   ]
  },
  {
   "cell_type": "code",
   "execution_count": 12,
   "id": "63d71a39",
   "metadata": {},
   "outputs": [
    {
     "data": {
      "text/plain": [
       "country              0\n",
       "total cases          0\n",
       "new cases          145\n",
       "total death          0\n",
       "new death          188\n",
       "total recovered     20\n",
       "new recovered      154\n",
       "active cases        19\n",
       "critital            91\n",
       "dtype: int64"
      ]
     },
     "execution_count": 12,
     "metadata": {},
     "output_type": "execute_result"
    }
   ],
   "source": [
    "missing"
   ]
  },
  {
   "cell_type": "code",
   "execution_count": 13,
   "id": "3c84e58d",
   "metadata": {},
   "outputs": [
    {
     "data": {
      "text/plain": [
       "<AxesSubplot:>"
      ]
     },
     "execution_count": 13,
     "metadata": {},
     "output_type": "execute_result"
    },
    {
     "data": {
      "image/png": "[encoded data removed]",
      "text/plain": [
       "<Figure size 432x288 with 1 Axes>"
      ]
     },
     "metadata": {
      "needs_background": "light"
     },
     "output_type": "display_data"
    }
   ],
   "source": [
    "missing.plot.bar() # pandas barplot"
   ]
  },
  {
   "cell_type": "code",
   "execution_count": 15,
   "id": "19ceafb6",
   "metadata": {},
   "outputs": [
    {
     "data": {
      "text/plain": [
       "pandas.core.series.Series"
      ]
     },
     "execution_count": 15,
     "metadata": {},
     "output_type": "execute_result"
    }
   ],
   "source": [
    "type(missing)"
   ]
  },
  {
   "cell_type": "markdown",
   "id": "322fa7c5",
   "metadata": {},
   "source": [
    "# accessing index and values of pandas series"
   ]
  },
  {
   "cell_type": "code",
   "execution_count": 16,
   "id": "11cef813",
   "metadata": {},
   "outputs": [
    {
     "data": {
      "text/plain": [
       "Index(['country', 'total cases', 'new cases', 'total death', 'new death',\n",
       "       'total recovered', 'new recovered', 'active cases', 'critital'],\n",
       "      dtype='object')"
      ]
     },
     "execution_count": 16,
     "metadata": {},
     "output_type": "execute_result"
    }
   ],
   "source": [
    "missing.index"
   ]
  },
  {
   "cell_type": "code",
   "execution_count": 17,
   "id": "9ae83eb8",
   "metadata": {},
   "outputs": [
    {
     "data": {
      "text/plain": [
       "array([  0,   0, 145,   0, 188,  20, 154,  19,  91])"
      ]
     },
     "execution_count": 17,
     "metadata": {},
     "output_type": "execute_result"
    }
   ],
   "source": [
    "missing.values"
   ]
  },
  {
   "cell_type": "code",
   "execution_count": 14,
   "id": "9ef64198",
   "metadata": {},
   "outputs": [],
   "source": [
    "import matplotlib.pyplot as plt\n",
    "import seaborn as sns"
   ]
  },
  {
   "cell_type": "code",
   "execution_count": 18,
   "id": "bf2ade4c",
   "metadata": {},
   "outputs": [
    {
     "data": {
      "text/plain": [
       "<BarContainer object of 9 artists>"
      ]
     },
     "execution_count": 18,
     "metadata": {},
     "output_type": "execute_result"
    },
    {
     "data": {
      "image/png": "[encoded data removed]",
      "text/plain": [
       "<Figure size 432x288 with 1 Axes>"
      ]
     },
     "metadata": {
      "needs_background": "light"
     },
     "output_type": "display_data"
    }
   ],
   "source": [
    "plt.bar(x = missing.index, height = missing.values)"
   ]
  },
  {
   "cell_type": "markdown",
   "id": "35b9865d",
   "metadata": {},
   "source": [
    "#  Increase figuresize in matplotlib"
   ]
  },
  {
   "cell_type": "code",
   "execution_count": 21,
   "id": "5f216d5a",
   "metadata": {},
   "outputs": [
    {
     "data": {
      "text/plain": [
       "<BarContainer object of 9 artists>"
      ]
     },
     "execution_count": 21,
     "metadata": {},
     "output_type": "execute_result"
    },
    {
     "data": {
      "image/png": "[encoded data removed]",
      "text/plain": [
       "<Figure size 1080x360 with 1 Axes>"
      ]
     },
     "metadata": {
      "needs_background": "light"
     },
     "output_type": "display_data"
    }
   ],
   "source": [
    "plt.figure(figsize = (15, 5))\n",
    "plt.bar(x = missing.index, height = missing.values)"
   ]
  },
  {
   "cell_type": "code",
   "execution_count": 23,
   "id": "c2c39615",
   "metadata": {},
   "outputs": [
    {
     "data": {
      "text/plain": [
       "<AxesSubplot:>"
      ]
     },
     "execution_count": 23,
     "metadata": {},
     "output_type": "execute_result"
    },
    {
     "data": {
      "image/png": "[encoded data removed]",
      "text/plain": [
       "<Figure size 1080x360 with 1 Axes>"
      ]
     },
     "metadata": {
      "needs_background": "light"
     },
     "output_type": "display_data"
    }
   ],
   "source": [
    "plt.figure(figsize = (15, 5))\n",
    "sns.barplot(x = missing.index , y = missing.values)"
   ]
  },
  {
   "cell_type": "markdown",
   "id": "bd4d1a6a",
   "metadata": {},
   "source": [
    "# Missing data can also be shown on heatmap"
   ]
  },
  {
   "cell_type": "code",
   "execution_count": 30,
   "id": "5ab7d5cf",
   "metadata": {},
   "outputs": [
    {
     "data": {
      "text/plain": [
       "<AxesSubplot:>"
      ]
     },
     "execution_count": 30,
     "metadata": {},
     "output_type": "execute_result"
    },
    {
     "data": {
      "image/png": "[encoded data removed]",
      "text/plain": [
       "<Figure size 1080x576 with 2 Axes>"
      ]
     },
     "metadata": {
      "needs_background": "light"
     },
     "output_type": "display_data"
    }
   ],
   "source": [
    "plt.figure(figsize = (15, 8))\n",
    "sns.heatmap(df.isna().transpose())"
   ]
  },
  {
   "cell_type": "code",
   "execution_count": null,
   "id": "0e632be5",
   "metadata": {},
   "outputs": [],
   "source": []
  }
 ],
 "metadata": {
  "kernelspec": {
   "display_name": "Python 3 (ipykernel)",
   "language": "python",
   "name": "python3"
  },
  "language_info": {
   "codemirror_mode": {
    "name": "ipython",
    "version": 3
   },
   "file_extension": ".py",
   "mimetype": "text/x-python",
   "name": "python",
   "nbconvert_exporter": "python",
   "pygments_lexer": "ipython3",
   "version": "3.10.7"
  }
 },
 "nbformat": 4,
 "nbformat_minor": 5
}
