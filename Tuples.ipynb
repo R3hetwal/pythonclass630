{
 "cells": [
  {
   "cell_type": "code",
   "execution_count": 1,
   "id": "f7f49500",
   "metadata": {},
   "outputs": [],
   "source": [
    "# initialise empty tuple\n",
    "\n",
    "a = tuple()    # tuple constructore creates tuple object"
   ]
  },
  {
   "cell_type": "code",
   "execution_count": 2,
   "id": "c360ce4c",
   "metadata": {},
   "outputs": [
    {
     "data": {
      "text/plain": [
       "()"
      ]
     },
     "execution_count": 2,
     "metadata": {},
     "output_type": "execute_result"
    }
   ],
   "source": [
    "a"
   ]
  },
  {
   "cell_type": "code",
   "execution_count": 3,
   "id": "bbd1322a",
   "metadata": {},
   "outputs": [
    {
     "data": {
      "text/plain": [
       "tuple"
      ]
     },
     "execution_count": 3,
     "metadata": {},
     "output_type": "execute_result"
    }
   ],
   "source": [
    "type(a)"
   ]
  },
  {
   "cell_type": "code",
   "execution_count": 4,
   "id": "4af866ad",
   "metadata": {},
   "outputs": [],
   "source": [
    "fruits = ('apple', 'banana', 'mango')"
   ]
  },
  {
   "cell_type": "code",
   "execution_count": 6,
   "id": "61b29c9e",
   "metadata": {},
   "outputs": [
    {
     "data": {
      "text/plain": [
       "tuple"
      ]
     },
     "execution_count": 6,
     "metadata": {},
     "output_type": "execute_result"
    }
   ],
   "source": [
    "type(fruits)"
   ]
  },
  {
   "cell_type": "code",
   "execution_count": 7,
   "id": "ab033a86",
   "metadata": {},
   "outputs": [
    {
     "data": {
      "text/plain": [
       "'apple'"
      ]
     },
     "execution_count": 7,
     "metadata": {},
     "output_type": "execute_result"
    }
   ],
   "source": [
    "fruits[0]    # positive indexing"
   ]
  },
  {
   "cell_type": "code",
   "execution_count": 8,
   "id": "49022a72",
   "metadata": {},
   "outputs": [
    {
     "data": {
      "text/plain": [
       "'mango'"
      ]
     },
     "execution_count": 8,
     "metadata": {},
     "output_type": "execute_result"
    }
   ],
   "source": [
    "fruits[-1]    # negative indexing"
   ]
  },
  {
   "cell_type": "code",
   "execution_count": 9,
   "id": "91ebf5ce",
   "metadata": {},
   "outputs": [
    {
     "data": {
      "text/plain": [
       "('banana', 'mango')"
      ]
     },
     "execution_count": 9,
     "metadata": {},
     "output_type": "execute_result"
    }
   ],
   "source": [
    "fruits[1:]    # slicing "
   ]
  },
  {
   "cell_type": "markdown",
   "id": "5851c32f",
   "metadata": {},
   "source": [
    "## tuple are immutable"
   ]
  },
  {
   "cell_type": "code",
   "execution_count": 10,
   "id": "2346dc3e",
   "metadata": {},
   "outputs": [
    {
     "name": "stdout",
     "output_type": "stream",
     "text": [
      "Type: <class 'list'>\n",
      "['apple', 'cherry', 'mango']\n"
     ]
    }
   ],
   "source": [
    "# for list\n",
    "\n",
    "fruits = ['apple', 'banana', 'mango']\n",
    "print(f'Type: {type(fruits)}')\n",
    "\n",
    "fruits[1] = 'cherry'    # list are mutable\n",
    "print(fruits)"
   ]
  },
  {
   "cell_type": "code",
   "execution_count": 13,
   "id": "3438f12c",
   "metadata": {},
   "outputs": [
    {
     "name": "stdout",
     "output_type": "stream",
     "text": [
      "Type: <class 'tuple'>\n"
     ]
    }
   ],
   "source": [
    "# for tuple\n",
    "\n",
    "fruits = ('apple', 'banana', 'mango')\n",
    "print(f'Type: {type(fruits)}')"
   ]
  },
  {
   "cell_type": "code",
   "execution_count": 14,
   "id": "c853907c",
   "metadata": {},
   "outputs": [
    {
     "ename": "TypeError",
     "evalue": "'tuple' object does not support item assignment",
     "output_type": "error",
     "traceback": [
      "\u001b[0;31m---------------------------------------------------------------------------\u001b[0m",
      "\u001b[0;31mTypeError\u001b[0m                                 Traceback (most recent call last)",
      "Cell \u001b[0;32mIn [14], line 1\u001b[0m\n\u001b[0;32m----> 1\u001b[0m \u001b[43mfruits\u001b[49m\u001b[43m[\u001b[49m\u001b[38;5;241;43m1\u001b[39;49m\u001b[43m]\u001b[49m \u001b[38;5;241m=\u001b[39m \u001b[38;5;124m'\u001b[39m\u001b[38;5;124mcherry\u001b[39m\u001b[38;5;124m'\u001b[39m    \u001b[38;5;66;03m# tuples are immutable\u001b[39;00m\n",
      "\u001b[0;31mTypeError\u001b[0m: 'tuple' object does not support item assignment"
     ]
    }
   ],
   "source": [
    "fruits[1] = 'cherry'    # tuples are immutable"
   ]
  },
  {
   "cell_type": "code",
   "execution_count": 23,
   "id": "07727175",
   "metadata": {},
   "outputs": [],
   "source": [
    "# type cast tuple to list\n",
    "fruits = list(fruits)"
   ]
  },
  {
   "cell_type": "code",
   "execution_count": 24,
   "id": "88d74439",
   "metadata": {},
   "outputs": [
    {
     "data": {
      "text/plain": [
       "['apple', 'banana', 'mango']"
      ]
     },
     "execution_count": 24,
     "metadata": {},
     "output_type": "execute_result"
    }
   ],
   "source": [
    "fruits    # type is list"
   ]
  },
  {
   "cell_type": "code",
   "execution_count": 26,
   "id": "a73892d2",
   "metadata": {},
   "outputs": [],
   "source": [
    "fruits.append('cherry')"
   ]
  },
  {
   "cell_type": "code",
   "execution_count": 27,
   "id": "bd6211d3",
   "metadata": {},
   "outputs": [
    {
     "name": "stdout",
     "output_type": "stream",
     "text": [
      "('apple', 'banana', 'mango', 'cherry')\n"
     ]
    }
   ],
   "source": [
    "fruits = tuple(fruits)\n",
    "print(fruits)"
   ]
  },
  {
   "cell_type": "markdown",
   "id": "3e214244",
   "metadata": {},
   "source": [
    "## loops in tuple"
   ]
  },
  {
   "cell_type": "code",
   "execution_count": 28,
   "id": "6bcd0cfa",
   "metadata": {},
   "outputs": [
    {
     "name": "stdout",
     "output_type": "stream",
     "text": [
      "apple\n",
      "banana\n",
      "mango\n"
     ]
    }
   ],
   "source": [
    "fruits = ('apple', 'banana', 'mango')\n",
    "for item in fruits:\n",
    "    print(item)"
   ]
  },
  {
   "cell_type": "code",
   "execution_count": 29,
   "id": "2da93a9a",
   "metadata": {},
   "outputs": [
    {
     "name": "stdout",
     "output_type": "stream",
     "text": [
      "apple\n",
      "banana\n",
      "mango\n"
     ]
    }
   ],
   "source": [
    "for index in range(len(fruits)):\n",
    "    item = fruits[index]\n",
    "    print(item)"
   ]
  },
  {
   "cell_type": "code",
   "execution_count": 30,
   "id": "f526f53d",
   "metadata": {},
   "outputs": [
    {
     "name": "stdout",
     "output_type": "stream",
     "text": [
      "The original list is : [(1, 4, 5), (7, 8), (2, 4, 10)]\n"
     ]
    }
   ],
   "source": [
    "test_list = [(1, 4, 5), (7, 8), (2, 4, 10)]\n",
    "print(\"The original list is : \" + str(test_list))"
   ]
  },
  {
   "cell_type": "code",
   "execution_count": 35,
   "id": "6787efe7",
   "metadata": {},
   "outputs": [
    {
     "name": "stdout",
     "output_type": "stream",
     "text": [
      "The mean of tuple list is : 13.666666666666666\n"
     ]
    }
   ],
   "source": [
    "sum = 0\n",
    "for sub in test_list:\n",
    "    for i in sub:\n",
    "        sum = sum + i\n",
    "        \n",
    "total = sum / len(test_list)\n",
    "print(\"The mean of tuple list is : \" + str(total))"
   ]
  },
  {
   "cell_type": "code",
   "execution_count": 34,
   "id": "1bbf7b64",
   "metadata": {},
   "outputs": [
    {
     "name": "stdout",
     "output_type": "stream",
     "text": [
      "The mean value of data is 3.83\n"
     ]
    }
   ],
   "source": [
    "data = (9, 2, 2, 1, 0, 9)\n",
    "\n",
    "total = 0\n",
    "for item in data:\n",
    "    total = total + item\n",
    "\n",
    "mean = total/len(data)\n",
    "\n",
    "print(f'The mean value of data is {round(mean, 2)}')"
   ]
  }
 ],
 "metadata": {
  "kernelspec": {
   "display_name": "Python 3 (ipykernel)",
   "language": "python",
   "name": "python3"
  },
  "language_info": {
   "codemirror_mode": {
    "name": "ipython",
    "version": 3
   },
   "file_extension": ".py",
   "mimetype": "text/x-python",
   "name": "python",
   "nbconvert_exporter": "python",
   "pygments_lexer": "ipython3",
   "version": "3.10.7"
  }
 },
 "nbformat": 4,
 "nbformat_minor": 5
}
