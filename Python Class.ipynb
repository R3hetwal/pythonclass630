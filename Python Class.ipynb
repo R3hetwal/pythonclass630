{
 "cells": [
  {
   "cell_type": "markdown",
   "id": "ca9262dc",
   "metadata": {},
   "source": [
    "## Creating empty class"
   ]
  },
  {
   "cell_type": "code",
   "execution_count": 1,
   "id": "9c35e810",
   "metadata": {},
   "outputs": [],
   "source": [
    "class Person:    # blueprint to create object\n",
    "    pass"
   ]
  },
  {
   "cell_type": "markdown",
   "id": "c8c134dc",
   "metadata": {},
   "source": [
    "## Creating object from a class"
   ]
  },
  {
   "cell_type": "code",
   "execution_count": 2,
   "id": "bde6c049",
   "metadata": {},
   "outputs": [],
   "source": [
    "p = Person()"
   ]
  },
  {
   "cell_type": "code",
   "execution_count": 3,
   "id": "56bf3b02",
   "metadata": {},
   "outputs": [
    {
     "data": {
      "text/plain": [
       "__main__.Person"
      ]
     },
     "execution_count": 3,
     "metadata": {},
     "output_type": "execute_result"
    }
   ],
   "source": [
    "type(p)"
   ]
  },
  {
   "cell_type": "code",
   "execution_count": 6,
   "id": "b383887d",
   "metadata": {},
   "outputs": [
    {
     "name": "stdout",
     "output_type": "stream",
     "text": [
      "5\n"
     ]
    }
   ],
   "source": [
    "if __name__ == \"__main__\": # entry point of python program\n",
    "    a = 5\n",
    "    print(a)"
   ]
  },
  {
   "cell_type": "markdown",
   "id": "0f7ad411",
   "metadata": {},
   "source": [
    "## class attribute vs object attribute"
   ]
  },
  {
   "cell_type": "code",
   "execution_count": 7,
   "id": "c5457c74",
   "metadata": {},
   "outputs": [],
   "source": [
    "class Mammal:\n",
    "    has_hair = True    # class attribute"
   ]
  },
  {
   "cell_type": "code",
   "execution_count": 8,
   "id": "c767941a",
   "metadata": {},
   "outputs": [],
   "source": [
    "class Mammal:\n",
    "    has_hair = True    # class attribute\n",
    "    lay_eggs = False   # class attribute"
   ]
  },
  {
   "cell_type": "code",
   "execution_count": 9,
   "id": "21bba9e4",
   "metadata": {},
   "outputs": [],
   "source": [
    "cow = Mammal()   # object"
   ]
  },
  {
   "cell_type": "code",
   "execution_count": 10,
   "id": "4d04625f",
   "metadata": {},
   "outputs": [
    {
     "data": {
      "text/plain": [
       "True"
      ]
     },
     "execution_count": 10,
     "metadata": {},
     "output_type": "execute_result"
    }
   ],
   "source": [
    "cow.has_hair"
   ]
  },
  {
   "cell_type": "code",
   "execution_count": 11,
   "id": "9f3bbceb",
   "metadata": {},
   "outputs": [
    {
     "data": {
      "text/plain": [
       "False"
      ]
     },
     "execution_count": 11,
     "metadata": {},
     "output_type": "execute_result"
    }
   ],
   "source": [
    "cow.lay_eggs"
   ]
  },
  {
   "cell_type": "code",
   "execution_count": 12,
   "id": "91cc68ae",
   "metadata": {},
   "outputs": [],
   "source": [
    "human = Mammal()  # you can create as many object you want from the class"
   ]
  },
  {
   "cell_type": "code",
   "execution_count": 14,
   "id": "c17298f4",
   "metadata": {},
   "outputs": [
    {
     "data": {
      "text/plain": [
       "True"
      ]
     },
     "execution_count": 14,
     "metadata": {},
     "output_type": "execute_result"
    }
   ],
   "source": [
    "human.has_hair   # class attribute value is same for all object"
   ]
  },
  {
   "cell_type": "code",
   "execution_count": 15,
   "id": "f07a472a",
   "metadata": {},
   "outputs": [
    {
     "data": {
      "text/plain": [
       "False"
      ]
     },
     "execution_count": 15,
     "metadata": {},
     "output_type": "execute_result"
    }
   ],
   "source": [
    "human.lay_eggs    # class attribute value is same for all object"
   ]
  },
  {
   "cell_type": "markdown",
   "id": "202e6fdf",
   "metadata": {},
   "source": [
    "## Creating instance attribute"
   ]
  },
  {
   "cell_type": "code",
   "execution_count": 45,
   "id": "22a91f14",
   "metadata": {},
   "outputs": [],
   "source": [
    "class Mammal:\n",
    "    has_hair = True    # class attribute\n",
    "    \n",
    "    # object attribute initialse garna init function chainxa\n",
    "    # self le jun sukai object banaeni chinauxa. Foe eg: human ko no_of_legs vanya user le deko input hunxa\n",
    "    # __init__ is object and attribute initializer\n",
    "    \n",
    "    def __init__ (self, no_of_legs):         # self should be passed as first argument\n",
    "        self.no_of_legs = no_of_legs    # self is an object"
   ]
  },
  {
   "cell_type": "code",
   "execution_count": 46,
   "id": "8911856b",
   "metadata": {},
   "outputs": [],
   "source": [
    "cow = Mammal(4)"
   ]
  },
  {
   "cell_type": "code",
   "execution_count": 47,
   "id": "147194f4",
   "metadata": {},
   "outputs": [
    {
     "data": {
      "text/plain": [
       "4"
      ]
     },
     "execution_count": 47,
     "metadata": {},
     "output_type": "execute_result"
    }
   ],
   "source": [
    "cow.no_of_legs"
   ]
  },
  {
   "cell_type": "code",
   "execution_count": 48,
   "id": "17c16d10",
   "metadata": {},
   "outputs": [],
   "source": [
    "human = Mammal(2)"
   ]
  },
  {
   "cell_type": "code",
   "execution_count": 49,
   "id": "6cdb8512",
   "metadata": {},
   "outputs": [
    {
     "data": {
      "text/plain": [
       "2"
      ]
     },
     "execution_count": 49,
     "metadata": {},
     "output_type": "execute_result"
    }
   ],
   "source": [
    "human.no_of_legs"
   ]
  },
  {
   "cell_type": "code",
   "execution_count": 50,
   "id": "ecf9d2ab",
   "metadata": {},
   "outputs": [],
   "source": [
    "class Reptiles:\n",
    "    lay_eggs = True\n",
    " \n",
    "    def __init__(self, color):\n",
    "        print(type(self))\n",
    "        self.color = color"
   ]
  },
  {
   "cell_type": "code",
   "execution_count": 51,
   "id": "cf51a28f",
   "metadata": {},
   "outputs": [
    {
     "name": "stdout",
     "output_type": "stream",
     "text": [
      "<class '__main__.Reptiles'>\n"
     ]
    }
   ],
   "source": [
    "lizard = Reptiles('red')"
   ]
  },
  {
   "cell_type": "code",
   "execution_count": 52,
   "id": "9dd225a2",
   "metadata": {},
   "outputs": [
    {
     "data": {
      "text/plain": [
       "<__main__.Reptiles at 0x7fdc1478c9d0>"
      ]
     },
     "execution_count": 52,
     "metadata": {},
     "output_type": "execute_result"
    }
   ],
   "source": [
    "lizard"
   ]
  },
  {
   "cell_type": "code",
   "execution_count": 53,
   "id": "99f18e21",
   "metadata": {},
   "outputs": [
    {
     "data": {
      "text/plain": [
       "'red'"
      ]
     },
     "execution_count": 53,
     "metadata": {},
     "output_type": "execute_result"
    }
   ],
   "source": [
    "lizard.color"
   ]
  },
  {
   "cell_type": "code",
   "execution_count": 54,
   "id": "22c0256a",
   "metadata": {},
   "outputs": [
    {
     "name": "stdout",
     "output_type": "stream",
     "text": [
      "<class '__main__.Reptiles'>\n"
     ]
    },
    {
     "data": {
      "text/plain": [
       "<__main__.Reptiles at 0x7fdc1478cbe0>"
      ]
     },
     "execution_count": 54,
     "metadata": {},
     "output_type": "execute_result"
    }
   ],
   "source": [
    "snake = Reptiles('black')    # object are stored in separate memory location\n",
    "snake"
   ]
  },
  {
   "cell_type": "markdown",
   "id": "1d34b5de",
   "metadata": {},
   "source": [
    "# Object Methods in class"
   ]
  },
  {
   "cell_type": "code",
   "execution_count": 2,
   "id": "de29a8ab",
   "metadata": {},
   "outputs": [],
   "source": [
    "class Person:\n",
    "    def __init__(self, age):\n",
    "        self.age = age\n",
    "    \n",
    "    def display_age(self):    \n",
    "        print(f\"The object age is {self.age}\")"
   ]
  },
  {
   "cell_type": "code",
   "execution_count": 3,
   "id": "d8c06855",
   "metadata": {},
   "outputs": [],
   "source": [
    "p = Person(24)"
   ]
  },
  {
   "cell_type": "code",
   "execution_count": 5,
   "id": "4b0ca77e",
   "metadata": {},
   "outputs": [
    {
     "name": "stdout",
     "output_type": "stream",
     "text": [
      "The object age is 24\n"
     ]
    }
   ],
   "source": [
    "p.display_age()"
   ]
  },
  {
   "cell_type": "code",
   "execution_count": null,
   "id": "a563a447",
   "metadata": {},
   "outputs": [],
   "source": []
  }
 ],
 "metadata": {
  "kernelspec": {
   "display_name": "Python 3 (ipykernel)",
   "language": "python",
   "name": "python3"
  },
  "language_info": {
   "codemirror_mode": {
    "name": "ipython",
    "version": 3
   },
   "file_extension": ".py",
   "mimetype": "text/x-python",
   "name": "python",
   "nbconvert_exporter": "python",
   "pygments_lexer": "ipython3",
   "version": "3.10.7"
  }
 },
 "nbformat": 4,
 "nbformat_minor": 5
}
