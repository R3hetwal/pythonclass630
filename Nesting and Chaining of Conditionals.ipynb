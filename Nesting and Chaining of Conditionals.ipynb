{
 "cells": [
  {
   "cell_type": "markdown",
   "id": "d3d0877c",
   "metadata": {},
   "source": [
    "* WAP to check if the user input is zero, positive and negative, and print respective message."
   ]
  },
  {
   "cell_type": "code",
   "execution_count": 4,
   "id": "97285e6a",
   "metadata": {},
   "outputs": [
    {
     "name": "stdout",
     "output_type": "stream",
     "text": [
      "Enter a number of your choice: 8\n",
      "The number is positive.\n"
     ]
    }
   ],
   "source": [
    "user_input = int(input(\"Enter a number of your choice: \"))\n",
    "\n",
    "if user_input == 0:\n",
    "    print(\"The number is zero.\")\n",
    "    \n",
    "if user_input < 0:\n",
    "    print(\"The number is negative.\")\n",
    "    \n",
    "if user_input > 0:\n",
    "    print(\"The number is positive.\")"
   ]
  },
  {
   "cell_type": "code",
   "execution_count": 5,
   "id": "c0a20962",
   "metadata": {},
   "outputs": [
    {
     "name": "stdout",
     "output_type": "stream",
     "text": [
      "Enter a number of your choice: 0\n",
      "The number is zero.\n",
      "The number is positive.\n"
     ]
    }
   ],
   "source": [
    "user_input = int(input(\"Enter a number of your choice: \"))\n",
    "\n",
    "if user_input == 0:\n",
    "    print(\"The number is zero.\")\n",
    "    \n",
    "if user_input < 0:\n",
    "    print(\"The number is negative.\")\n",
    "    \n",
    "if user_input >= 0:    # prints positive if number is greater or equals to zero.\n",
    "    print(\"The number is positive.\")"
   ]
  },
  {
   "cell_type": "markdown",
   "id": "0d3e4238",
   "metadata": {},
   "source": [
    "# Nesting of Conditionals"
   ]
  },
  {
   "cell_type": "code",
   "execution_count": 8,
   "id": "706e3f27",
   "metadata": {},
   "outputs": [
    {
     "name": "stdout",
     "output_type": "stream",
     "text": [
      "Enter a number of your choice: 45\n",
      "The number is positive.\n"
     ]
    }
   ],
   "source": [
    "user_input = int(input(\"Enter a number of your choice: \"))\n",
    "\n",
    "if user_input < 0:\n",
    "    print(\"The number is negative.\")\n",
    "    \n",
    "else: \n",
    "    # if the number is not negative, we should check if it is zero or positive.\n",
    "    if user_input == 0:\n",
    "        print(\"The number is zero.\")\n",
    "    \n",
    "    else:\n",
    "        print(\"The number is positive.\")"
   ]
  },
  {
   "cell_type": "markdown",
   "id": "0fe187fe",
   "metadata": {},
   "source": [
    "# Chained Conditionals\n",
    "* if...elif...else statements on python\n",
    "\n",
    "```python\n",
    "\n",
    "if condition:\n",
    "    # if block of code\n",
    "    \n",
    "elif condition:\n",
    "    # elif block of code\n",
    "  \n",
    "elif condition:\n",
    "    # elif block of code\n",
    "    \n",
    "else:\n",
    "    # else block of code\n",
    "```"
   ]
  },
  {
   "cell_type": "code",
   "execution_count": 9,
   "id": "a59aff09",
   "metadata": {},
   "outputs": [
    {
     "name": "stdout",
     "output_type": "stream",
     "text": [
      "Enter any number of your choice: 20\n",
      "The number is positive.\n"
     ]
    }
   ],
   "source": [
    "user_input = int(input(\"Enter any number of your choice: \"))\n",
    "\n",
    "if user_input == 0:\n",
    "    print(\"The number is zero.\")\n",
    "\n",
    "elif user_input < 0:\n",
    "    print(\"The number is negative.\")\n",
    "    \n",
    "else:\n",
    "    print(\"The number is positive.\")"
   ]
  }
 ],
 "metadata": {
  "kernelspec": {
   "display_name": "Python 3 (ipykernel)",
   "language": "python",
   "name": "python3"
  },
  "language_info": {
   "codemirror_mode": {
    "name": "ipython",
    "version": 3
   },
   "file_extension": ".py",
   "mimetype": "text/x-python",
   "name": "python",
   "nbconvert_exporter": "python",
   "pygments_lexer": "ipython3",
   "version": "3.10.7"
  }
 },
 "nbformat": 4,
 "nbformat_minor": 5
}
