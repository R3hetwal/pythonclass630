{
 "cells": [
  {
   "cell_type": "markdown",
   "id": "7522dd37",
   "metadata": {},
   "source": [
    "## Write a python function to calculate the factorial of a non-negative integer"
   ]
  },
  {
   "cell_type": "code",
   "execution_count": 6,
   "id": "f83682fb",
   "metadata": {},
   "outputs": [
    {
     "name": "stdout",
     "output_type": "stream",
     "text": [
      "Input a number to compute the factiorial: 1\n",
      "1\n"
     ]
    }
   ],
   "source": [
    "def factorial(n):\n",
    "    if n == 0:\n",
    "        return 1\n",
    "    \n",
    "    else:\n",
    "        return n * factorial(n-1)\n",
    "    \n",
    "n = int(input(\"Input a number to compute the factiorial: \"))\n",
    "print(factorial(n))\n"
   ]
  },
  {
   "cell_type": "code",
   "execution_count": 1,
   "id": "71bfc52e",
   "metadata": {},
   "outputs": [],
   "source": [
    "def fact(num):\n",
    "    fact = 1\n",
    "    \n",
    "    for item in range(1, num + 1):\n",
    "        fact = fact + item\n",
    "    \n",
    "    return fact\n",
    "        "
   ]
  },
  {
   "cell_type": "code",
   "execution_count": 2,
   "id": "d9563f71",
   "metadata": {},
   "outputs": [
    {
     "data": {
      "text/plain": [
       "2"
      ]
     },
     "execution_count": 2,
     "metadata": {},
     "output_type": "execute_result"
    }
   ],
   "source": [
    "fact(1)"
   ]
  },
  {
   "cell_type": "code",
   "execution_count": 3,
   "id": "44958148",
   "metadata": {},
   "outputs": [
    {
     "data": {
      "text/plain": [
       "4"
      ]
     },
     "execution_count": 3,
     "metadata": {},
     "output_type": "execute_result"
    }
   ],
   "source": [
    "fact(2)"
   ]
  },
  {
   "cell_type": "markdown",
   "id": "aaf9f29e",
   "metadata": {},
   "source": [
    "## Write a function to check if the given input number is prime or not. If prime return true else return false."
   ]
  },
  {
   "cell_type": "code",
   "execution_count": 2,
   "id": "0e523a94",
   "metadata": {},
   "outputs": [
    {
     "name": "stdout",
     "output_type": "stream",
     "text": [
      "Input a number to check if it is prime or not: 15\n",
      "False\n"
     ]
    }
   ],
   "source": [
    "def test_prime(n):\n",
    "    \n",
    "    if (n == 1 ):\n",
    "        return False\n",
    "    \n",
    "    elif (n == 2):\n",
    "        return True\n",
    "    \n",
    "    else:\n",
    "        for x in range(2, n):\n",
    "            \n",
    "            if(n % x == 0):\n",
    "                return False\n",
    "            \n",
    "        return True  \n",
    "    \n",
    "n = int(input(\"Input a number to check if it is prime or not: \"))  \n",
    "print(test_prime(n))\n"
   ]
  },
  {
   "cell_type": "markdown",
   "id": "3e98b03f",
   "metadata": {},
   "source": [
    "## Write a python function that takes a list and returns a new list with unique elements of the first list."
   ]
  },
  {
   "cell_type": "code",
   "execution_count": 4,
   "id": "3bc06c2c",
   "metadata": {},
   "outputs": [
    {
     "name": "stdout",
     "output_type": "stream",
     "text": [
      "[1, 2, 3, 4, 5]\n"
     ]
    }
   ],
   "source": [
    "def unique_list(l):\n",
    "  x = []\n",
    "\n",
    "  for a in l:\n",
    "        \n",
    "    if a not in x:\n",
    "      x.append(a)\n",
    "    \n",
    "  return x\n",
    "\n",
    "print(unique_list([1, 2, 3, 3, 3, 3, 4, 5])) "
   ]
  },
  {
   "cell_type": "markdown",
   "id": "2ff1d290",
   "metadata": {},
   "source": [
    "## Write a python function that accepts a string and calculates the number of upper-case letters and lower-case letters.\n"
   ]
  },
  {
   "cell_type": "code",
   "execution_count": null,
   "id": "7b95e99c",
   "metadata": {},
   "outputs": [],
   "source": []
  },
  {
   "cell_type": "code",
   "execution_count": 3,
   "id": "e223a91a",
   "metadata": {},
   "outputs": [
    {
     "name": "stdout",
     "output_type": "stream",
     "text": [
      "Enter a string: Hey! How you doi'n?\n",
      "Lower case characters = 11\n",
      "Upper case characters = 2\n"
     ]
    }
   ],
   "source": [
    "def string_test(string):\n",
    "    upper = 0\n",
    "    lower = 0\n",
    " \n",
    "    for i in range(len(string)):\n",
    "         \n",
    "        \"\"\" ord() function returns the Unicode code from a given character. This function accepts a string of \n",
    "            unit length as an argument and returns the Unicode equivalence of the passed argument. \"\"\"\n",
    "        \n",
    "        # For lower letters\n",
    "        if (ord(string[i]) >= 97 and\n",
    "            ord(string[i]) <= 122):\n",
    "            lower += 1\n",
    " \n",
    "        # For upper letters\n",
    "        elif (ord(string[i]) >= 65 and\n",
    "            ord(string[i]) <= 90):\n",
    "            upper += 1\n",
    " \n",
    "    print(f'Lower case characters = {lower}')\n",
    "    print(f'Upper case characters = {upper}')\n",
    " \n",
    "string = str(input(\"Enter a string: \"))\n",
    "string_test(string)"
   ]
  },
  {
   "cell_type": "markdown",
   "id": "a71c3cc9",
   "metadata": {},
   "source": [
    "## Write a python program that accepts a hyphen- separated sequence after sorting them alphabetically.\n",
    "\n",
    "* Sample Items: green-red-yellow-black-white\n",
    "* Expected Result: black-green-red-white-yellow"
   ]
  },
  {
   "cell_type": "code",
   "execution_count": 1,
   "id": "00383024",
   "metadata": {},
   "outputs": [
    {
     "name": "stdout",
     "output_type": "stream",
     "text": [
      "Ente your sample: green-red-yellow-black-white\n",
      "black-green-red-white-yellow\n"
     ]
    }
   ],
   "source": [
    "items = [n for n in input(\"Ente your sample: \").split('-')]\n",
    "items.sort()\n",
    "print('-'.join(items))"
   ]
  },
  {
   "cell_type": "markdown",
   "id": "e1ee2364",
   "metadata": {},
   "source": [
    "## FIFTEENTH CLASS"
   ]
  },
  {
   "attachments": {
    "Screenshot%20from%202022-12-01%2007-11-26.png": {
     "image/png": "[encoded data removed]"
    }
   },
   "cell_type": "markdown",
   "id": "f8a564df",
   "metadata": {},
   "source": [
    "![Screenshot%20from%202022-12-01%2007-11-26.png](attachment:Screenshot%20from%202022-12-01%2007-11-26.png)"
   ]
  },
  {
   "cell_type": "code",
   "execution_count": 1,
   "id": "c3a0943b",
   "metadata": {},
   "outputs": [
    {
     "name": "stdout",
     "output_type": "stream",
     "text": [
      "Enter number of terms:5\n",
      "Fibonacci sequence:\n",
      "0\n",
      "1\n",
      "1\n",
      "2\n",
      "3\n"
     ]
    }
   ],
   "source": [
    "n = 5\n",
    "def fibonacci(n):\n",
    "    if n <= 1:\n",
    "        return n\n",
    "    \n",
    "    else:\n",
    "        return(fibonacci(n - 1) + fibonacci(n - 2))\n",
    "    \n",
    "n = int(input(\"Enter number of terms:\"))\n",
    "print(\"Fibonacci sequence:\")\n",
    "\n",
    "for i in range(n):\n",
    "    print(fibonacci(i))"
   ]
  },
  {
   "attachments": {
    "Screenshot%20from%202022-12-01%2007-22-16.png": {
     "image/png": "[encoded data removed]"
    }
   },
   "cell_type": "markdown",
   "id": "f800de46",
   "metadata": {},
   "source": [
    "![Screenshot%20from%202022-12-01%2007-22-16.png](attachment:Screenshot%20from%202022-12-01%2007-22-16.png)"
   ]
  },
  {
   "cell_type": "code",
   "execution_count": 4,
   "id": "f5656568",
   "metadata": {},
   "outputs": [
    {
     "name": "stdout",
     "output_type": "stream",
     "text": [
      "Select operation\n",
      "1.Add\n",
      "2.Subtract\n",
      "3.Mean\n",
      "4.Square\n",
      "5.Even or Odd\n"
     ]
    },
    {
     "ename": "NameError",
     "evalue": "name 'choice' is not defined",
     "output_type": "error",
     "traceback": [
      "\u001b[0;31m---------------------------------------------------------------------------\u001b[0m",
      "\u001b[0;31mNameError\u001b[0m                                 Traceback (most recent call last)",
      "Cell \u001b[0;32mIn [4], line 43\u001b[0m\n\u001b[1;32m     39\u001b[0m \u001b[38;5;28mprint\u001b[39m(\u001b[38;5;124m\"\u001b[39m\u001b[38;5;124m5.Even or Odd\u001b[39m\u001b[38;5;124m\"\u001b[39m)\n\u001b[1;32m     41\u001b[0m \u001b[38;5;28;01mwhile\u001b[39;00m \u001b[38;5;28;01mTrue\u001b[39;00m:\n\u001b[1;32m     42\u001b[0m     \u001b[38;5;66;03m# take input from the user\u001b[39;00m\n\u001b[0;32m---> 43\u001b[0m     \u001b[38;5;28;01mif\u001b[39;00m \u001b[43mchoice\u001b[49m \u001b[38;5;129;01min\u001b[39;00m (\u001b[38;5;124m'\u001b[39m\u001b[38;5;124m1\u001b[39m\u001b[38;5;124m'\u001b[39m, \u001b[38;5;124m'\u001b[39m\u001b[38;5;124m2\u001b[39m\u001b[38;5;124m'\u001b[39m, \u001b[38;5;124m'\u001b[39m\u001b[38;5;124m3\u001b[39m\u001b[38;5;124m'\u001b[39m, \u001b[38;5;124m'\u001b[39m\u001b[38;5;124m4\u001b[39m\u001b[38;5;124m'\u001b[39m, \u001b[38;5;124m'\u001b[39m\u001b[38;5;124m5\u001b[39m\u001b[38;5;124m'\u001b[39m):\n\u001b[1;32m     45\u001b[0m         \u001b[38;5;28;01mif\u001b[39;00m choice \u001b[38;5;241m==\u001b[39m \u001b[38;5;124m'\u001b[39m\u001b[38;5;124m1\u001b[39m\u001b[38;5;124m'\u001b[39m:\n\u001b[1;32m     46\u001b[0m             addition()\n",
      "\u001b[0;31mNameError\u001b[0m: name 'choice' is not defined"
     ]
    }
   ],
   "source": [
    "def addition():\n",
    "    n = int(input(\"Enter the number of values to be added: \"))\n",
    "    sum1 = 0\n",
    "    \n",
    "    for i in range(0, n):\n",
    "        num = int(input(\"Enter numbers to be added: \"))\n",
    "        sum1 += num\n",
    "        \n",
    "    print(f'The sum is {sum1}')\n",
    "\n",
    "\n",
    "def substraction():\n",
    "    x = int(input(\"Enter the value of x: \"))\n",
    "    y = int(input(\"Enter the value of y: \"))\n",
    "    \n",
    "    if x < y:\n",
    "        diff = y - x\n",
    "    \n",
    "    else:\n",
    "        diff = x - y\n",
    "    \n",
    "    print(f'The difference is {diff}')\n",
    "\n",
    "\n",
    "def find_mean():\n",
    "    n_num = int(input(\"Enter the number of values for which the mean is to be computed: \"))\n",
    "    n = len(n_num)\n",
    "  \n",
    "    get_sum = sum(n_num)\n",
    "    mean = get_sum / n\n",
    "  \n",
    "    print(\"Mean / Average is: \" + str(mean))\n",
    "    \n",
    "print(\"Select operation\")\n",
    "print(\"1.Add\")\n",
    "print(\"2.Subtract\")\n",
    "print(\"3.Mean\")\n",
    "print(\"4.Square\")\n",
    "print(\"5.Even or Odd\")\n",
    "\n",
    "while True:\n",
    "    # take input from the user\n",
    "    if choice in ('1', '2', '3', '4', '5'):\n",
    "    \n",
    "        if choice == '1':\n",
    "            addition()\n",
    "    \n",
    "        elif choice == '2':\n",
    "            substraction()\n",
    "    \n",
    "        else:\n",
    "            find_mean()\n",
    "    \n",
    "    next_calculation = input(\"Let's do next calculation? (yes/no): \")\n",
    "    if next_calculation == \"no\":\n",
    "          break\n",
    "    \n",
    "    else:\n",
    "        print(\"Invalid Input\")"
   ]
  },
  {
   "cell_type": "code",
   "execution_count": 1,
   "id": "d4baff4d",
   "metadata": {},
   "outputs": [],
   "source": []
  },
  {
   "cell_type": "code",
   "execution_count": null,
   "id": "d59b1293",
   "metadata": {},
   "outputs": [],
   "source": []
  },
  {
   "cell_type": "code",
   "execution_count": null,
   "id": "3511bb2d",
   "metadata": {},
   "outputs": [],
   "source": []
  }
 ],
 "metadata": {
  "kernelspec": {
   "display_name": "Python 3 (ipykernel)",
   "language": "python",
   "name": "python3"
  },
  "language_info": {
   "codemirror_mode": {
    "name": "ipython",
    "version": 3
   },
   "file_extension": ".py",
   "mimetype": "text/x-python",
   "name": "python",
   "nbconvert_exporter": "python",
   "pygments_lexer": "ipython3",
   "version": "3.10.7"
  }
 },
 "nbformat": 4,
 "nbformat_minor": 5
}
