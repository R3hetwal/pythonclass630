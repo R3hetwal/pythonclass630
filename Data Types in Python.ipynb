{
 "cells": [
  {
   "cell_type": "markdown",
   "id": "5db0fdd3",
   "metadata": {},
   "source": [
    "# DATA TYPES IN PYTHON\n",
    "* Python Numbers : int, float, complex\n",
    "* Python Strings\n",
    "* Python List\n",
    "* Python Tuple\n",
    "* Python Set\n",
    "* Python Dictionary"
   ]
  },
  {
   "cell_type": "code",
   "execution_count": 1,
   "id": "2303eeb9",
   "metadata": {},
   "outputs": [],
   "source": [
    "a, b, c = 10, 0.35, 2 + 0.2j"
   ]
  },
  {
   "cell_type": "code",
   "execution_count": 7,
   "id": "823b577b",
   "metadata": {},
   "outputs": [
    {
     "name": "stdout",
     "output_type": "stream",
     "text": [
      "The data type of a is <class 'int'>\n",
      "The data type of a is <class 'float'>\n",
      "The data type of a is <class 'complex'>\n"
     ]
    }
   ],
   "source": [
    "print(\"The data type of a is {}\". format(type(a)))\n",
    "print(\"The data type of a is {}\". format(type(b)))\n",
    "print(\"The data type of a is {}\". format(type(c)))\n"
   ]
  },
  {
   "cell_type": "markdown",
   "id": "e896400c",
   "metadata": {},
   "source": [
    "* datatype checking is done through type() method."
   ]
  },
  {
   "cell_type": "code",
   "execution_count": 8,
   "id": "e70e3b44",
   "metadata": {},
   "outputs": [
    {
     "name": "stdout",
     "output_type": "stream",
     "text": [
      "<class 'int'>\n"
     ]
    }
   ],
   "source": [
    "port = 8080\n",
    "print(type(port))"
   ]
  },
  {
   "cell_type": "code",
   "execution_count": 9,
   "id": "6d5f94e6",
   "metadata": {},
   "outputs": [
    {
     "name": "stdout",
     "output_type": "stream",
     "text": [
      "<class 'str'>\n"
     ]
    }
   ],
   "source": [
    "txt = 'Hi!'\n",
    "print(type(txt))"
   ]
  },
  {
   "cell_type": "code",
   "execution_count": 10,
   "id": "91699b88",
   "metadata": {},
   "outputs": [
    {
     "name": "stdout",
     "output_type": "stream",
     "text": [
      "<class 'str'>\n"
     ]
    }
   ],
   "source": [
    "txt = '5'\n",
    "print(type(txt))"
   ]
  },
  {
   "cell_type": "markdown",
   "id": "9b623a33",
   "metadata": {},
   "source": [
    "* Data Type Validation is done using isinstance\n",
    "* True and False is Boolean "
   ]
  },
  {
   "cell_type": "code",
   "execution_count": 14,
   "id": "2fa6582d",
   "metadata": {},
   "outputs": [
    {
     "data": {
      "text/plain": [
       "True"
      ]
     },
     "execution_count": 14,
     "metadata": {},
     "output_type": "execute_result"
    }
   ],
   "source": [
    "isinstance(a, int)"
   ]
  },
  {
   "cell_type": "code",
   "execution_count": 15,
   "id": "60d80561",
   "metadata": {},
   "outputs": [
    {
     "data": {
      "text/plain": [
       "True"
      ]
     },
     "execution_count": 15,
     "metadata": {},
     "output_type": "execute_result"
    }
   ],
   "source": [
    "isinstance(b, float)"
   ]
  },
  {
   "cell_type": "code",
   "execution_count": 16,
   "id": "39102453",
   "metadata": {},
   "outputs": [
    {
     "data": {
      "text/plain": [
       "False"
      ]
     },
     "execution_count": 16,
     "metadata": {},
     "output_type": "execute_result"
    }
   ],
   "source": [
    "isinstance(c, str)"
   ]
  },
  {
   "cell_type": "code",
   "execution_count": 17,
   "id": "d1c388be",
   "metadata": {},
   "outputs": [
    {
     "data": {
      "text/plain": [
       "True"
      ]
     },
     "execution_count": 17,
     "metadata": {},
     "output_type": "execute_result"
    }
   ],
   "source": [
    "isinstance(c, complex)"
   ]
  }
 ],
 "metadata": {
  "kernelspec": {
   "display_name": "Python 3 (ipykernel)",
   "language": "python",
   "name": "python3"
  },
  "language_info": {
   "codemirror_mode": {
    "name": "ipython",
    "version": 3
   },
   "file_extension": ".py",
   "mimetype": "text/x-python",
   "name": "python",
   "nbconvert_exporter": "python",
   "pygments_lexer": "ipython3",
   "version": "3.10.7"
  }
 },
 "nbformat": 4,
 "nbformat_minor": 5
}
