{
  "nbformat": 4,
  "nbformat_minor": 0,
  "metadata": {
    "colab": {
      "provenance": []
    },
    "kernelspec": {
      "name": "python3",
      "display_name": "Python 3"
    },
    "language_info": {
      "name": "python"
    }
  },
  "cells": [
    {
      "cell_type": "code",
      "execution_count": 1,
      "metadata": {
        "id": "Uyk_sM-QAGOX"
      },
      "outputs": [],
      "source": [
        "# Find mean of given list using while loop"
      ]
    },
    {
      "cell_type": "code",
      "source": [
        "nums = [3, 4, 1, 2, 8, 99]"
      ],
      "metadata": {
        "id": "EYmVyMqjAOkH"
      },
      "execution_count": 2,
      "outputs": []
    },
    {
      "cell_type": "code",
      "source": [
        "index = 0\n",
        "end = len(nums)\n",
        "total = 0\n",
        "\n",
        "while index < end:\n",
        "  total = total + nums[index]\n",
        "  index = index + 1"
      ],
      "metadata": {
        "id": "cNCfFHjQAYEt"
      },
      "execution_count": 4,
      "outputs": []
    },
    {
      "cell_type": "code",
      "source": [
        "total"
      ],
      "metadata": {
        "colab": {
          "base_uri": "https://localhost:8080/"
        },
        "id": "K11tEmkYAngT",
        "outputId": "abe177d9-974f-4bc9-d17d-232ab75613e6"
      },
      "execution_count": 5,
      "outputs": [
        {
          "output_type": "execute_result",
          "data": {
            "text/plain": [
              "117"
            ]
          },
          "metadata": {},
          "execution_count": 5
        }
      ]
    },
    {
      "cell_type": "code",
      "source": [
        "mean = total / end"
      ],
      "metadata": {
        "id": "urAE-hS8AuVS"
      },
      "execution_count": 6,
      "outputs": []
    },
    {
      "cell_type": "code",
      "source": [
        "mean"
      ],
      "metadata": {
        "colab": {
          "base_uri": "https://localhost:8080/"
        },
        "id": "sTYVRmj6AwBA",
        "outputId": "0536153f-cc58-4ee4-acc9-d81d67ff0ad3"
      },
      "execution_count": 7,
      "outputs": [
        {
          "output_type": "execute_result",
          "data": {
            "text/plain": [
              "19.5"
            ]
          },
          "metadata": {},
          "execution_count": 7
        }
      ]
    },
    {
      "cell_type": "code",
      "source": [
        "total = 0\n",
        "for index in range(len(nums)):\n",
        "  total = total + nums[index]"
      ],
      "metadata": {
        "id": "9Sd0rwRdBNMh"
      },
      "execution_count": 8,
      "outputs": []
    },
    {
      "cell_type": "code",
      "source": [
        "total / end"
      ],
      "metadata": {
        "colab": {
          "base_uri": "https://localhost:8080/"
        },
        "id": "iFzDM837Aw5W",
        "outputId": "32b1768f-2a41-4724-b092-e23b4b09efed"
      },
      "execution_count": 9,
      "outputs": [
        {
          "output_type": "execute_result",
          "data": {
            "text/plain": [
              "19.5"
            ]
          },
          "metadata": {},
          "execution_count": 9
        }
      ]
    },
    {
      "cell_type": "code",
      "source": [
        "## Nested For loops"
      ],
      "metadata": {
        "id": "NEcXFlWaBcte"
      },
      "execution_count": 10,
      "outputs": []
    },
    {
      "cell_type": "code",
      "source": [
        "for i in range(5):\n",
        "  print('______________________')\n",
        "  print(f'i = {i}')\n",
        "  print('_______________________')\n",
        "\n",
        "  for j in range(3):\n",
        "    print(f'j = {j}')"
      ],
      "metadata": {
        "colab": {
          "base_uri": "https://localhost:8080/"
        },
        "id": "5lxc_LBRByiU",
        "outputId": "d1cd7602-fcb6-45ea-9623-ba5781494297"
      },
      "execution_count": 16,
      "outputs": [
        {
          "output_type": "stream",
          "name": "stdout",
          "text": [
            "______________________\n",
            "i = 0\n",
            "_______________________\n",
            "j = 0\n",
            "j = 1\n",
            "j = 2\n",
            "______________________\n",
            "i = 1\n",
            "_______________________\n",
            "j = 0\n",
            "j = 1\n",
            "j = 2\n",
            "______________________\n",
            "i = 2\n",
            "_______________________\n",
            "j = 0\n",
            "j = 1\n",
            "j = 2\n",
            "______________________\n",
            "i = 3\n",
            "_______________________\n",
            "j = 0\n",
            "j = 1\n",
            "j = 2\n",
            "______________________\n",
            "i = 4\n",
            "_______________________\n",
            "j = 0\n",
            "j = 1\n",
            "j = 2\n"
          ]
        }
      ]
    },
    {
      "cell_type": "code",
      "source": [
        "data = [[3, 4, 5], [1, 77, 2, 0, 9], [2, 9]] # list of list"
      ],
      "metadata": {
        "id": "UPY7Wmq9CDZ2"
      },
      "execution_count": 17,
      "outputs": []
    },
    {
      "cell_type": "code",
      "source": [
        "for item in data:\n",
        "  print(item)\n",
        "\n",
        "  for j in item:\n",
        "    print(j)"
      ],
      "metadata": {
        "colab": {
          "base_uri": "https://localhost:8080/"
        },
        "id": "Tt99m4bADSmJ",
        "outputId": "e71c9293-26b5-409e-dc57-5b2e372de111"
      },
      "execution_count": 21,
      "outputs": [
        {
          "output_type": "stream",
          "name": "stdout",
          "text": [
            "[3, 4, 5]\n",
            "3\n",
            "4\n",
            "5\n",
            "[1, 77, 2, 0, 9]\n",
            "1\n",
            "77\n",
            "2\n",
            "0\n",
            "9\n",
            "[2, 9]\n",
            "2\n",
            "9\n"
          ]
        }
      ]
    },
    {
      "cell_type": "code",
      "source": [
        "for item in data:\n",
        "  total = 0\n",
        "\n",
        "  for j in item:\n",
        "    total = total + j\n",
        "\n",
        "  mean = total / len(item)\n",
        "  print(round(mean, 2))"
      ],
      "metadata": {
        "colab": {
          "base_uri": "https://localhost:8080/"
        },
        "id": "D-0Op3RSDbBl",
        "outputId": "0368189b-dc6e-4a03-ff98-311a73b0c294"
      },
      "execution_count": 22,
      "outputs": [
        {
          "output_type": "stream",
          "name": "stdout",
          "text": [
            "4.0\n",
            "17.8\n",
            "5.5\n"
          ]
        }
      ]
    },
    {
      "cell_type": "code",
      "source": [],
      "metadata": {
        "id": "wpe453oUENZw"
      },
      "execution_count": null,
      "outputs": []
    }
  ]
}