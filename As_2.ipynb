{
 "cells": [
  {
   "cell_type": "markdown",
   "metadata": {
    "id": "wwd8JbdajaK2"
   },
   "source": [
    "\n",
    "\n",
    "1.   recap\n",
    "\n",
    "\n"
   ]
  },
  {
   "cell_type": "code",
   "execution_count": null,
   "metadata": {
    "colab": {
     "base_uri": "https://localhost:8080/"
    },
    "id": "NxXPYyQsjC_e",
    "outputId": "e1e62443-8753-4ab7-d2eb-fd3f0f75e6c0"
   },
   "outputs": [
    {
     "name": "stdout",
     "output_type": "stream",
     "text": [
      "['orange', 'apple', 'banana', 'kiwi']\n",
      "<class 'list'>\n"
     ]
    }
   ],
   "source": [
    "txt =\" i like orange Apple Banana and kiwi . \"\n",
    "txt = txt.lower()\n",
    "txt= txt.replace(\" i \",\" \").replace(\" like \", \" \").replace(\" and \", \" \").replace(\" . \", \" \")\n",
    "fruits = txt.split()\n",
    "print(fruits)\n",
    "print(type(fruits))"
   ]
  },
  {
   "cell_type": "code",
   "execution_count": null,
   "metadata": {
    "id": "qgMiL4ltndoh"
   },
   "outputs": [],
   "source": [
    "# Assigning string manipulation technique Extract fruits name from txt\n"
   ]
  },
  {
   "cell_type": "code",
   "execution_count": null,
   "metadata": {
    "colab": {
     "base_uri": "https://localhost:8080/"
    },
    "id": "tGU7Hb5CoDYQ",
    "outputId": "cb89ebe7-873e-478f-bfa7-704aa920cb88"
   },
   "outputs": [
    {
     "name": "stdout",
     "output_type": "stream",
     "text": [
      "i like orange apple banana and kiwi.\n",
      "['orange', 'apple', 'banana', 'kiwi']\n",
      "correct\n"
     ]
    }
   ],
   "source": [
    "txt = \"I Like Orange Apple Banana and kiwi.\"\n",
    "txt = txt . lower()\n",
    "print(txt)\n",
    "if(txt != 0):\n",
    "  txt = txt.replace(\"i \",\" \").replace(\" like \", \" \").replace(\" and \", \" \").replace(\".\", \" \")\n",
    "  fruits = txt. split()\n",
    "  print(fruits)\n",
    "  test = ['orange', 'apple', 'banana', 'kiwi']\n",
    "  if fruits == test:\n",
    "    print(\"correct\")\n",
    "  else:\n",
    "    print(\"incorrect\")\n"
   ]
  },
  {
   "cell_type": "markdown",
   "metadata": {
    "id": "mE9HBNn_pjs9"
   },
   "source": [
    "Project: full quiz game "
   ]
  },
  {
   "cell_type": "code",
   "execution_count": null,
   "metadata": {
    "colab": {
     "base_uri": "https://localhost:8080/"
    },
    "id": "5TwNkQGDoTS1",
    "outputId": "5f468207-665b-47f9-f293-59bbb556e3cb"
   },
   "outputs": [
    {
     "name": "stdout",
     "output_type": "stream",
     "text": [
      "welcome to my computer quiz!\n",
      "do you want to play no\n"
     ]
    }
   ],
   "source": [
    "print(\"welcome to my computer quiz!\")\n",
    "playing=input(\"do you want to play \")\n",
    "if playing .lower()!=\"yes\":\n",
    "  exit()\n",
    "else:\n",
    "  print(\"okay,!lets start the game\")\n",
    "  score=0\n",
    "  answer=input(\"what does cpu stand for ?:\")\n",
    "  if answer.lower()==\"center processing unit\":\n",
    "    print(\"correct \")\n",
    "    score=score+1\n",
    "    print(\"your score is:\")\n",
    "    print(score)\n",
    "    if(score == 1):\n",
    "     answer=input(\"what does ram stand for ?:\") \n",
    "     if answer.lower()==\"random acess memory\":\n",
    "      print(\"correct \")\n",
    "      score=score+1\n",
    "      print(\"your score is:\")\n",
    "      print(score)\n",
    "      if(score == 2):\n",
    "        answer=input(\"what does ROM stand for ?:\") \n",
    "        if answer.lower()==\"read only memory\":\n",
    "          print(\"correct \")\n",
    "          score=score+1\n",
    "          print(\"your score is:\")\n",
    "          print(score)\n",
    "          if(score == 3):\n",
    "            answer=input(\"what does memory means ?:\") \n",
    "            if answer.lower()==\"storage device\":\n",
    "              print(\"correct \")\n",
    "              score=score+1\n",
    "              print(\"your score is:\")\n",
    "              print(score)\n",
    "              if(score == 4):\n",
    "                print(\"winner\")\n",
    "              else:\n",
    "                print(\"learn more to win\") \n",
    "            else:\n",
    "              print(\"Incorrect\")\n",
    "              print(score)\n",
    "        else:\n",
    "          print(\"Incorrect\")\n",
    "          print(score)\n",
    "    else:\n",
    "      print(\"Incorrect\")\n",
    "      print(score)\n",
    "  else:\n",
    "    print(\"Incorrect\")\n",
    "    print(score)\n"
   ]
  },
  {
   "cell_type": "code",
   "execution_count": null,
   "metadata": {
    "id": "4-bOo0Fqql7W"
   },
   "outputs": [],
   "source": [
    "# Assigment "
   ]
  },
  {
   "cell_type": "markdown",
   "metadata": {
    "id": "vkk_s3EZwjqo"
   },
   "source": [
    "string1= \"nepalindiachina\"\n",
    "string2=\"indianchinanepal\""
   ]
  },
  {
   "cell_type": "code",
   "execution_count": null,
   "metadata": {
    "colab": {
     "base_uri": "https://localhost:8080/"
    },
    "id": "ffIzzswWtcKc",
    "outputId": "1619c3cd-1ffa-4de6-c27e-4c3ecaa8a472"
   },
   "outputs": [
    {
     "name": "stdout",
     "output_type": "stream",
     "text": [
      " Rotation :  indiachinanepal\n"
     ]
    }
   ],
   "source": [
    "# Function to rotate string left and right by d length\n",
    " \n",
    "def rotate(input,d):\n",
    " \n",
    "    # slice string in two parts for left and right\n",
    "    Lfirst = input[0 : d]\n",
    "    #first ko 0 bata d value shamma linacha which means nepal leyo sting ko \n",
    "\n",
    "    Lsecond = input[d :]\n",
    "    # yo part lay chai nepal bhayake aaru licha so that beke bhanaya ko indiachina bhayo\n",
    "     \n",
    "    # now concatenate two parts together\n",
    "    print (\" Rotation : \", (Lsecond + Lfirst) )\n",
    " \n",
    "# Driver program\n",
    "if __name__ == \"__main__\":\n",
    "    input = 'nepalindiachina'\n",
    "    d=5\n",
    "    rotate(input,d)"
   ]
  },
  {
   "cell_type": "code",
   "execution_count": null,
   "metadata": {
    "id": "HP-hCuuIxEFt"
   },
   "outputs": [],
   "source": []
  }
 ],
 "metadata": {
  "colab": {
   "provenance": []
  },
  "kernelspec": {
   "display_name": "Python 3 (ipykernel)",
   "language": "python",
   "name": "python3"
  },
  "language_info": {
   "codemirror_mode": {
    "name": "ipython",
    "version": 3
   },
   "file_extension": ".py",
   "mimetype": "text/x-python",
   "name": "python",
   "nbconvert_exporter": "python",
   "pygments_lexer": "ipython3",
   "version": "3.10.7"
  }
 },
 "nbformat": 4,
 "nbformat_minor": 1
}
