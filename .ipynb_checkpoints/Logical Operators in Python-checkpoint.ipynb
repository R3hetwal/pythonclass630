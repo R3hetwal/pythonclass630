{
 "cells": [
  {
   "cell_type": "markdown",
   "id": "3dc1adba",
   "metadata": {},
   "source": [
    "# Body Mass Index Calculator\n",
    "* Given weight in kg, height in cm\n",
    "* BMI is given in kg/m2"
   ]
  },
  {
   "cell_type": "markdown",
   "id": "6cb70ea6",
   "metadata": {},
   "source": [
    "# and operator: If both condition has to be True, use and operator.\n",
    "# or operator: If any of the condition has to be True, use or operator."
   ]
  },
  {
   "cell_type": "code",
   "execution_count": 1,
   "id": "4445bb95",
   "metadata": {},
   "outputs": [
    {
     "name": "stdout",
     "output_type": "stream",
     "text": [
      "You have normal weight.\n"
     ]
    }
   ],
   "source": [
    "weight = 75\n",
    "height = 180\n",
    "\n",
    "height_in_m = height / 100\n",
    "\n",
    "BMI = weight / height_in_m ** 2\n",
    "\n",
    "if BMI < 18.5:\n",
    "    print(\"You are underweight.\")\n",
    "\n",
    "elif BMI >= 18.5 and BMI <= 24.9:\n",
    "    print(\"You have normal weight.\")\n",
    "\n",
    "\n",
    "elif BMI >= 25 and BMI <= 29.9:\n",
    "    print(\"You are overweight.\")\n",
    "\n",
    "elif BMI == 30 or BMI > 30:\n",
    "    print(\"Obesity.\")"
   ]
  },
  {
   "cell_type": "markdown",
   "id": "502415e3",
   "metadata": {},
   "source": [
    "* not operator"
   ]
  },
  {
   "cell_type": "code",
   "execution_count": 2,
   "id": "b5f22779",
   "metadata": {},
   "outputs": [
    {
     "data": {
      "text/plain": [
       "False"
      ]
     },
     "execution_count": 2,
     "metadata": {},
     "output_type": "execute_result"
    }
   ],
   "source": [
    "not True"
   ]
  },
  {
   "cell_type": "code",
   "execution_count": 3,
   "id": "3f82e86c",
   "metadata": {},
   "outputs": [
    {
     "data": {
      "text/plain": [
       "True"
      ]
     },
     "execution_count": 3,
     "metadata": {},
     "output_type": "execute_result"
    }
   ],
   "source": [
    "not False"
   ]
  },
  {
   "cell_type": "code",
   "execution_count": 4,
   "id": "5a52d9bc",
   "metadata": {},
   "outputs": [
    {
     "name": "stdout",
     "output_type": "stream",
     "text": [
      "Enter number of your choice: 10\n",
      "Else condition run.\n"
     ]
    }
   ],
   "source": [
    "num = int(input(\"Enter number of your choice: \"))\n",
    "\n",
    "if not num % 2 == 0:    # not negates an expression.\n",
    "    print(\"If condition run.\")\n",
    "\n",
    "else:\n",
    "    print(\"Else condition run.\")"
   ]
  }
 ],
 "metadata": {
  "kernelspec": {
   "display_name": "Python 3 (ipykernel)",
   "language": "python",
   "name": "python3"
  },
  "language_info": {
   "codemirror_mode": {
    "name": "ipython",
    "version": 3
   },
   "file_extension": ".py",
   "mimetype": "text/x-python",
   "name": "python",
   "nbconvert_exporter": "python",
   "pygments_lexer": "ipython3",
   "version": "3.10.7"
  }
 },
 "nbformat": 4,
 "nbformat_minor": 5
}
