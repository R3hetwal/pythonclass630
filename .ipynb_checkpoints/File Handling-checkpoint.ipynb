{
 "cells": [
  {
   "cell_type": "code",
   "execution_count": 1,
   "id": "92b13b96",
   "metadata": {},
   "outputs": [
    {
     "ename": "SyntaxError",
     "evalue": "invalid syntax (635231308.py, line 2)",
     "output_type": "error",
     "traceback": [
      "\u001b[0;36m  Cell \u001b[0;32mIn [1], line 2\u001b[0;36m\u001b[0m\n\u001b[0;31m    * Syntax:\u001b[0m\n\u001b[0m            ^\u001b[0m\n\u001b[0;31mSyntaxError\u001b[0m\u001b[0;31m:\u001b[0m invalid syntax\n"
     ]
    }
   ],
   "source": [
    "## Opening a file\n",
    "* Syntax:\n",
    "```` python\n",
    "    open(filename, mode)\n",
    "````\n",
    "\n",
    "* Modes: \n",
    "* read: 'r'\n",
    "* write: 'w'\n",
    "* append: 'a'\n",
    "* create: 'x'"
   ]
  },
  {
   "cell_type": "code",
   "execution_count": null,
   "id": "3cb771a6",
   "metadata": {},
   "outputs": [],
   "source": [
    "obj = open('News.txt', 'r') # open the file"
   ]
  },
  {
   "cell_type": "code",
   "execution_count": null,
   "id": "3d1a975e",
   "metadata": {},
   "outputs": [],
   "source": [
    "text = obj.read() # read the file"
   ]
  },
  {
   "cell_type": "code",
   "execution_count": null,
   "id": "a5342787",
   "metadata": {},
   "outputs": [],
   "source": [
    "text"
   ]
  },
  {
   "cell_type": "code",
   "execution_count": null,
   "id": "3a27d1de",
   "metadata": {},
   "outputs": [],
   "source": [
    "print(text)"
   ]
  },
  {
   "cell_type": "code",
   "execution_count": null,
   "id": "bdf9fd81",
   "metadata": {},
   "outputs": [],
   "source": []
  }
 ],
 "metadata": {
  "kernelspec": {
   "display_name": "Python 3 (ipykernel)",
   "language": "python",
   "name": "python3"
  },
  "language_info": {
   "codemirror_mode": {
    "name": "ipython",
    "version": 3
   },
   "file_extension": ".py",
   "mimetype": "text/x-python",
   "name": "python",
   "nbconvert_exporter": "python",
   "pygments_lexer": "ipython3",
   "version": "3.10.7"
  }
 },
 "nbformat": 4,
 "nbformat_minor": 5
}
