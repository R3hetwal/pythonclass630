{
 "cells": [
  {
   "cell_type": "markdown",
   "id": "6520fe0e",
   "metadata": {},
   "source": [
    "## Indexing"
   ]
  },
  {
   "cell_type": "code",
   "execution_count": 1,
   "id": "bc2ce1a2",
   "metadata": {},
   "outputs": [],
   "source": [
    "txt = 'hello world'"
   ]
  },
  {
   "cell_type": "code",
   "execution_count": 2,
   "id": "2a2de480",
   "metadata": {},
   "outputs": [
    {
     "data": {
      "text/plain": [
       "'hello'"
      ]
     },
     "execution_count": 2,
     "metadata": {},
     "output_type": "execute_result"
    }
   ],
   "source": [
    "txt[5]"
   ]
  },
  {
   "cell_type": "markdown",
   "id": "b1067ef6",
   "metadata": {},
   "source": [
    "# Slicing"
   ]
  },
  {
   "cell_type": "code",
   "execution_count": 4,
   "id": "d0720ad2",
   "metadata": {},
   "outputs": [
    {
     "data": {
      "text/plain": [
       "'hello'"
      ]
     },
     "execution_count": 4,
     "metadata": {},
     "output_type": "execute_result"
    }
   ],
   "source": [
    "txt[0:5]"
   ]
  },
  {
   "cell_type": "code",
   "execution_count": 6,
   "id": "bfa8c99e",
   "metadata": {},
   "outputs": [
    {
     "data": {
      "text/plain": [
       "'l'"
      ]
     },
     "execution_count": 6,
     "metadata": {},
     "output_type": "execute_result"
    }
   ],
   "source": [
    "txt[2:3]"
   ]
  },
  {
   "cell_type": "markdown",
   "id": "3a34f715",
   "metadata": {},
   "source": [
    "# Concat"
   ]
  },
  {
   "cell_type": "code",
   "execution_count": 10,
   "id": "3ed0a2ff",
   "metadata": {},
   "outputs": [
    {
     "data": {
      "text/plain": [
       "'Good Morning, Rakshya'"
      ]
     },
     "execution_count": 10,
     "metadata": {},
     "output_type": "execute_result"
    }
   ],
   "source": [
    "greet = 'Good Morning,'\n",
    "name = ' Rakshya'\n",
    "\n",
    "greet + name"
   ]
  },
  {
   "cell_type": "code",
   "execution_count": 11,
   "id": "3f951f36",
   "metadata": {},
   "outputs": [
    {
     "data": {
      "text/plain": [
       "' Rakshya Rakshya Rakshya'"
      ]
     },
     "execution_count": 11,
     "metadata": {},
     "output_type": "execute_result"
    }
   ],
   "source": [
    "name * 3 # prints name three times"
   ]
  },
  {
   "cell_type": "markdown",
   "id": "f873c883",
   "metadata": {},
   "source": [
    "* replacing one character with another character"
   ]
  },
  {
   "cell_type": "code",
   "execution_count": 16,
   "id": "64a56800",
   "metadata": {},
   "outputs": [
    {
     "data": {
      "text/plain": [
       "'$'"
      ]
     },
     "execution_count": 16,
     "metadata": {},
     "output_type": "execute_result"
    }
   ],
   "source": [
    "txt = '$ophiya'\n",
    "txt[0]"
   ]
  },
  {
   "cell_type": "code",
   "execution_count": 17,
   "id": "39b011b4",
   "metadata": {},
   "outputs": [
    {
     "ename": "TypeError",
     "evalue": "'str' object does not support item assignment",
     "output_type": "error",
     "traceback": [
      "\u001b[0;31m---------------------------------------------------------------------------\u001b[0m",
      "\u001b[0;31mTypeError\u001b[0m                                 Traceback (most recent call last)",
      "Cell \u001b[0;32mIn [17], line 1\u001b[0m\n\u001b[0;32m----> 1\u001b[0m \u001b[43mtxt\u001b[49m\u001b[43m[\u001b[49m\u001b[38;5;241;43m0\u001b[39;49m\u001b[43m]\u001b[49m \u001b[38;5;241m=\u001b[39m \u001b[38;5;124m\"\u001b[39m\u001b[38;5;124mS\u001b[39m\u001b[38;5;124m\"\u001b[39m\n",
      "\u001b[0;31mTypeError\u001b[0m: 'str' object does not support item assignment"
     ]
    }
   ],
   "source": [
    "txt[0] = \"S\""
   ]
  },
  {
   "cell_type": "code",
   "execution_count": 18,
   "id": "bb86f6f7",
   "metadata": {},
   "outputs": [
    {
     "data": {
      "text/plain": [
       "'Sophiya'"
      ]
     },
     "execution_count": 18,
     "metadata": {},
     "output_type": "execute_result"
    }
   ],
   "source": [
    "name = '$ophiya'\n",
    "\n",
    "name.replace('$', 'S')"
   ]
  },
  {
   "cell_type": "code",
   "execution_count": 19,
   "id": "2274db50",
   "metadata": {},
   "outputs": [
    {
     "data": {
      "text/plain": [
       "'Sophiya earns S500'"
      ]
     },
     "execution_count": 19,
     "metadata": {},
     "output_type": "execute_result"
    }
   ],
   "source": [
    "# disadvantage\n",
    "name = '$ophiya earns $500'\n",
    "\n",
    "name name.replace('$', 'S')"
   ]
  },
  {
   "cell_type": "code",
   "execution_count": 20,
   "id": "41f45628",
   "metadata": {},
   "outputs": [
    {
     "data": {
      "text/plain": [
       "'$ophiya earns $500'"
      ]
     },
     "execution_count": 20,
     "metadata": {},
     "output_type": "execute_result"
    }
   ],
   "source": [
    "name"
   ]
  },
  {
   "cell_type": "code",
   "execution_count": 22,
   "id": "99946bda",
   "metadata": {},
   "outputs": [
    {
     "data": {
      "text/plain": [
       "'Brilliant New Year'"
      ]
     },
     "execution_count": 22,
     "metadata": {},
     "output_type": "execute_result"
    }
   ],
   "source": [
    "'Happy New Year'.replace('Happy', 'Brilliant')"
   ]
  },
  {
   "cell_type": "markdown",
   "id": "04ed013f",
   "metadata": {},
   "source": [
    "## String normalisation technique"
   ]
  },
  {
   "cell_type": "code",
   "execution_count": 23,
   "id": "ddbca536",
   "metadata": {},
   "outputs": [
    {
     "data": {
      "text/plain": [
       "'hello'"
      ]
     },
     "execution_count": 23,
     "metadata": {},
     "output_type": "execute_result"
    }
   ],
   "source": [
    "greet = 'HELLO'\n",
    "greet.lower() # converts string to lowercase and also doesn't update same memory location"
   ]
  },
  {
   "cell_type": "code",
   "execution_count": 24,
   "id": "46111288",
   "metadata": {},
   "outputs": [
    {
     "data": {
      "text/plain": [
       "'HELLO'"
      ]
     },
     "execution_count": 24,
     "metadata": {},
     "output_type": "execute_result"
    }
   ],
   "source": [
    "greet"
   ]
  },
  {
   "cell_type": "code",
   "execution_count": 25,
   "id": "6dc98920",
   "metadata": {},
   "outputs": [
    {
     "data": {
      "text/plain": [
       "'EARTH'"
      ]
     },
     "execution_count": 25,
     "metadata": {},
     "output_type": "execute_result"
    }
   ],
   "source": [
    "planet = 'earth'\n",
    "planet.upper() # uppercase the string"
   ]
  },
  {
   "cell_type": "code",
   "execution_count": 26,
   "id": "b6a622c1",
   "metadata": {},
   "outputs": [
    {
     "data": {
      "text/plain": [
       "'earth'"
      ]
     },
     "execution_count": 26,
     "metadata": {},
     "output_type": "execute_result"
    }
   ],
   "source": [
    "planet"
   ]
  },
  {
   "cell_type": "code",
   "execution_count": 27,
   "id": "2cfceb17",
   "metadata": {},
   "outputs": [
    {
     "data": {
      "text/plain": [
       "['I', 'love', 'to', 'eat', 'sweets.']"
      ]
     },
     "execution_count": 27,
     "metadata": {},
     "output_type": "execute_result"
    }
   ],
   "source": [
    "text = 'I love to eat sweets.'\n",
    "text.split(\" \") # splits the sentence on the basis of space."
   ]
  },
  {
   "cell_type": "code",
   "execution_count": 28,
   "id": "fcd1d92d",
   "metadata": {},
   "outputs": [
    {
     "data": {
      "text/plain": [
       "'I love to eat sweets.'"
      ]
     },
     "execution_count": 28,
     "metadata": {},
     "output_type": "execute_result"
    }
   ],
   "source": [
    "text # does not update on the same memory"
   ]
  },
  {
   "cell_type": "markdown",
   "id": "457fb252",
   "metadata": {},
   "source": [
    "* split creates python list"
   ]
  },
  {
   "cell_type": "code",
   "execution_count": 29,
   "id": "d2dc16ce",
   "metadata": {},
   "outputs": [
    {
     "data": {
      "text/plain": [
       "list"
      ]
     },
     "execution_count": 29,
     "metadata": {},
     "output_type": "execute_result"
    }
   ],
   "source": [
    "type(text.split(\" \")) "
   ]
  },
  {
   "cell_type": "code",
   "execution_count": 30,
   "id": "1c5fd8e4",
   "metadata": {},
   "outputs": [
    {
     "data": {
      "text/plain": [
       "['I love ', ' eat sweets.']"
      ]
     },
     "execution_count": 30,
     "metadata": {},
     "output_type": "execute_result"
    }
   ],
   "source": [
    "text.split(\"to\")"
   ]
  }
 ],
 "metadata": {
  "kernelspec": {
   "display_name": "Python 3 (ipykernel)",
   "language": "python",
   "name": "python3"
  },
  "language_info": {
   "codemirror_mode": {
    "name": "ipython",
    "version": 3
   },
   "file_extension": ".py",
   "mimetype": "text/x-python",
   "name": "python",
   "nbconvert_exporter": "python",
   "pygments_lexer": "ipython3",
   "version": "3.10.7"
  }
 },
 "nbformat": 4,
 "nbformat_minor": 5
}
