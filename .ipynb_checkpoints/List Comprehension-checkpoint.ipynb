{
 "cells": [
  {
   "cell_type": "code",
   "execution_count": 6,
   "id": "82d4a0ac",
   "metadata": {},
   "outputs": [],
   "source": [
    "nums = [2, 4, 6, 8, 9]"
   ]
  },
  {
   "cell_type": "code",
   "execution_count": 7,
   "id": "414740ef",
   "metadata": {},
   "outputs": [],
   "source": [
    "sq = []\n",
    "\n",
    "for item in nums:\n",
    "    sq.append(item **2) # Square of each item in list"
   ]
  },
  {
   "cell_type": "code",
   "execution_count": 8,
   "id": "6e7e430d",
   "metadata": {},
   "outputs": [
    {
     "data": {
      "text/plain": [
       "[4, 16, 36, 64, 81]"
      ]
     },
     "execution_count": 8,
     "metadata": {},
     "output_type": "execute_result"
    }
   ],
   "source": [
    "sq"
   ]
  },
  {
   "cell_type": "code",
   "execution_count": 9,
   "id": "c77b2aec",
   "metadata": {},
   "outputs": [
    {
     "data": {
      "text/plain": [
       "[4, 16, 36, 64, 81]"
      ]
     },
     "execution_count": 9,
     "metadata": {},
     "output_type": "execute_result"
    }
   ],
   "source": [
    "nums = [2, 4, 6, 8, 9]\n",
    "[ item ** 2 for item in nums]"
   ]
  },
  {
   "cell_type": "markdown",
   "id": "4b81f9f9",
   "metadata": {},
   "source": [
    "```python\n",
    "[expression for item in iterables]\n",
    "```"
   ]
  },
  {
   "cell_type": "code",
   "execution_count": 14,
   "id": "c7cfbe35",
   "metadata": {},
   "outputs": [],
   "source": [
    "cars = ['audi', 'bmw', 'mercedes']\n",
    "    "
   ]
  },
  {
   "cell_type": "code",
   "execution_count": 15,
   "id": "b8585d27",
   "metadata": {},
   "outputs": [
    {
     "data": {
      "text/plain": [
       "['AUDI', 'BMW', 'MERCEDES']"
      ]
     },
     "execution_count": 15,
     "metadata": {},
     "output_type": "execute_result"
    }
   ],
   "source": [
    "[item.upper() for item in cars]"
   ]
  },
  {
   "cell_type": "markdown",
   "id": "cb59999e",
   "metadata": {},
   "source": [
    "````python\n",
    "# Another Method \n",
    "\n",
    "cars = ['audi', 'bmw', 'mercedes']\n",
    "    \n",
    "for i in range(len(cars)):\n",
    "    cars[i] = cars[i].upper()\n",
    "\n",
    "print(cars)\n",
    "````"
   ]
  },
  {
   "cell_type": "markdown",
   "id": "7bed5b44",
   "metadata": {},
   "source": [
    "# Conditionals in List Comprehension\n",
    "\n",
    "* WAP that outputs 0 if value is less than zero and outputs value if it is greater than zero"
   ]
  },
  {
   "cell_type": "code",
   "execution_count": 18,
   "id": "1708e195",
   "metadata": {},
   "outputs": [
    {
     "data": {
      "text/plain": [
       "[-5, -4, -3, -2, -1, 0, 1, 2, 3, 4]"
      ]
     },
     "execution_count": 18,
     "metadata": {},
     "output_type": "execute_result"
    }
   ],
   "source": [
    "list(range(-5, 5))"
   ]
  },
  {
   "cell_type": "code",
   "execution_count": 19,
   "id": "a4e62dfc",
   "metadata": {},
   "outputs": [
    {
     "data": {
      "text/plain": [
       "[0, 0, 0, 0, 0, 0, 0, 0, 0, 0, 0, 1, 2, 3, 4, 5, 6, 7, 8, 9]"
      ]
     },
     "execution_count": 19,
     "metadata": {},
     "output_type": "execute_result"
    }
   ],
   "source": [
    "# ReLu Activation Function\n",
    "\n",
    "[0 if item <=0 else item for item in range(-10, 10)]"
   ]
  },
  {
   "cell_type": "markdown",
   "id": "b57895a1",
   "metadata": {},
   "source": [
    "```python\n",
    "[expression if True else expression for item in iterable]\n",
    "```"
   ]
  },
  {
   "cell_type": "markdown",
   "id": "3d6e1921",
   "metadata": {},
   "source": [
    "## Extra_1\n",
    "```python\n",
    "import matplotlib. pyplot as plt\n",
    "plt.plot(range(-10, 10)), [0 if item <=0 else item for item in range(-10, 10)]\n",
    "```"
   ]
  },
  {
   "cell_type": "markdown",
   "id": "e09b7ef6",
   "metadata": {},
   "source": [
    "## Extra_2\n",
    "```python\n",
    "num_less_than_five = [num for num in range(-10, 10)]\n",
    "```"
   ]
  },
  {
   "cell_type": "markdown",
   "id": "9488d581",
   "metadata": {},
   "source": [
    "## if and else in list comprehension"
   ]
  },
  {
   "cell_type": "code",
   "execution_count": 1,
   "id": "9d846e69",
   "metadata": {},
   "outputs": [],
   "source": [
    "x = [-1, 33, 0, -22, 5]"
   ]
  },
  {
   "cell_type": "code",
   "execution_count": 2,
   "id": "7e3b728c",
   "metadata": {},
   "outputs": [
    {
     "data": {
      "text/plain": [
       "[0, 33, 0, 0, 5]"
      ]
     },
     "execution_count": 2,
     "metadata": {},
     "output_type": "execute_result"
    }
   ],
   "source": [
    "[0 if item <= 0 else item for item in x]"
   ]
  },
  {
   "cell_type": "code",
   "execution_count": null,
   "id": "dc6ba2c5",
   "metadata": {},
   "outputs": [],
   "source": []
  }
 ],
 "metadata": {
  "kernelspec": {
   "display_name": "Python 3 (ipykernel)",
   "language": "python",
   "name": "python3"
  },
  "language_info": {
   "codemirror_mode": {
    "name": "ipython",
    "version": 3
   },
   "file_extension": ".py",
   "mimetype": "text/x-python",
   "name": "python",
   "nbconvert_exporter": "python",
   "pygments_lexer": "ipython3",
   "version": "3.10.7"
  }
 },
 "nbformat": 4,
 "nbformat_minor": 5
}
