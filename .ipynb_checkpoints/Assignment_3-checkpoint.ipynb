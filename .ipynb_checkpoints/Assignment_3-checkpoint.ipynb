{
 "cells": [
  {
   "cell_type": "markdown",
   "id": "9eebc9ae",
   "metadata": {},
   "source": [
    "## Write a python function to calculate the factorial of a non-negative integer"
   ]
  },
  {
   "cell_type": "code",
   "execution_count": 1,
   "id": "f1cb4370",
   "metadata": {},
   "outputs": [
    {
     "name": "stdout",
     "output_type": "stream",
     "text": [
      "Input a number to compute the factiorial: 5\n",
      "120\n"
     ]
    }
   ],
   "source": [
    "def factorial(n):\n",
    "    if n == 0:\n",
    "        return 1\n",
    "    \n",
    "    else:\n",
    "        return n * factorial(n-1)\n",
    "    \n",
    "n = int(input(\"Input a number to compute the factiorial: \"))\n",
    "print(factorial(n))\n"
   ]
  },
  {
   "cell_type": "markdown",
   "id": "8be1313a",
   "metadata": {},
   "source": [
    "## Write a function to check if the given input number is prime or not. If prime return true else return false."
   ]
  },
  {
   "cell_type": "code",
   "execution_count": 2,
   "id": "32e1a272",
   "metadata": {},
   "outputs": [
    {
     "name": "stdout",
     "output_type": "stream",
     "text": [
      "Input a number to check if it is prime or not: 7\n",
      "True\n"
     ]
    }
   ],
   "source": [
    "def test_prime(n):\n",
    "    \n",
    "    if (n == 1 ):\n",
    "        return False\n",
    "    \n",
    "    elif (n == 2):\n",
    "        return True\n",
    "    \n",
    "    else:\n",
    "        for x in range(2, n):\n",
    "            \n",
    "            if(n % x == 0):\n",
    "                return False\n",
    "            \n",
    "        return True  \n",
    "    \n",
    "n = int(input(\"Input a number to check if it is prime or not: \"))  \n",
    "print(test_prime(n))\n"
   ]
  },
  {
   "cell_type": "markdown",
   "id": "c7a7018d",
   "metadata": {},
   "source": [
    "## Write a python function that takes a list and returns a new list with unique elements of the first list."
   ]
  },
  {
   "cell_type": "code",
   "execution_count": 4,
   "id": "7e2e36e3",
   "metadata": {},
   "outputs": [
    {
     "name": "stdout",
     "output_type": "stream",
     "text": [
      "[1, 2, 3, 4, 5]\n"
     ]
    }
   ],
   "source": [
    "def unique_list(l):\n",
    "  x = []\n",
    "\n",
    "  for a in l:\n",
    "        \n",
    "    if a not in x:\n",
    "      x.append(a)\n",
    "    \n",
    "  return x\n",
    "\n",
    "print(unique_list([1, 2, 3, 3, 3, 3, 4, 5])) "
   ]
  },
  {
   "cell_type": "markdown",
   "id": "6270d39b",
   "metadata": {},
   "source": [
    "## Write a python function that accepts a string and calculates the number of upper-case letters and lower-case letters.\n"
   ]
  },
  {
   "cell_type": "code",
   "execution_count": 3,
   "id": "2a49ec7b",
   "metadata": {},
   "outputs": [
    {
     "name": "stdout",
     "output_type": "stream",
     "text": [
      "Enter a string: Hey! How are you?\n",
      "Lower case characters = 10\n",
      "Upper case characters = 2\n"
     ]
    }
   ],
   "source": [
    "def string_test(string):\n",
    "    upper = 0\n",
    "    lower = 0\n",
    " \n",
    "    for i in range(len(string)):\n",
    "         \n",
    "        \"\"\" ord() function returns the Unicode code from a given character. This function accepts a string of \n",
    "            unit length as an argument and returns the Unicode equivalence of the passed argument. \"\"\"\n",
    "        \n",
    "        # For lower letters\n",
    "        if (ord(string[i]) >= 97 and\n",
    "            ord(string[i]) <= 122):\n",
    "            lower += 1\n",
    " \n",
    "        # For upper letters\n",
    "        elif (ord(string[i]) >= 65 and\n",
    "            ord(string[i]) <= 90):\n",
    "            upper += 1\n",
    " \n",
    "    print('Lower case characters = %s' %lower)\n",
    "    print('Upper case characters = %s' %upper)\n",
    " \n",
    "string = str(input(\"Enter a string: \"))\n",
    "string_test(string)"
   ]
  },
  {
   "cell_type": "markdown",
   "id": "86b82f84",
   "metadata": {},
   "source": [
    "## Write a python program that accepts a hyphen- separated sequence after sorting them alphabetically.\n",
    "\n",
    "* Sample Items: green-red-yellow-black-white\n",
    "* Expected Result: black-green-red-white-yellow"
   ]
  },
  {
   "cell_type": "code",
   "execution_count": 1,
   "id": "e31b5e00",
   "metadata": {},
   "outputs": [
    {
     "name": "stdout",
     "output_type": "stream",
     "text": [
      "Ente your sample: green-red-yellow-black-white\n",
      "black-green-red-white-yellow\n"
     ]
    }
   ],
   "source": [
    "items=[n for n in input(\"Ente your sample: \").split('-')]\n",
    "items.sort()\n",
    "print('-'.join(items))"
   ]
  }
 ],
 "metadata": {
  "kernelspec": {
   "display_name": "Python 3 (ipykernel)",
   "language": "python",
   "name": "python3"
  },
  "language_info": {
   "codemirror_mode": {
    "name": "ipython",
    "version": 3
   },
   "file_extension": ".py",
   "mimetype": "text/x-python",
   "name": "python",
   "nbconvert_exporter": "python",
   "pygments_lexer": "ipython3",
   "version": "3.10.7"
  }
 },
 "nbformat": 4,
 "nbformat_minor": 5
}
