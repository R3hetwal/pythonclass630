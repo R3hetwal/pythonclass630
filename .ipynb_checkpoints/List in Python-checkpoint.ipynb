{
 "cells": [
  {
   "cell_type": "markdown",
   "id": "577dd1f8",
   "metadata": {},
   "source": [
    "# Creating empty list"
   ]
  },
  {
   "cell_type": "code",
   "execution_count": 1,
   "id": "08d6900d",
   "metadata": {},
   "outputs": [],
   "source": [
    "list1 = []"
   ]
  },
  {
   "cell_type": "code",
   "execution_count": 2,
   "id": "1c05fec7",
   "metadata": {},
   "outputs": [],
   "source": [
    "list2 = list() # creating empty list using list() method / constructor"
   ]
  },
  {
   "cell_type": "code",
   "execution_count": 3,
   "id": "0776bdcb",
   "metadata": {},
   "outputs": [
    {
     "data": {
      "text/plain": [
       "list"
      ]
     },
     "execution_count": 3,
     "metadata": {},
     "output_type": "execute_result"
    }
   ],
   "source": [
    "type(list1)"
   ]
  },
  {
   "cell_type": "code",
   "execution_count": 4,
   "id": "2dd534d3",
   "metadata": {},
   "outputs": [
    {
     "data": {
      "text/plain": [
       "list"
      ]
     },
     "execution_count": 4,
     "metadata": {},
     "output_type": "execute_result"
    }
   ],
   "source": [
    "type(list2)"
   ]
  },
  {
   "cell_type": "markdown",
   "id": "738282d6",
   "metadata": {},
   "source": [
    "# Create list"
   ]
  },
  {
   "cell_type": "code",
   "execution_count": 5,
   "id": "8eace543",
   "metadata": {},
   "outputs": [],
   "source": [
    "fruits = ['Apple', 'Banana', 'Peaches', 'Grapes', 'Kiwi']"
   ]
  },
  {
   "cell_type": "code",
   "execution_count": 6,
   "id": "31c84c56",
   "metadata": {},
   "outputs": [
    {
     "data": {
      "text/plain": [
       "['Apple', 'Banana', 'Peaches', 'Grapes', 'Kiwi']"
      ]
     },
     "execution_count": 6,
     "metadata": {},
     "output_type": "execute_result"
    }
   ],
   "source": [
    "fruits"
   ]
  },
  {
   "cell_type": "code",
   "execution_count": 7,
   "id": "8037aaa9",
   "metadata": {},
   "outputs": [
    {
     "data": {
      "text/plain": [
       "list"
      ]
     },
     "execution_count": 7,
     "metadata": {},
     "output_type": "execute_result"
    }
   ],
   "source": [
    "type(fruits)"
   ]
  },
  {
   "cell_type": "code",
   "execution_count": 8,
   "id": "3c674cc2",
   "metadata": {},
   "outputs": [],
   "source": [
    "data = [True, 403, 20.12, \"Apple\"]"
   ]
  },
  {
   "cell_type": "code",
   "execution_count": 9,
   "id": "37e1aab2",
   "metadata": {},
   "outputs": [
    {
     "data": {
      "text/plain": [
       "list"
      ]
     },
     "execution_count": 9,
     "metadata": {},
     "output_type": "execute_result"
    }
   ],
   "source": [
    "type(data)"
   ]
  },
  {
   "cell_type": "markdown",
   "id": "dc0deb62",
   "metadata": {},
   "source": [
    "# Accessing list items (index)"
   ]
  },
  {
   "cell_type": "code",
   "execution_count": 10,
   "id": "f1f85d78",
   "metadata": {},
   "outputs": [],
   "source": [
    "cars = [\"Tesla\", \"Audi\", \"BMW\", \"Mercedes\"]"
   ]
  },
  {
   "cell_type": "code",
   "execution_count": 11,
   "id": "2e46b428",
   "metadata": {},
   "outputs": [
    {
     "data": {
      "text/plain": [
       "['Tesla', 'Audi', 'BMW', 'Mercedes']"
      ]
     },
     "execution_count": 11,
     "metadata": {},
     "output_type": "execute_result"
    }
   ],
   "source": [
    "cars"
   ]
  },
  {
   "cell_type": "code",
   "execution_count": 12,
   "id": "2f6591e1",
   "metadata": {},
   "outputs": [
    {
     "data": {
      "text/plain": [
       "'Tesla'"
      ]
     },
     "execution_count": 12,
     "metadata": {},
     "output_type": "execute_result"
    }
   ],
   "source": [
    "cars[0]"
   ]
  },
  {
   "cell_type": "code",
   "execution_count": 13,
   "id": "44191e92",
   "metadata": {},
   "outputs": [
    {
     "data": {
      "text/plain": [
       "'Audi'"
      ]
     },
     "execution_count": 13,
     "metadata": {},
     "output_type": "execute_result"
    }
   ],
   "source": [
    "cars[1]"
   ]
  },
  {
   "cell_type": "code",
   "execution_count": 14,
   "id": "b6bdf662",
   "metadata": {},
   "outputs": [
    {
     "data": {
      "text/plain": [
       "'BMW'"
      ]
     },
     "execution_count": 14,
     "metadata": {},
     "output_type": "execute_result"
    }
   ],
   "source": [
    "cars[2]"
   ]
  },
  {
   "cell_type": "code",
   "execution_count": 15,
   "id": "77d7280e",
   "metadata": {},
   "outputs": [
    {
     "data": {
      "text/plain": [
       "'Mercedes'"
      ]
     },
     "execution_count": 15,
     "metadata": {},
     "output_type": "execute_result"
    }
   ],
   "source": [
    "cars[3]"
   ]
  },
  {
   "cell_type": "code",
   "execution_count": 16,
   "id": "0e73e3a7",
   "metadata": {},
   "outputs": [],
   "source": [
    "nums = [9, 2, 45, 0, 11]"
   ]
  },
  {
   "cell_type": "code",
   "execution_count": 17,
   "id": "364ecbdf",
   "metadata": {},
   "outputs": [
    {
     "data": {
      "text/plain": [
       "9"
      ]
     },
     "execution_count": 17,
     "metadata": {},
     "output_type": "execute_result"
    }
   ],
   "source": [
    "nums[0]"
   ]
  },
  {
   "cell_type": "code",
   "execution_count": 18,
   "id": "0008934e",
   "metadata": {},
   "outputs": [
    {
     "data": {
      "text/plain": [
       "2"
      ]
     },
     "execution_count": 18,
     "metadata": {},
     "output_type": "execute_result"
    }
   ],
   "source": [
    "nums[1]"
   ]
  },
  {
   "cell_type": "code",
   "execution_count": 19,
   "id": "72a7d66a",
   "metadata": {},
   "outputs": [
    {
     "data": {
      "text/plain": [
       "45"
      ]
     },
     "execution_count": 19,
     "metadata": {},
     "output_type": "execute_result"
    }
   ],
   "source": [
    "nums[2]"
   ]
  },
  {
   "cell_type": "code",
   "execution_count": 20,
   "id": "35979163",
   "metadata": {},
   "outputs": [
    {
     "data": {
      "text/plain": [
       "0"
      ]
     },
     "execution_count": 20,
     "metadata": {},
     "output_type": "execute_result"
    }
   ],
   "source": [
    "nums[3]"
   ]
  },
  {
   "cell_type": "code",
   "execution_count": 21,
   "id": "82025f1a",
   "metadata": {},
   "outputs": [
    {
     "data": {
      "text/plain": [
       "11"
      ]
     },
     "execution_count": 21,
     "metadata": {},
     "output_type": "execute_result"
    }
   ],
   "source": [
    "nums[4]"
   ]
  },
  {
   "cell_type": "code",
   "execution_count": 22,
   "id": "f1443d0d",
   "metadata": {},
   "outputs": [
    {
     "data": {
      "text/plain": [
       "int"
      ]
     },
     "execution_count": 22,
     "metadata": {},
     "output_type": "execute_result"
    }
   ],
   "source": [
    "type(nums[0])"
   ]
  },
  {
   "cell_type": "code",
   "execution_count": 23,
   "id": "d076774c",
   "metadata": {},
   "outputs": [],
   "source": [
    "list1 = [True, 30.2, 'hi']"
   ]
  },
  {
   "cell_type": "code",
   "execution_count": 24,
   "id": "4824c45e",
   "metadata": {},
   "outputs": [
    {
     "data": {
      "text/plain": [
       "True"
      ]
     },
     "execution_count": 24,
     "metadata": {},
     "output_type": "execute_result"
    }
   ],
   "source": [
    "list1[0]"
   ]
  },
  {
   "cell_type": "code",
   "execution_count": 25,
   "id": "4a520887",
   "metadata": {},
   "outputs": [
    {
     "data": {
      "text/plain": [
       "bool"
      ]
     },
     "execution_count": 25,
     "metadata": {},
     "output_type": "execute_result"
    }
   ],
   "source": [
    "type(list1[0])"
   ]
  },
  {
   "cell_type": "code",
   "execution_count": 26,
   "id": "c6d0f853",
   "metadata": {},
   "outputs": [
    {
     "data": {
      "text/plain": [
       "float"
      ]
     },
     "execution_count": 26,
     "metadata": {},
     "output_type": "execute_result"
    }
   ],
   "source": [
    "type(list1[1])"
   ]
  },
  {
   "cell_type": "code",
   "execution_count": 27,
   "id": "df6329bb",
   "metadata": {},
   "outputs": [
    {
     "data": {
      "text/plain": [
       "str"
      ]
     },
     "execution_count": 27,
     "metadata": {},
     "output_type": "execute_result"
    }
   ],
   "source": [
    "type(list1[2])"
   ]
  },
  {
   "cell_type": "code",
   "execution_count": 28,
   "id": "b03a707d",
   "metadata": {},
   "outputs": [
    {
     "data": {
      "text/plain": [
       "5"
      ]
     },
     "execution_count": 28,
     "metadata": {},
     "output_type": "execute_result"
    }
   ],
   "source": [
    "nums = [9, 2, 45, 0, 11]\n",
    "len(nums)"
   ]
  },
  {
   "cell_type": "code",
   "execution_count": 29,
   "id": "ec819720",
   "metadata": {},
   "outputs": [
    {
     "data": {
      "text/plain": [
       "3"
      ]
     },
     "execution_count": 29,
     "metadata": {},
     "output_type": "execute_result"
    }
   ],
   "source": [
    "len(list1)"
   ]
  },
  {
   "cell_type": "markdown",
   "id": "48f5914e",
   "metadata": {},
   "source": [
    "# Loops in Python List"
   ]
  },
  {
   "cell_type": "code",
   "execution_count": 30,
   "id": "4c105a5e",
   "metadata": {},
   "outputs": [
    {
     "name": "stdout",
     "output_type": "stream",
     "text": [
      "9\n",
      "2\n",
      "45\n",
      "0\n",
      "11\n"
     ]
    }
   ],
   "source": [
    "nums = [9, 2, 45, 0, 11]\n",
    "\n",
    "start = 0\n",
    "end = len(nums)\n",
    "step = 1\n",
    "\n",
    "for index in range(start, end, step):\n",
    "    item = nums[index]\n",
    "    print(item)\n"
   ]
  },
  {
   "cell_type": "code",
   "execution_count": 31,
   "id": "2259a247",
   "metadata": {},
   "outputs": [
    {
     "name": "stdout",
     "output_type": "stream",
     "text": [
      "9\n",
      "2\n",
      "45\n",
      "0\n",
      "11\n"
     ]
    }
   ],
   "source": [
    "nums = [9, 2, 45, 0, 11]\n",
    "\n",
    "for index in range(len(nums)): # by default starts from 0 and step is 1 so no need to mention\n",
    "    item = nums[index]\n",
    "    print(item)"
   ]
  },
  {
   "cell_type": "code",
   "execution_count": 32,
   "id": "a0495e0f",
   "metadata": {},
   "outputs": [
    {
     "name": "stdout",
     "output_type": "stream",
     "text": [
      "item 9 is at index 0\n",
      "item 2 is at index 1\n",
      "item 45 is at index 2\n",
      "item 0 is at index 3\n",
      "item 11 is at index 4\n"
     ]
    }
   ],
   "source": [
    "nums = [9, 2, 45, 0, 11]\n",
    "\n",
    "for index in range(len(nums)):\n",
    "    item = nums[index]\n",
    "    print(f\"item {item} is at index {index}\")"
   ]
  },
  {
   "cell_type": "code",
   "execution_count": 33,
   "id": "2ba3e997",
   "metadata": {},
   "outputs": [
    {
     "name": "stdout",
     "output_type": "stream",
     "text": [
      "item 9 is at index 0\n",
      "item 2 is at index 1\n",
      "item 45 is at index 2\n",
      "item 0 is at index 3\n",
      "item 11 is at index 4\n"
     ]
    }
   ],
   "source": [
    "nums = [9, 2, 45, 0, 11]\n",
    "\n",
    "for index in range(len(nums)):\n",
    "    item = nums[index]\n",
    "    print(\"item {} is at index {}\".format(item, index))"
   ]
  },
  {
   "cell_type": "code",
   "execution_count": 34,
   "id": "c041659e",
   "metadata": {},
   "outputs": [
    {
     "name": "stdout",
     "output_type": "stream",
     "text": [
      "9\n",
      "2\n",
      "45\n",
      "0\n",
      "11\n"
     ]
    }
   ],
   "source": [
    "nums = [9, 2, 45, 0, 11]\n",
    "\n",
    "for item in nums: # alternating way of writing for loop -- no index\n",
    "    print(item)"
   ]
  },
  {
   "cell_type": "markdown",
   "id": "15a25865",
   "metadata": {},
   "source": [
    "# Syntax: for loop in python\n",
    "```python\n",
    "for index in range(start, end, step)\n",
    "    # for block of code\n",
    "    \n",
    "for item in iterables:\n",
    "    # for block of code\n",
    "```"
   ]
  },
  {
   "cell_type": "markdown",
   "id": "984a8374",
   "metadata": {},
   "source": [
    "# Calculate mean using items method"
   ]
  },
  {
   "cell_type": "code",
   "execution_count": 35,
   "id": "79380caf",
   "metadata": {},
   "outputs": [],
   "source": [
    "scores = [20, 22, 59, 49, 27, 0, 62, 40, 58, 92, 36, 63, 75, 50, 73, 7, 49, 82, 1, 79]"
   ]
  },
  {
   "cell_type": "code",
   "execution_count": 36,
   "id": "a78eb971",
   "metadata": {},
   "outputs": [
    {
     "name": "stdout",
     "output_type": "stream",
     "text": [
      "944\n"
     ]
    }
   ],
   "source": [
    "total = 0\n",
    "for item in scores: \n",
    "    total = total + item\n",
    "    \n",
    "print(total)"
   ]
  },
  {
   "cell_type": "code",
   "execution_count": 37,
   "id": "dc5812a7",
   "metadata": {},
   "outputs": [
    {
     "name": "stdout",
     "output_type": "stream",
     "text": [
      "47.2\n"
     ]
    }
   ],
   "source": [
    "n = len(scores)\n",
    "mean = total / n\n",
    "print(mean)"
   ]
  },
  {
   "cell_type": "markdown",
   "id": "1c8cc62e",
   "metadata": {},
   "source": [
    " # Calculate mean using range method"
   ]
  },
  {
   "cell_type": "code",
   "execution_count": 38,
   "id": "4d468865",
   "metadata": {},
   "outputs": [
    {
     "name": "stdout",
     "output_type": "stream",
     "text": [
      "Mean = 47.2\n"
     ]
    }
   ],
   "source": [
    "scores = [20, 22, 59, 49, 27, 0, 62, 40, 58, 92, 36, 63, 75, 50, 73, 7, 49, 82, 1, 79]\n",
    "\n",
    "total = 0\n",
    "\n",
    "for index in range(len(scores)):\n",
    "    item = scores[index]\n",
    "    total = total + item\n",
    "\n",
    "n = len(scores)\n",
    "mean = total / n\n",
    "print(f'Mean = {mean}')"
   ]
  },
  {
   "cell_type": "markdown",
   "id": "292b6a51",
   "metadata": {},
   "source": [
    "# Negative indexing in Python list"
   ]
  },
  {
   "cell_type": "code",
   "execution_count": 39,
   "id": "5115b07c",
   "metadata": {},
   "outputs": [],
   "source": [
    "food = ['Daal', 'Bhaat', 'Tarkari', 'Achhar', 'Chutney']"
   ]
  },
  {
   "cell_type": "code",
   "execution_count": 40,
   "id": "fd6e8890",
   "metadata": {},
   "outputs": [
    {
     "data": {
      "text/plain": [
       "'Daal'"
      ]
     },
     "execution_count": 40,
     "metadata": {},
     "output_type": "execute_result"
    }
   ],
   "source": [
    "food[0]"
   ]
  },
  {
   "cell_type": "code",
   "execution_count": 41,
   "id": "e0e9c145",
   "metadata": {},
   "outputs": [
    {
     "data": {
      "text/plain": [
       "'Chutney'"
      ]
     },
     "execution_count": 41,
     "metadata": {},
     "output_type": "execute_result"
    }
   ],
   "source": [
    "food[4]"
   ]
  },
  {
   "cell_type": "code",
   "execution_count": 42,
   "id": "98b89946",
   "metadata": {},
   "outputs": [
    {
     "data": {
      "text/plain": [
       "'Chutney'"
      ]
     },
     "execution_count": 42,
     "metadata": {},
     "output_type": "execute_result"
    }
   ],
   "source": [
    "food[-1] # negative indexing -- to access values from the last"
   ]
  },
  {
   "cell_type": "code",
   "execution_count": 43,
   "id": "3d60790c",
   "metadata": {},
   "outputs": [
    {
     "data": {
      "text/plain": [
       "'Achhar'"
      ]
     },
     "execution_count": 43,
     "metadata": {},
     "output_type": "execute_result"
    }
   ],
   "source": [
    "food[-2]"
   ]
  },
  {
   "cell_type": "markdown",
   "id": "b0f1f651",
   "metadata": {},
   "source": [
    "# Slicing in List"
   ]
  },
  {
   "cell_type": "code",
   "execution_count": 44,
   "id": "533a8899",
   "metadata": {},
   "outputs": [],
   "source": [
    "food = ['Daal', 'Bhaat', 'Tarkari', 'Achhar', 'Chutney', 'Masu']"
   ]
  },
  {
   "cell_type": "code",
   "execution_count": 45,
   "id": "85431b10",
   "metadata": {},
   "outputs": [
    {
     "data": {
      "text/plain": [
       "['Daal', 'Bhaat']"
      ]
     },
     "execution_count": 45,
     "metadata": {},
     "output_type": "execute_result"
    }
   ],
   "source": [
    "food[:2] # before position 2"
   ]
  },
  {
   "cell_type": "code",
   "execution_count": 46,
   "id": "152ecc8f",
   "metadata": {},
   "outputs": [
    {
     "data": {
      "text/plain": [
       "['Tarkari', 'Achhar', 'Chutney']"
      ]
     },
     "execution_count": 46,
     "metadata": {},
     "output_type": "execute_result"
    }
   ],
   "source": [
    "food[2:5] # besides position 0, 1 and 5 "
   ]
  },
  {
   "cell_type": "code",
   "execution_count": 47,
   "id": "6a9adbaf",
   "metadata": {},
   "outputs": [
    {
     "data": {
      "text/plain": [
       "['Tarkari', 'Achhar', 'Chutney', 'Masu']"
      ]
     },
     "execution_count": 47,
     "metadata": {},
     "output_type": "execute_result"
    }
   ],
   "source": [
    "food[2:] # after position 2"
   ]
  },
  {
   "cell_type": "markdown",
   "id": "c1df658a",
   "metadata": {},
   "source": [
    "# Membership operators in Python\n",
    "* How to check if something is in the list or not?"
   ]
  },
  {
   "cell_type": "code",
   "execution_count": 48,
   "id": "a363a038",
   "metadata": {},
   "outputs": [],
   "source": [
    "food = ['Daal', 'Bhaat', 'Tarkari', 'Achhar', 'Chutney', 'Masu']"
   ]
  },
  {
   "cell_type": "code",
   "execution_count": 49,
   "id": "5c25540d",
   "metadata": {},
   "outputs": [
    {
     "data": {
      "text/plain": [
       "True"
      ]
     },
     "execution_count": 49,
     "metadata": {},
     "output_type": "execute_result"
    }
   ],
   "source": [
    "\"Masu\" in food"
   ]
  },
  {
   "cell_type": "code",
   "execution_count": 50,
   "id": "0e16f085",
   "metadata": {},
   "outputs": [
    {
     "data": {
      "text/plain": [
       "False"
      ]
     },
     "execution_count": 50,
     "metadata": {},
     "output_type": "execute_result"
    }
   ],
   "source": [
    "\"Salad\" in food"
   ]
  },
  {
   "cell_type": "code",
   "execution_count": 51,
   "id": "384fcd22",
   "metadata": {},
   "outputs": [
    {
     "data": {
      "text/plain": [
       "True"
      ]
     },
     "execution_count": 51,
     "metadata": {},
     "output_type": "execute_result"
    }
   ],
   "source": [
    "\"Salad\" not in food"
   ]
  },
  {
   "cell_type": "code",
   "execution_count": 52,
   "id": "054528e8",
   "metadata": {},
   "outputs": [
    {
     "data": {
      "text/plain": [
       "False"
      ]
     },
     "execution_count": 52,
     "metadata": {},
     "output_type": "execute_result"
    }
   ],
   "source": [
    "\"Masu\" not in food"
   ]
  },
  {
   "cell_type": "code",
   "execution_count": 53,
   "id": "1580ed89",
   "metadata": {},
   "outputs": [],
   "source": [
    "cars = [\"Porsche\", \"BMW\", \"Audi\", \"Pagani\", \"Lamborghini\"]"
   ]
  },
  {
   "cell_type": "code",
   "execution_count": 54,
   "id": "31ef83a6",
   "metadata": {},
   "outputs": [
    {
     "data": {
      "text/plain": [
       "False"
      ]
     },
     "execution_count": 54,
     "metadata": {},
     "output_type": "execute_result"
    }
   ],
   "source": [
    "\"Volkswagen\" in cars"
   ]
  },
  {
   "cell_type": "code",
   "execution_count": 55,
   "id": "c2f54490",
   "metadata": {},
   "outputs": [
    {
     "data": {
      "text/plain": [
       "True"
      ]
     },
     "execution_count": 55,
     "metadata": {},
     "output_type": "execute_result"
    }
   ],
   "source": [
    "\"Lamborghini\" in cars"
   ]
  },
  {
   "cell_type": "code",
   "execution_count": 56,
   "id": "32dc400e",
   "metadata": {},
   "outputs": [
    {
     "data": {
      "text/plain": [
       "False"
      ]
     },
     "execution_count": 56,
     "metadata": {},
     "output_type": "execute_result"
    }
   ],
   "source": [
    "\"Porsche\" not in cars"
   ]
  },
  {
   "cell_type": "code",
   "execution_count": 57,
   "id": "8f97caf9",
   "metadata": {},
   "outputs": [
    {
     "data": {
      "text/plain": [
       "True"
      ]
     },
     "execution_count": 57,
     "metadata": {},
     "output_type": "execute_result"
    }
   ],
   "source": [
    "\"Ferrari\" not in cars"
   ]
  },
  {
   "cell_type": "code",
   "execution_count": 58,
   "id": "9e9e32e8",
   "metadata": {},
   "outputs": [],
   "source": [
    "nums = [5, 4, 3, 0, 7, 9]"
   ]
  },
  {
   "cell_type": "code",
   "execution_count": 59,
   "id": "34ddaa61",
   "metadata": {},
   "outputs": [
    {
     "data": {
      "text/plain": [
       "False"
      ]
     },
     "execution_count": 59,
     "metadata": {},
     "output_type": "execute_result"
    }
   ],
   "source": [
    "6 in nums"
   ]
  },
  {
   "cell_type": "code",
   "execution_count": 60,
   "id": "c98467d3",
   "metadata": {},
   "outputs": [
    {
     "data": {
      "text/plain": [
       "True"
      ]
     },
     "execution_count": 60,
     "metadata": {},
     "output_type": "execute_result"
    }
   ],
   "source": [
    "45 not in nums"
   ]
  },
  {
   "cell_type": "code",
   "execution_count": 61,
   "id": "2062d09b",
   "metadata": {},
   "outputs": [
    {
     "data": {
      "text/plain": [
       "True"
      ]
     },
     "execution_count": 61,
     "metadata": {},
     "output_type": "execute_result"
    }
   ],
   "source": [
    "0 in nums"
   ]
  },
  {
   "cell_type": "code",
   "execution_count": 62,
   "id": "6ce588b5",
   "metadata": {},
   "outputs": [
    {
     "data": {
      "text/plain": [
       "False"
      ]
     },
     "execution_count": 62,
     "metadata": {},
     "output_type": "execute_result"
    }
   ],
   "source": [
    "45 in nums"
   ]
  },
  {
   "cell_type": "markdown",
   "id": "8ca3ad89",
   "metadata": {},
   "source": [
    "# Manipulation of list"
   ]
  },
  {
   "cell_type": "code",
   "execution_count": 1,
   "id": "12d3826c",
   "metadata": {},
   "outputs": [],
   "source": [
    "fruits = ['apple', 'banana', 'mango', 'orange', 'pear']"
   ]
  },
  {
   "cell_type": "code",
   "execution_count": 2,
   "id": "0aa2c186",
   "metadata": {},
   "outputs": [],
   "source": [
    "fruits[0] = 'Kiwi'"
   ]
  },
  {
   "cell_type": "code",
   "execution_count": 3,
   "id": "a4684b4f",
   "metadata": {},
   "outputs": [
    {
     "data": {
      "text/plain": [
       "['Kiwi', 'banana', 'mango', 'orange', 'pear']"
      ]
     },
     "execution_count": 3,
     "metadata": {},
     "output_type": "execute_result"
    }
   ],
   "source": [
    "fruits"
   ]
  },
  {
   "cell_type": "code",
   "execution_count": 4,
   "id": "dd4c8773",
   "metadata": {},
   "outputs": [],
   "source": [
    "fruits[2:4] = ['Papaya', 'Grapes'] # replaces item in index 2 and 3"
   ]
  },
  {
   "cell_type": "code",
   "execution_count": 5,
   "id": "732576c8",
   "metadata": {},
   "outputs": [
    {
     "data": {
      "text/plain": [
       "['Kiwi', 'banana', 'Papaya', 'Grapes', 'pear']"
      ]
     },
     "execution_count": 5,
     "metadata": {},
     "output_type": "execute_result"
    }
   ],
   "source": [
    "fruits"
   ]
  },
  {
   "cell_type": "markdown",
   "id": "0d8734c9",
   "metadata": {},
   "source": [
    "## You can insert a list item in a specified index, using the index() method"
   ]
  },
  {
   "cell_type": "code",
   "execution_count": 6,
   "id": "456dc581",
   "metadata": {},
   "outputs": [],
   "source": [
    "cars = ['Audi', 'Rolls Royace', 'Mercedes', 'BMW', 'Tesla']"
   ]
  },
  {
   "cell_type": "code",
   "execution_count": 7,
   "id": "15f4da33",
   "metadata": {},
   "outputs": [],
   "source": [
    "cars.insert(2, 'Tata Nano') # insert Tata Nano on index 2"
   ]
  },
  {
   "cell_type": "code",
   "execution_count": 8,
   "id": "fae184b2",
   "metadata": {},
   "outputs": [
    {
     "data": {
      "text/plain": [
       "['Audi', 'Rolls Royace', 'Tata Nano', 'Mercedes', 'BMW', 'Tesla']"
      ]
     },
     "execution_count": 8,
     "metadata": {},
     "output_type": "execute_result"
    }
   ],
   "source": [
    "cars"
   ]
  },
  {
   "cell_type": "code",
   "execution_count": 13,
   "id": "963bde36",
   "metadata": {},
   "outputs": [
    {
     "name": "stdout",
     "output_type": "stream",
     "text": [
      "Enter a cars name: Pagani\n",
      "Enter a cars name: Porsche\n",
      "Enter a cars name: Lexus\n",
      "Enter a cars name: Lamborghini\n",
      "Enter a cars name: Audi\n"
     ]
    }
   ],
   "source": [
    "car = []\n",
    "\n",
    "for i in range(5):\n",
    "    user_input = input(\"Enter a cars name: \")\n",
    "    car.append(user_input)"
   ]
  },
  {
   "cell_type": "code",
   "execution_count": 14,
   "id": "c4781533",
   "metadata": {},
   "outputs": [
    {
     "name": "stdout",
     "output_type": "stream",
     "text": [
      "['Pagani', 'Porsche', 'Lexus', 'Lamborghini', 'Audi']\n"
     ]
    }
   ],
   "source": [
    "print(car)"
   ]
  },
  {
   "cell_type": "code",
   "execution_count": 15,
   "id": "c0c19b54",
   "metadata": {},
   "outputs": [],
   "source": [
    "nums = [6]"
   ]
  },
  {
   "cell_type": "code",
   "execution_count": 16,
   "id": "b585cb1c",
   "metadata": {},
   "outputs": [
    {
     "data": {
      "text/plain": [
       "[6]"
      ]
     },
     "execution_count": 16,
     "metadata": {},
     "output_type": "execute_result"
    }
   ],
   "source": [
    "nums"
   ]
  },
  {
   "cell_type": "code",
   "execution_count": 17,
   "id": "5cbdd24e",
   "metadata": {},
   "outputs": [
    {
     "data": {
      "text/plain": [
       "list"
      ]
     },
     "execution_count": 17,
     "metadata": {},
     "output_type": "execute_result"
    }
   ],
   "source": [
    "type(nums)"
   ]
  },
  {
   "cell_type": "code",
   "execution_count": 18,
   "id": "fcbba0d4",
   "metadata": {},
   "outputs": [],
   "source": [
    "nums.append(78)"
   ]
  },
  {
   "cell_type": "code",
   "execution_count": 19,
   "id": "24aa86e1",
   "metadata": {},
   "outputs": [
    {
     "data": {
      "text/plain": [
       "[6, 78]"
      ]
     },
     "execution_count": 19,
     "metadata": {},
     "output_type": "execute_result"
    }
   ],
   "source": [
    "nums"
   ]
  },
  {
   "cell_type": "markdown",
   "id": "1bafde23",
   "metadata": {},
   "source": [
    "## extend() method of Python list"
   ]
  },
  {
   "cell_type": "code",
   "execution_count": 21,
   "id": "5866e869",
   "metadata": {},
   "outputs": [],
   "source": [
    "list1 = [88, 77]\n",
    "list2 = [0, 1]"
   ]
  },
  {
   "cell_type": "code",
   "execution_count": 22,
   "id": "9162feef",
   "metadata": {},
   "outputs": [],
   "source": [
    "list1.extend(list2)"
   ]
  },
  {
   "cell_type": "code",
   "execution_count": 23,
   "id": "da858c99",
   "metadata": {},
   "outputs": [
    {
     "data": {
      "text/plain": [
       "[88, 77, 0, 1]"
      ]
     },
     "execution_count": 23,
     "metadata": {},
     "output_type": "execute_result"
    }
   ],
   "source": [
    "list1"
   ]
  },
  {
   "cell_type": "code",
   "execution_count": 24,
   "id": "708b424f",
   "metadata": {},
   "outputs": [
    {
     "data": {
      "text/plain": [
       "[0, 1]"
      ]
     },
     "execution_count": 24,
     "metadata": {},
     "output_type": "execute_result"
    }
   ],
   "source": [
    "list2"
   ]
  },
  {
   "cell_type": "code",
   "execution_count": 26,
   "id": "e558ac69",
   "metadata": {},
   "outputs": [
    {
     "name": "stdout",
     "output_type": "stream",
     "text": [
      "['Apple', 'Banana', 'Mango', 'Pear', 'Kiwi', 'Grapes']\n"
     ]
    }
   ],
   "source": [
    "list1 = ['Apple', 'Banana', 'Mango', 'Pear']\n",
    "list2 = ['Kiwi', 'Grapes']\n",
    "list1.extend(list2)\n",
    "print(list1)"
   ]
  },
  {
   "cell_type": "code",
   "execution_count": 27,
   "id": "195df68f",
   "metadata": {},
   "outputs": [
    {
     "name": "stdout",
     "output_type": "stream",
     "text": [
      "['Kiwi', 'Grapes']\n"
     ]
    }
   ],
   "source": [
    "print(list2)"
   ]
  },
  {
   "cell_type": "code",
   "execution_count": 30,
   "id": "769864d0",
   "metadata": {},
   "outputs": [
    {
     "data": {
      "text/plain": [
       "['Mohan', 'Sohan', 'Ram', 'Shyam']"
      ]
     },
     "execution_count": 30,
     "metadata": {},
     "output_type": "execute_result"
    }
   ],
   "source": [
    "list1 = ['Ram', 'Shyam']\n",
    "list2 = ['Mohan', 'Sohan']\n",
    "list2.extend(list1)\n",
    "list2"
   ]
  },
  {
   "cell_type": "code",
   "execution_count": 31,
   "id": "a37ffa1d",
   "metadata": {},
   "outputs": [
    {
     "data": {
      "text/plain": [
       "['Ram', 'Shyam']"
      ]
     },
     "execution_count": 31,
     "metadata": {},
     "output_type": "execute_result"
    }
   ],
   "source": [
    "list1"
   ]
  },
  {
   "cell_type": "markdown",
   "id": "3560e1a1",
   "metadata": {},
   "source": [
    "## remove() method in Python list"
   ]
  },
  {
   "cell_type": "code",
   "execution_count": 33,
   "id": "5213747a",
   "metadata": {},
   "outputs": [],
   "source": [
    "student = ['Sandeep', 'Rakshya', 'Soshika', 'Sezal', 'Kshitiz']"
   ]
  },
  {
   "cell_type": "code",
   "execution_count": 34,
   "id": "e54323eb",
   "metadata": {},
   "outputs": [],
   "source": [
    "student.remove('Kshitiz')"
   ]
  },
  {
   "cell_type": "code",
   "execution_count": 35,
   "id": "7e339f9c",
   "metadata": {},
   "outputs": [
    {
     "data": {
      "text/plain": [
       "['Sandeep', 'Rakshya', 'Soshika', 'Sezal']"
      ]
     },
     "execution_count": 35,
     "metadata": {},
     "output_type": "execute_result"
    }
   ],
   "source": [
    "student"
   ]
  },
  {
   "cell_type": "code",
   "execution_count": 42,
   "id": "95f5f53d",
   "metadata": {},
   "outputs": [
    {
     "data": {
      "text/plain": [
       "['Kshitiz', 'Sandeep', 'Rakshya', 'Soshika', 'Sezal', 'Kshitiz']"
      ]
     },
     "execution_count": 42,
     "metadata": {},
     "output_type": "execute_result"
    }
   ],
   "source": [
    "student = ['Kshitiz', 'Sandeep', 'Rakshya', 'Soshika', 'Sezal', 'Kshitiz']\n",
    "student"
   ]
  },
  {
   "cell_type": "code",
   "execution_count": 43,
   "id": "4384bf89",
   "metadata": {},
   "outputs": [],
   "source": [
    "student.remove('Kshitiz') # removes first occurance of Kshitiz only"
   ]
  },
  {
   "cell_type": "code",
   "execution_count": 44,
   "id": "085ceb8b",
   "metadata": {},
   "outputs": [
    {
     "data": {
      "text/plain": [
       "['Sandeep', 'Rakshya', 'Soshika', 'Sezal', 'Kshitiz']"
      ]
     },
     "execution_count": 44,
     "metadata": {},
     "output_type": "execute_result"
    }
   ],
   "source": [
    "student"
   ]
  },
  {
   "cell_type": "markdown",
   "id": "c80f5f30",
   "metadata": {},
   "source": [
    "# Python List as stack data structure"
   ]
  },
  {
   "cell_type": "code",
   "execution_count": 50,
   "id": "a9eb3573",
   "metadata": {},
   "outputs": [
    {
     "name": "stdout",
     "output_type": "stream",
     "text": [
      "Enter programming books of your choice: Python\n",
      "Enter programming books of your choice: Java\n",
      "Enter programming books of your choice: C++\n",
      "Enter programming books of your choice: C\n"
     ]
    }
   ],
   "source": [
    "stack = []\n",
    "for i in range(4):\n",
    "    user_input = input(\"Enter programming books of your choice: \")\n",
    "    stack.append(user_input)\n"
   ]
  },
  {
   "cell_type": "code",
   "execution_count": 51,
   "id": "5eba434d",
   "metadata": {},
   "outputs": [],
   "source": [
    "stack.append('Ruby')"
   ]
  },
  {
   "cell_type": "code",
   "execution_count": 52,
   "id": "1e6aaa92",
   "metadata": {},
   "outputs": [
    {
     "name": "stdout",
     "output_type": "stream",
     "text": [
      "After Pushing all data in stack: ['Python', 'Java', 'C++', 'C', 'Ruby']\n"
     ]
    }
   ],
   "source": [
    "print(f\"After Pushing all data in stack: {stack}\")"
   ]
  },
  {
   "cell_type": "code",
   "execution_count": 53,
   "id": "4010341e",
   "metadata": {},
   "outputs": [
    {
     "data": {
      "text/plain": [
       "'Ruby'"
      ]
     },
     "execution_count": 53,
     "metadata": {},
     "output_type": "execute_result"
    }
   ],
   "source": [
    "stack.pop() # pop operation"
   ]
  },
  {
   "cell_type": "code",
   "execution_count": 55,
   "id": "26197ca8",
   "metadata": {},
   "outputs": [
    {
     "name": "stdout",
     "output_type": "stream",
     "text": [
      "After poping all data in stack: ['Python', 'Java', 'C++', 'C']\n"
     ]
    }
   ],
   "source": [
    "print(f\"After poping all data in stack: {stack}\")"
   ]
  },
  {
   "cell_type": "code",
   "execution_count": 57,
   "id": "060e1137",
   "metadata": {},
   "outputs": [
    {
     "data": {
      "text/plain": [
       "'Java'"
      ]
     },
     "execution_count": 57,
     "metadata": {},
     "output_type": "execute_result"
    }
   ],
   "source": [
    "books = ['Python', 'Java', 'C']\n",
    "books.pop(1) # removes item in index --1"
   ]
  },
  {
   "cell_type": "code",
   "execution_count": 58,
   "id": "1adb2346",
   "metadata": {},
   "outputs": [
    {
     "data": {
      "text/plain": [
       "['Python', 'C']"
      ]
     },
     "execution_count": 58,
     "metadata": {},
     "output_type": "execute_result"
    }
   ],
   "source": [
    "books\n"
   ]
  },
  {
   "cell_type": "markdown",
   "id": "e9828551",
   "metadata": {},
   "source": [
    "# Sorting of list"
   ]
  },
  {
   "cell_type": "code",
   "execution_count": 59,
   "id": "a3297dff",
   "metadata": {},
   "outputs": [],
   "source": [
    "nums = [99, 2, -9]"
   ]
  },
  {
   "cell_type": "code",
   "execution_count": 60,
   "id": "4b98af74",
   "metadata": {},
   "outputs": [],
   "source": [
    "nums.sort() # sorts data in ascendng order by default"
   ]
  },
  {
   "cell_type": "code",
   "execution_count": 61,
   "id": "d53004f3",
   "metadata": {},
   "outputs": [
    {
     "data": {
      "text/plain": [
       "[-9, 2, 99]"
      ]
     },
     "execution_count": 61,
     "metadata": {},
     "output_type": "execute_result"
    }
   ],
   "source": [
    "nums"
   ]
  },
  {
   "cell_type": "code",
   "execution_count": 62,
   "id": "57710b5e",
   "metadata": {},
   "outputs": [],
   "source": [
    "nums = [-1, 0, 5, 99]"
   ]
  },
  {
   "cell_type": "code",
   "execution_count": 64,
   "id": "6c8f0fa5",
   "metadata": {},
   "outputs": [],
   "source": [
    "nums.sort(reverse = True) # sorts data in descending order"
   ]
  },
  {
   "cell_type": "code",
   "execution_count": 65,
   "id": "d149158a",
   "metadata": {},
   "outputs": [
    {
     "name": "stdout",
     "output_type": "stream",
     "text": [
      "[99, 5, 0, -1]\n"
     ]
    }
   ],
   "source": [
    "print(nums)"
   ]
  },
  {
   "cell_type": "markdown",
   "id": "0ac3b47b",
   "metadata": {},
   "source": [
    "## Another method"
   ]
  },
  {
   "cell_type": "code",
   "execution_count": 66,
   "id": "093c2913",
   "metadata": {},
   "outputs": [
    {
     "data": {
      "text/plain": [
       "[-1, 0, 5, 99]"
      ]
     },
     "execution_count": 66,
     "metadata": {},
     "output_type": "execute_result"
    }
   ],
   "source": [
    "nums = [-1, 0, 5, 99]\n",
    "sorted(nums) # does not update the nums object"
   ]
  },
  {
   "cell_type": "code",
   "execution_count": 67,
   "id": "90ccbd3e",
   "metadata": {},
   "outputs": [
    {
     "data": {
      "text/plain": [
       "[-1, 0, 5, 99]"
      ]
     },
     "execution_count": 67,
     "metadata": {},
     "output_type": "execute_result"
    }
   ],
   "source": [
    "nums"
   ]
  },
  {
   "cell_type": "code",
   "execution_count": 68,
   "id": "c175746d",
   "metadata": {},
   "outputs": [
    {
     "data": {
      "text/plain": [
       "[99, 5, 0, -1]"
      ]
     },
     "execution_count": 68,
     "metadata": {},
     "output_type": "execute_result"
    }
   ],
   "source": [
    "nums = [-1, 0, 5, 99]\n",
    "\n",
    "sorted(nums, reverse = True) # does mot update the nums oject"
   ]
  }
 ],
 "metadata": {
  "kernelspec": {
   "display_name": "Python 3 (ipykernel)",
   "language": "python",
   "name": "python3"
  },
  "language_info": {
   "codemirror_mode": {
    "name": "ipython",
    "version": 3
   },
   "file_extension": ".py",
   "mimetype": "text/x-python",
   "name": "python",
   "nbconvert_exporter": "python",
   "pygments_lexer": "ipython3",
   "version": "3.10.7"
  }
 },
 "nbformat": 4,
 "nbformat_minor": 5
}
