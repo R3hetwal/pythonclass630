{
 "cells": [
  {
   "cell_type": "markdown",
   "id": "be18686a",
   "metadata": {},
   "source": [
    "# Write a program to check if the given user input is odd or even. If it is even print even else print odd."
   ]
  },
  {
   "cell_type": "code",
   "execution_count": 1,
   "id": "5f8dcbe9",
   "metadata": {},
   "outputs": [
    {
     "name": "stdout",
     "output_type": "stream",
     "text": [
      "Enter a number: 2\n",
      "The given number is even.\n"
     ]
    }
   ],
   "source": [
    "user_input = int(input(\"Enter a number: \"))\n",
    "rem = user_input % 2\n",
    "if rem == 0:\n",
    "    print(\"The given number is even.\")\n",
    "\n",
    "else:\n",
    "    print(\"The given number is odd.\")"
   ]
  },
  {
   "cell_type": "code",
   "execution_count": 2,
   "id": "6bbee434",
   "metadata": {},
   "outputs": [
    {
     "name": "stdout",
     "output_type": "stream",
     "text": [
      "Enter a number: 5\n",
      "The given number is odd.\n"
     ]
    }
   ],
   "source": [
    "user_input = int(input(\"Enter a number: \"))\n",
    "\n",
    "if user_input % 2 == 0:\n",
    "    print(\"The given number is even.\")\n",
    "\n",
    "else:\n",
    "    print(\"The given number is odd.\")"
   ]
  },
  {
   "cell_type": "markdown",
   "id": "9cf3778a",
   "metadata": {},
   "source": [
    "* Indentation error"
   ]
  },
  {
   "cell_type": "code",
   "execution_count": 3,
   "id": "7a72f4cb",
   "metadata": {},
   "outputs": [
    {
     "ename": "IndentationError",
     "evalue": "expected an indented block after 'if' statement on line 1 (424032105.py, line 2)",
     "output_type": "error",
     "traceback": [
      "\u001b[0;36m  Cell \u001b[0;32mIn [3], line 2\u001b[0;36m\u001b[0m\n\u001b[0;31m    print(\"equal\")\u001b[0m\n\u001b[0m    ^\u001b[0m\n\u001b[0;31mIndentationError\u001b[0m\u001b[0;31m:\u001b[0m expected an indented block after 'if' statement on line 1\n"
     ]
    }
   ],
   "source": [
    "if 10 == 10:\n",
    "print(\"equal\")"
   ]
  },
  {
   "cell_type": "markdown",
   "id": "dac81d19",
   "metadata": {},
   "source": [
    "* With proper indentation (4-spaces or 1-tab)"
   ]
  },
  {
   "cell_type": "code",
   "execution_count": 4,
   "id": "b05d25d7",
   "metadata": {},
   "outputs": [
    {
     "name": "stdout",
     "output_type": "stream",
     "text": [
      "equal\n"
     ]
    }
   ],
   "source": [
    "if 10 == 10:             # 10 == 10 is expression\n",
    "    print(\"equal\")"
   ]
  },
  {
   "cell_type": "code",
   "execution_count": 5,
   "id": "3c35bcf0",
   "metadata": {},
   "outputs": [
    {
     "data": {
      "text/plain": [
       "True"
      ]
     },
     "execution_count": 5,
     "metadata": {},
     "output_type": "execute_result"
    }
   ],
   "source": [
    "10 == 10 # True and False are Booleans in Python"
   ]
  },
  {
   "cell_type": "markdown",
   "id": "1f568549",
   "metadata": {},
   "source": [
    "## WAP to check if the given input is 10 or not. If it is 10 print the number."
   ]
  },
  {
   "cell_type": "code",
   "execution_count": 7,
   "id": "40228de2",
   "metadata": {},
   "outputs": [
    {
     "name": "stdout",
     "output_type": "stream",
     "text": [
      "Enter any number of your choice: 5\n",
      "The number is not 10.\n"
     ]
    }
   ],
   "source": [
    "user_input = int(input(\"Enter any number of your choice: \"))\n",
    "\n",
    "if user_input == 10:\n",
    "    print(f\"The number is {user_input}\")\n",
    "else:\n",
    "    print(\"The number is not 10.\")"
   ]
  },
  {
   "cell_type": "markdown",
   "id": "a84fade6",
   "metadata": {},
   "source": [
    "# Expression and Comparison operators"
   ]
  },
  {
   "cell_type": "code",
   "execution_count": 8,
   "id": "fd188b55",
   "metadata": {},
   "outputs": [
    {
     "data": {
      "text/plain": [
       "True"
      ]
     },
     "execution_count": 8,
     "metadata": {},
     "output_type": "execute_result"
    }
   ],
   "source": [
    "2 == 2 # equals to"
   ]
  },
  {
   "cell_type": "code",
   "execution_count": 9,
   "id": "70820bb2",
   "metadata": {},
   "outputs": [
    {
     "data": {
      "text/plain": [
       "False"
      ]
     },
     "execution_count": 9,
     "metadata": {},
     "output_type": "execute_result"
    }
   ],
   "source": [
    "2 != 2 # not equal to"
   ]
  },
  {
   "cell_type": "code",
   "execution_count": 10,
   "id": "0224a304",
   "metadata": {},
   "outputs": [
    {
     "ename": "SyntaxError",
     "evalue": "invalid syntax (2959746372.py, line 1)",
     "output_type": "error",
     "traceback": [
      "\u001b[0;36m  Cell \u001b[0;32mIn [10], line 1\u001b[0;36m\u001b[0m\n\u001b[0;31m    2 ! = 2 # spacing in between operators is not allowed\u001b[0m\n\u001b[0m      ^\u001b[0m\n\u001b[0;31mSyntaxError\u001b[0m\u001b[0;31m:\u001b[0m invalid syntax\n"
     ]
    }
   ],
   "source": [
    "2 ! = 2 # spacing in between operators is not allowed"
   ]
  },
  {
   "cell_type": "code",
   "execution_count": 11,
   "id": "c344cc72",
   "metadata": {},
   "outputs": [
    {
     "data": {
      "text/plain": [
       "True"
      ]
     },
     "execution_count": 11,
     "metadata": {},
     "output_type": "execute_result"
    }
   ],
   "source": [
    "55 != 99  # not equal to"
   ]
  },
  {
   "cell_type": "code",
   "execution_count": 12,
   "id": "2f8035ea",
   "metadata": {},
   "outputs": [
    {
     "data": {
      "text/plain": [
       "False"
      ]
     },
     "execution_count": 12,
     "metadata": {},
     "output_type": "execute_result"
    }
   ],
   "source": [
    "2 > 2   # is greater than"
   ]
  },
  {
   "cell_type": "code",
   "execution_count": 13,
   "id": "99625b5d",
   "metadata": {},
   "outputs": [
    {
     "data": {
      "text/plain": [
       "True"
      ]
     },
     "execution_count": 13,
     "metadata": {},
     "output_type": "execute_result"
    }
   ],
   "source": [
    "8 < 99  # is lesser than"
   ]
  },
  {
   "cell_type": "code",
   "execution_count": 14,
   "id": "97b7f6f5",
   "metadata": {},
   "outputs": [
    {
     "data": {
      "text/plain": [
       "False"
      ]
     },
     "execution_count": 14,
     "metadata": {},
     "output_type": "execute_result"
    }
   ],
   "source": [
    "8 < 5  # is lesser than"
   ]
  },
  {
   "cell_type": "code",
   "execution_count": 15,
   "id": "c5454f55",
   "metadata": {},
   "outputs": [
    {
     "data": {
      "text/plain": [
       "True"
      ]
     },
     "execution_count": 15,
     "metadata": {},
     "output_type": "execute_result"
    }
   ],
   "source": [
    "2 <= 2 # less than or equals to"
   ]
  },
  {
   "cell_type": "code",
   "execution_count": 16,
   "id": "66727b1b",
   "metadata": {},
   "outputs": [
    {
     "data": {
      "text/plain": [
       "False"
      ]
     },
     "execution_count": 16,
     "metadata": {},
     "output_type": "execute_result"
    }
   ],
   "source": [
    "3 >= 4 # greater than or equals to"
   ]
  },
  {
   "cell_type": "code",
   "execution_count": 17,
   "id": "d5fe6cf2",
   "metadata": {},
   "outputs": [
    {
     "data": {
      "text/plain": [
       "True"
      ]
     },
     "execution_count": 17,
     "metadata": {},
     "output_type": "execute_result"
    }
   ],
   "source": [
    "8 >= 6 # greater than or equals to"
   ]
  },
  {
   "cell_type": "markdown",
   "id": "da429208",
   "metadata": {},
   "source": [
    "* WAP to check whether the user given input is positive or negative number"
   ]
  },
  {
   "cell_type": "code",
   "execution_count": 2,
   "id": "378dcd9f",
   "metadata": {},
   "outputs": [
    {
     "name": "stdout",
     "output_type": "stream",
     "text": [
      "Enter number of your choice: -10\n",
      "The number is negative.\n"
     ]
    }
   ],
   "source": [
    "user_input = int(input(\"Enter number of your choice: \"))\n",
    "\n",
    "if user_input < 0:\n",
    "  print('The number is negative.')\n",
    "\n",
    "else :\n",
    "  print('The number is positive.')"
   ]
  }
 ],
 "metadata": {
  "kernelspec": {
   "display_name": "Python 3 (ipykernel)",
   "language": "python",
   "name": "python3"
  },
  "language_info": {
   "codemirror_mode": {
    "name": "ipython",
    "version": 3
   },
   "file_extension": ".py",
   "mimetype": "text/x-python",
   "name": "python",
   "nbconvert_exporter": "python",
   "pygments_lexer": "ipython3",
   "version": "3.10.7"
  }
 },
 "nbformat": 4,
 "nbformat_minor": 5
}
