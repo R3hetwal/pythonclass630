{
 "cells": [
  {
   "cell_type": "code",
   "execution_count": 1,
   "id": "005e9efe",
   "metadata": {},
   "outputs": [],
   "source": [
    "# databse\n",
    "# database vitra table hunxa vanesi one data base can have multiple tables"
   ]
  },
  {
   "cell_type": "markdown",
   "id": "d50d4a29",
   "metadata": {},
   "source": [
    "# Connect and Create a New Database"
   ]
  },
  {
   "cell_type": "code",
   "execution_count": 2,
   "id": "afb5fa4b",
   "metadata": {},
   "outputs": [],
   "source": [
    "import sqlite3"
   ]
  },
  {
   "cell_type": "code",
   "execution_count": 3,
   "id": "7c8d1737",
   "metadata": {},
   "outputs": [],
   "source": [
    "con = sqlite3.connect('student.db') # create and connect to the databse"
   ]
  },
  {
   "cell_type": "code",
   "execution_count": 4,
   "id": "8f377308",
   "metadata": {},
   "outputs": [
    {
     "data": {
      "text/plain": [
       "<sqlite3.Connection at 0x7efe97d4bc40>"
      ]
     },
     "execution_count": 4,
     "metadata": {},
     "output_type": "execute_result"
    }
   ],
   "source": [
    "con"
   ]
  },
  {
   "cell_type": "code",
   "execution_count": 5,
   "id": "53022b60",
   "metadata": {},
   "outputs": [
    {
     "data": {
      "text/plain": [
       "sqlite3.Connection"
      ]
     },
     "execution_count": 5,
     "metadata": {},
     "output_type": "execute_result"
    }
   ],
   "source": [
    "type(con)"
   ]
  },
  {
   "cell_type": "markdown",
   "id": "e99b017f",
   "metadata": {},
   "source": [
    "After connection we need to execute sql query to read, write on database table.  Therefore, we need cursor to do so. cursor executes sql query"
   ]
  },
  {
   "cell_type": "code",
   "execution_count": 6,
   "id": "e1230e33",
   "metadata": {},
   "outputs": [],
   "source": [
    "cur = con.cursor() # cursor executes SQL query"
   ]
  },
  {
   "cell_type": "markdown",
   "id": "5712b49b",
   "metadata": {},
   "source": [
    "# Create table on databse\n",
    "\n",
    "```sql\n",
    "create table table_name (\n",
    "roll_no int, \n",
    "name varchar(20),\n",
    "```"
   ]
  },
  {
   "cell_type": "code",
   "execution_count": 7,
   "id": "d6c26f52",
   "metadata": {},
   "outputs": [],
   "source": [
    "create_table_query = \"\"\"\n",
    "create table student (roll_no int, name varchar(40))\n",
    "\"\"\""
   ]
  },
  {
   "cell_type": "code",
   "execution_count": 8,
   "id": "a465db5c",
   "metadata": {},
   "outputs": [
    {
     "ename": "OperationalError",
     "evalue": "table student already exists",
     "output_type": "error",
     "traceback": [
      "\u001b[0;31m---------------------------------------------------------------------------\u001b[0m",
      "\u001b[0;31mOperationalError\u001b[0m                          Traceback (most recent call last)",
      "Cell \u001b[0;32mIn [8], line 1\u001b[0m\n\u001b[0;32m----> 1\u001b[0m \u001b[43mcur\u001b[49m\u001b[38;5;241;43m.\u001b[39;49m\u001b[43mexecute\u001b[49m\u001b[43m(\u001b[49m\u001b[43mcreate_table_query\u001b[49m\u001b[43m)\u001b[49m\n",
      "\u001b[0;31mOperationalError\u001b[0m: table student already exists"
     ]
    }
   ],
   "source": [
    "cur.execute(create_table_query)"
   ]
  },
  {
   "cell_type": "markdown",
   "id": "d4b858b0",
   "metadata": {},
   "source": [
    "# Insert operation on SQL\n",
    "\n",
    "```sql\n",
    "INSERT INTO table_name (column1, column2, column3, ...)\n",
    "VALUES (value1, value2, value3, ...),\n",
    "(value11, value12, value13, ...);\n",
    "```"
   ]
  },
  {
   "cell_type": "code",
   "execution_count": null,
   "id": "22cf33b8",
   "metadata": {},
   "outputs": [],
   "source": [
    "insert_data_query = \"\"\"\n",
    "Insert into student \n",
    "(roll_no, name)\n",
    "values \n",
    "(1, \"Sandeep\"),\n",
    "(2, \"Shaurya\"),\n",
    "(3, \"Kshitiz\")\n",
    "\"\"\""
   ]
  },
  {
   "cell_type": "code",
   "execution_count": null,
   "id": "8fcc5d91",
   "metadata": {},
   "outputs": [],
   "source": [
    "cur.execute(insert_data_query)"
   ]
  },
  {
   "cell_type": "markdown",
   "id": "42a271e2",
   "metadata": {},
   "source": [
    "# Read data from a table\n",
    "\n",
    "```sql\n",
    "select * from table_name\n",
    "```"
   ]
  },
  {
   "cell_type": "code",
   "execution_count": null,
   "id": "b14bcf9c",
   "metadata": {},
   "outputs": [],
   "source": [
    "read_query = \"\"\"\n",
    "select * from student\n",
    "\"\"\""
   ]
  },
  {
   "cell_type": "code",
   "execution_count": null,
   "id": "d479b039",
   "metadata": {},
   "outputs": [],
   "source": [
    "cur.execute(read_query)"
   ]
  },
  {
   "cell_type": "code",
   "execution_count": null,
   "id": "4c7a069d",
   "metadata": {},
   "outputs": [],
   "source": [
    "cur.execute(read_query).fetchall()"
   ]
  },
  {
   "cell_type": "code",
   "execution_count": null,
   "id": "1bdb8f0c",
   "metadata": {},
   "outputs": [],
   "source": [
    "cur.execute(\"select name from student\").fetchall() # read name column only"
   ]
  },
  {
   "cell_type": "code",
   "execution_count": null,
   "id": "16996c33",
   "metadata": {},
   "outputs": [],
   "source": [
    "# find the roll no of student named Kshitiz\n",
    "# use where statement for conditional operation\n",
    "cur.execute(\"select roll_no from student where name = 'Kshitiz'\").fetchall()"
   ]
  },
  {
   "cell_type": "markdown",
   "id": "9d7a5c80",
   "metadata": {},
   "source": [
    "# update in sql\n",
    "\n",
    "```sql\n",
    "update table_name\n",
    "set column1 = value1 \n",
    "WHERE condition;\n",
    "```"
   ]
  },
  {
   "cell_type": "code",
   "execution_count": null,
   "id": "f3f1c11e",
   "metadata": {},
   "outputs": [],
   "source": [
    "# i want to update roll_no 3 name to Kshitiz Regmi"
   ]
  },
  {
   "cell_type": "code",
   "execution_count": null,
   "id": "efecfbaf",
   "metadata": {},
   "outputs": [],
   "source": [
    "updatename = \"\"\"\n",
    "update student \n",
    "set name = 'Kshitiz Regmi'\n",
    "where \n",
    "roll_no = 3\n",
    "\"\"\""
   ]
  },
  {
   "cell_type": "code",
   "execution_count": null,
   "id": "fb492e18",
   "metadata": {},
   "outputs": [],
   "source": [
    "cur.execute(updatename)"
   ]
  },
  {
   "cell_type": "code",
   "execution_count": null,
   "id": "155337f6",
   "metadata": {},
   "outputs": [],
   "source": [
    "cur.execute(\"Select * from student\").fetchall()"
   ]
  },
  {
   "cell_type": "markdown",
   "id": "4110c440",
   "metadata": {},
   "source": [
    "# Delete operation in SQL\n",
    "\n",
    "```sql\n",
    "delete from table\n",
    "where condition;\n",
    "```"
   ]
  },
  {
   "cell_type": "code",
   "execution_count": null,
   "id": "b5b480d9",
   "metadata": {},
   "outputs": [],
   "source": [
    "cur.execute(\"delete from student where roll_no = 3\")"
   ]
  },
  {
   "cell_type": "code",
   "execution_count": null,
   "id": "7c260b75",
   "metadata": {},
   "outputs": [],
   "source": [
    "cur.execute(\"select * from student\").fetchall()"
   ]
  },
  {
   "cell_type": "markdown",
   "id": "32f6a734",
   "metadata": {},
   "source": []
  },
  {
   "cell_type": "code",
   "execution_count": null,
   "id": "1feb116a",
   "metadata": {},
   "outputs": [],
   "source": [
    "def create_insert_query(table_name, columns):\n",
    "    \n",
    "    insert = f\"\"\"\n",
    "    Insert into {table_name} \n",
    "    {columns}\n",
    "    values \n",
    "    (?, ?)\n",
    "    \"\"\"\n",
    "    return insert"
   ]
  },
  {
   "cell_type": "code",
   "execution_count": null,
   "id": "b7492c5e",
   "metadata": {},
   "outputs": [],
   "source": [
    "query = create_insert_query(table_name = \"student\", \n",
    "                    columns = ('roll_no', 'name'),\n",
    "                     )a"
   ]
  },
  {
   "cell_type": "code",
   "execution_count": null,
   "id": "3e38d78d",
   "metadata": {},
   "outputs": [],
   "source": [
    "print(query)"
   ]
  },
  {
   "cell_type": "code",
   "execution_count": null,
   "id": "535b3472",
   "metadata": {},
   "outputs": [],
   "source": [
    "datapoints = ((4, \"shyam\"), (5, 'ram'))\n",
    "cur.executemany(query, datapoints)"
   ]
  },
  {
   "cell_type": "code",
   "execution_count": null,
   "id": "2d8f34cc",
   "metadata": {},
   "outputs": [],
   "source": []
  },
  {
   "cell_type": "code",
   "execution_count": null,
   "id": "ac2acb07",
   "metadata": {},
   "outputs": [],
   "source": []
  }
 ],
 "metadata": {
  "kernelspec": {
   "display_name": "Python 3 (ipykernel)",
   "language": "python",
   "name": "python3"
  },
  "language_info": {
   "codemirror_mode": {
    "name": "ipython",
    "version": 3
   },
   "file_extension": ".py",
   "mimetype": "text/x-python",
   "name": "python",
   "nbconvert_exporter": "python",
   "pygments_lexer": "ipython3",
   "version": "3.10.7"
  }
 },
 "nbformat": 4,
 "nbformat_minor": 5
}
