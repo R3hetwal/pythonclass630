{
 "cells": [
  {
   "cell_type": "code",
   "execution_count": 1,
   "id": "9fe9cbf9",
   "metadata": {},
   "outputs": [],
   "source": [
    "carprice = {} # empty dictionary"
   ]
  },
  {
   "cell_type": "code",
   "execution_count": 2,
   "id": "580ef175",
   "metadata": {},
   "outputs": [
    {
     "data": {
      "text/plain": [
       "dict"
      ]
     },
     "execution_count": 2,
     "metadata": {},
     "output_type": "execute_result"
    }
   ],
   "source": [
    "type(carprice)"
   ]
  },
  {
   "cell_type": "code",
   "execution_count": 46,
   "id": "995d4140",
   "metadata": {},
   "outputs": [],
   "source": [
    "carprice = dict()"
   ]
  },
  {
   "cell_type": "code",
   "execution_count": 47,
   "id": "2ef5ed3f",
   "metadata": {},
   "outputs": [
    {
     "data": {
      "text/plain": [
       "dict"
      ]
     },
     "execution_count": 47,
     "metadata": {},
     "output_type": "execute_result"
    }
   ],
   "source": [
    "type(carprice)"
   ]
  },
  {
   "cell_type": "markdown",
   "id": "db7e8ea3",
   "metadata": {},
   "source": [
    "## Example"
   ]
  },
  {
   "cell_type": "code",
   "execution_count": 3,
   "id": "e90eaee0",
   "metadata": {},
   "outputs": [],
   "source": [
    "myinfo = {\n",
    "    'name':'Rakshya'\n",
    "}"
   ]
  },
  {
   "cell_type": "code",
   "execution_count": 4,
   "id": "3979f2f6",
   "metadata": {},
   "outputs": [
    {
     "data": {
      "text/plain": [
       "{'name': 'Rakshya'}"
      ]
     },
     "execution_count": 4,
     "metadata": {},
     "output_type": "execute_result"
    }
   ],
   "source": [
    "myinfo"
   ]
  },
  {
   "cell_type": "code",
   "execution_count": 5,
   "id": "cd13cdea",
   "metadata": {},
   "outputs": [],
   "source": [
    "myinfo = {\n",
    "    'name': 'Rakshya',\n",
    "    'age': 23,\n",
    "    'teaches': ['Python', 'Data Science', 'Machine Learning', 'Deep Learning', 'Artificial Intelligence'],\n",
    "    'at': 'Broadway Infosys',\n",
    "    'works_at': 'Fusemachines'\n",
    "}"
   ]
  },
  {
   "cell_type": "code",
   "execution_count": 6,
   "id": "74286231",
   "metadata": {},
   "outputs": [
    {
     "data": {
      "text/plain": [
       "{'name': 'Rakshya',\n",
       " 'age': 23,\n",
       " 'teaches': ['Python',\n",
       "  'Data Science',\n",
       "  'Machine Learning',\n",
       "  'Deep Learning',\n",
       "  'Artificial Intelligence'],\n",
       " 'at': 'Broadway Infosys',\n",
       " 'works_at': 'Fusemachines'}"
      ]
     },
     "execution_count": 6,
     "metadata": {},
     "output_type": "execute_result"
    }
   ],
   "source": [
    "myinfo"
   ]
  },
  {
   "cell_type": "code",
   "execution_count": 7,
   "id": "a99a4f90",
   "metadata": {},
   "outputs": [
    {
     "data": {
      "text/plain": [
       "{1.1: 'floating point can be used as key'}"
      ]
     },
     "execution_count": 7,
     "metadata": {},
     "output_type": "execute_result"
    }
   ],
   "source": [
    "{\n",
    "    1.1: 'floating point can be used as key'\n",
    "}"
   ]
  },
  {
   "cell_type": "code",
   "execution_count": 8,
   "id": "89fe1e99",
   "metadata": {},
   "outputs": [
    {
     "ename": "TypeError",
     "evalue": "unhashable type: 'list'",
     "output_type": "error",
     "traceback": [
      "\u001b[0;31m---------------------------------------------------------------------------\u001b[0m",
      "\u001b[0;31mTypeError\u001b[0m                                 Traceback (most recent call last)",
      "Cell \u001b[0;32mIn [8], line 1\u001b[0m\n\u001b[0;32m----> 1\u001b[0m {\n\u001b[1;32m      2\u001b[0m     [\u001b[38;5;241m1\u001b[39m]: \u001b[38;5;124m'\u001b[39m\u001b[38;5;124mlist cannot be used as a key\u001b[39m\u001b[38;5;124m'\u001b[39m\n\u001b[1;32m      3\u001b[0m }\n",
      "\u001b[0;31mTypeError\u001b[0m: unhashable type: 'list'"
     ]
    }
   ],
   "source": [
    "{\n",
    "    [1]: 'list cannot be used as a key'\n",
    "}"
   ]
  },
  {
   "cell_type": "markdown",
   "id": "d2b84bf6",
   "metadata": {},
   "source": [
    "## Getting keys only or values only in dictionary"
   ]
  },
  {
   "cell_type": "code",
   "execution_count": 9,
   "id": "113f5198",
   "metadata": {},
   "outputs": [
    {
     "data": {
      "text/plain": [
       "dict_keys(['name', 'age', 'teaches', 'at', 'works_at'])"
      ]
     },
     "execution_count": 9,
     "metadata": {},
     "output_type": "execute_result"
    }
   ],
   "source": [
    "myinfo.keys()"
   ]
  },
  {
   "cell_type": "code",
   "execution_count": 10,
   "id": "9d554834",
   "metadata": {},
   "outputs": [
    {
     "data": {
      "text/plain": [
       "dict_values(['Rakshya', 23, ['Python', 'Data Science', 'Machine Learning', 'Deep Learning', 'Artificial Intelligence'], 'Broadway Infosys', 'Fusemachines'])"
      ]
     },
     "execution_count": 10,
     "metadata": {},
     "output_type": "execute_result"
    }
   ],
   "source": [
    "myinfo.values()"
   ]
  },
  {
   "cell_type": "code",
   "execution_count": 11,
   "id": "5631d6e1",
   "metadata": {},
   "outputs": [
    {
     "data": {
      "text/plain": [
       "['name', 'age', 'teaches', 'at', 'works_at']"
      ]
     },
     "execution_count": 11,
     "metadata": {},
     "output_type": "execute_result"
    }
   ],
   "source": [
    "# typecast keys to list\n",
    "\n",
    "list(myinfo.keys())"
   ]
  },
  {
   "cell_type": "code",
   "execution_count": 12,
   "id": "446d4d7a",
   "metadata": {},
   "outputs": [
    {
     "data": {
      "text/plain": [
       "['Rakshya',\n",
       " 23,\n",
       " ['Python',\n",
       "  'Data Science',\n",
       "  'Machine Learning',\n",
       "  'Deep Learning',\n",
       "  'Artificial Intelligence'],\n",
       " 'Broadway Infosys',\n",
       " 'Fusemachines']"
      ]
     },
     "execution_count": 12,
     "metadata": {},
     "output_type": "execute_result"
    }
   ],
   "source": [
    "list(myinfo.values())"
   ]
  },
  {
   "cell_type": "code",
   "execution_count": 13,
   "id": "d90b2782",
   "metadata": {},
   "outputs": [],
   "source": [
    "example = {\n",
    "    'name': 'Rakshya Bhetwal',\n",
    "    'age': 23,\n",
    "     1.1: 'lavender',\n",
    "     1.2: 'Biryani'\n",
    "}"
   ]
  },
  {
   "cell_type": "code",
   "execution_count": 14,
   "id": "4e86dc9b",
   "metadata": {},
   "outputs": [
    {
     "data": {
      "text/plain": [
       "{'name': 'Rakshya Bhetwal', 'age': 23, 1.1: 'lavender', 1.2: 'Biryani'}"
      ]
     },
     "execution_count": 14,
     "metadata": {},
     "output_type": "execute_result"
    }
   ],
   "source": [
    "example"
   ]
  },
  {
   "cell_type": "markdown",
   "id": "b53c7683",
   "metadata": {},
   "source": [
    "## Accessing values of dictionary"
   ]
  },
  {
   "cell_type": "code",
   "execution_count": 15,
   "id": "1c41e5d0",
   "metadata": {},
   "outputs": [],
   "source": [
    "employee = {\n",
    "    'Name': 'Ram Singh',\n",
    "    'Address': 'Tinkune',\n",
    "    'Ward no.': 5,\n",
    "    'position': 'Clerk'  \n",
    "}"
   ]
  },
  {
   "cell_type": "markdown",
   "id": "ec3d284e",
   "metadata": {},
   "source": [
    "* Find the name of employee"
   ]
  },
  {
   "cell_type": "code",
   "execution_count": 16,
   "id": "3c3d1b76",
   "metadata": {},
   "outputs": [
    {
     "data": {
      "text/plain": [
       "'Ram Singh'"
      ]
     },
     "execution_count": 16,
     "metadata": {},
     "output_type": "execute_result"
    }
   ],
   "source": [
    "employee['Name']    # one way to find value of key"
   ]
  },
  {
   "cell_type": "code",
   "execution_count": 17,
   "id": "d1043957",
   "metadata": {},
   "outputs": [
    {
     "data": {
      "text/plain": [
       "'Ram Singh'"
      ]
     },
     "execution_count": 17,
     "metadata": {},
     "output_type": "execute_result"
    }
   ],
   "source": [
    "employee.get('Name')    # another way to find value of key"
   ]
  },
  {
   "cell_type": "code",
   "execution_count": 18,
   "id": "c01171ce",
   "metadata": {},
   "outputs": [
    {
     "data": {
      "text/plain": [
       "5"
      ]
     },
     "execution_count": 18,
     "metadata": {},
     "output_type": "execute_result"
    }
   ],
   "source": [
    "employee.get('Ward no.')"
   ]
  },
  {
   "cell_type": "markdown",
   "id": "f9cf783e",
   "metadata": {},
   "source": [
    "## Add key value pair on dictionary + (update)"
   ]
  },
  {
   "cell_type": "code",
   "execution_count": 19,
   "id": "74f532c9",
   "metadata": {},
   "outputs": [],
   "source": [
    "scores ={\n",
    "    'Nepali': 90,\n",
    "    'Mathematics': 95,\n",
    "    'Social Studies': 85.,\n",
    "    'English': 92\n",
    "}"
   ]
  },
  {
   "cell_type": "code",
   "execution_count": 20,
   "id": "9a73cbfd",
   "metadata": {},
   "outputs": [
    {
     "data": {
      "text/plain": [
       "{'Nepali': 90, 'Mathematics': 95, 'Social Studies': 85.0, 'English': 92}"
      ]
     },
     "execution_count": 20,
     "metadata": {},
     "output_type": "execute_result"
    }
   ],
   "source": [
    "scores"
   ]
  },
  {
   "cell_type": "code",
   "execution_count": 21,
   "id": "bb000cb5",
   "metadata": {},
   "outputs": [],
   "source": [
    "scores['Science'] = 98    # add value key value pair to dictionary (one way)"
   ]
  },
  {
   "cell_type": "code",
   "execution_count": 22,
   "id": "1b7b8a1f",
   "metadata": {},
   "outputs": [
    {
     "data": {
      "text/plain": [
       "{'Nepali': 90,\n",
       " 'Mathematics': 95,\n",
       " 'Social Studies': 85.0,\n",
       " 'English': 92,\n",
       " 'Science': 98}"
      ]
     },
     "execution_count": 22,
     "metadata": {},
     "output_type": "execute_result"
    }
   ],
   "source": [
    "scores"
   ]
  },
  {
   "cell_type": "code",
   "execution_count": 23,
   "id": "56bea018",
   "metadata": {},
   "outputs": [],
   "source": [
    "scores.update({'EPH': 85})    # other way to update dictionary"
   ]
  },
  {
   "cell_type": "code",
   "execution_count": 24,
   "id": "012f6ace",
   "metadata": {},
   "outputs": [
    {
     "data": {
      "text/plain": [
       "{'Nepali': 90,\n",
       " 'Mathematics': 95,\n",
       " 'Social Studies': 85.0,\n",
       " 'English': 92,\n",
       " 'Science': 98,\n",
       " 'EPH': 85}"
      ]
     },
     "execution_count": 24,
     "metadata": {},
     "output_type": "execute_result"
    }
   ],
   "source": [
    "scores"
   ]
  },
  {
   "cell_type": "markdown",
   "id": "1d1ea5c2",
   "metadata": {},
   "source": [
    "## Update add key: value pair in dict if the key value doesn't exist.\n",
    "If key exits it updates vakue of a key"
   ]
  },
  {
   "cell_type": "code",
   "execution_count": 25,
   "id": "8cf3f77a",
   "metadata": {},
   "outputs": [
    {
     "data": {
      "text/plain": [
       "{'Nepali': 90,\n",
       " 'Mathematics': 95,\n",
       " 'Social Studies': 85.0,\n",
       " 'English': 92,\n",
       " 'Science': 98,\n",
       " 'EPH': 85}"
      ]
     },
     "execution_count": 25,
     "metadata": {},
     "output_type": "execute_result"
    }
   ],
   "source": [
    "scores"
   ]
  },
  {
   "cell_type": "code",
   "execution_count": 26,
   "id": "65130fc9",
   "metadata": {},
   "outputs": [
    {
     "data": {
      "text/plain": [
       "{'Nepali': 90,\n",
       " 'Mathematics': 95,\n",
       " 'Social Studies': 85.0,\n",
       " 'English': 92,\n",
       " 'Science': 95,\n",
       " 'EPH': 85}"
      ]
     },
     "execution_count": 26,
     "metadata": {},
     "output_type": "execute_result"
    }
   ],
   "source": [
    "scores['Science'] = 95\n",
    "scores"
   ]
  },
  {
   "cell_type": "code",
   "execution_count": 27,
   "id": "ac6645e9",
   "metadata": {},
   "outputs": [
    {
     "data": {
      "text/plain": [
       "{'Nepali': 90,\n",
       " 'Mathematics': 95,\n",
       " 'Social Studies': 85.0,\n",
       " 'English': 92,\n",
       " 'Science': 95,\n",
       " 'EPH': 85}"
      ]
     },
     "execution_count": 27,
     "metadata": {},
     "output_type": "execute_result"
    }
   ],
   "source": [
    "scores"
   ]
  },
  {
   "cell_type": "markdown",
   "id": "b62f26da",
   "metadata": {},
   "source": [
    "## pop() method in python dictionary"
   ]
  },
  {
   "cell_type": "code",
   "execution_count": 28,
   "id": "39516819",
   "metadata": {},
   "outputs": [
    {
     "data": {
      "text/plain": [
       "85"
      ]
     },
     "execution_count": 28,
     "metadata": {},
     "output_type": "execute_result"
    }
   ],
   "source": [
    "scores.pop('EPH')"
   ]
  },
  {
   "cell_type": "code",
   "execution_count": 30,
   "id": "edc8e40b",
   "metadata": {},
   "outputs": [
    {
     "data": {
      "text/plain": [
       "{'Nepali': 90, 'Mathematics': 95, 'Social Studies': 85, 'English': 92}"
      ]
     },
     "execution_count": 30,
     "metadata": {},
     "output_type": "execute_result"
    }
   ],
   "source": [
    "scores"
   ]
  },
  {
   "cell_type": "markdown",
   "id": "2ce94ae6",
   "metadata": {},
   "source": [
    "## Loops in dictionary"
   ]
  },
  {
   "cell_type": "code",
   "execution_count": 31,
   "id": "acb51134",
   "metadata": {},
   "outputs": [],
   "source": [
    "scores = {\n",
    "    'Nepali': 90,\n",
    "    'Mathematics': 95,\n",
    "    'Social Studies': 85,\n",
    "    'English': 92\n",
    "}"
   ]
  },
  {
   "cell_type": "code",
   "execution_count": 32,
   "id": "f72bf3ad",
   "metadata": {},
   "outputs": [],
   "source": [
    "a, b = (2, 3)"
   ]
  },
  {
   "cell_type": "code",
   "execution_count": 33,
   "id": "61399fa0",
   "metadata": {},
   "outputs": [
    {
     "data": {
      "text/plain": [
       "dict_items([('Nepali', 90), ('Mathematics', 95), ('Social Studies', 85), ('English', 92)])"
      ]
     },
     "execution_count": 33,
     "metadata": {},
     "output_type": "execute_result"
    }
   ],
   "source": [
    "scores.items() # [(key, val), (key, val)]"
   ]
  },
  {
   "cell_type": "code",
   "execution_count": 34,
   "id": "06999db3",
   "metadata": {},
   "outputs": [
    {
     "name": "stdout",
     "output_type": "stream",
     "text": [
      "The key is Nepali and value is 90\n",
      "The key is Mathematics and value is 95\n",
      "The key is Social Studies and value is 85\n",
      "The key is English and value is 92\n"
     ]
    }
   ],
   "source": [
    "for key, val in scores.items():\n",
    "    print(f'The key is {key} and value is {val}')"
   ]
  },
  {
   "cell_type": "code",
   "execution_count": 35,
   "id": "801ed70d",
   "metadata": {},
   "outputs": [],
   "source": [
    "myinfo = {\n",
    "    'name': 'Rakshya Bhetwal',\n",
    "    'age': 23,\n",
    "    'fav_colour': 'Lavender',\n",
    "    'fav_food': 'momo'\n",
    "}"
   ]
  },
  {
   "cell_type": "code",
   "execution_count": 36,
   "id": "7998e35f",
   "metadata": {},
   "outputs": [
    {
     "name": "stdout",
     "output_type": "stream",
     "text": [
      "The key is name and value is Rakshya Bhetwal\n",
      "The key is age and value is 23\n",
      "The key is fav_colour and value is Lavender\n",
      "The key is fav_food and value is momo\n"
     ]
    }
   ],
   "source": [
    "for key, val in myinfo.items():\n",
    "    print(f'The key is {key} and value is {val}')"
   ]
  },
  {
   "cell_type": "markdown",
   "id": "20bfa89f",
   "metadata": {},
   "source": [
    "# Dictionary Comprehension"
   ]
  },
  {
   "cell_type": "markdown",
   "id": "92959669",
   "metadata": {},
   "source": [
    "* WAP to swap keys and values of given dictionary"
   ]
  },
  {
   "cell_type": "code",
   "execution_count": 37,
   "id": "f74a0770",
   "metadata": {},
   "outputs": [],
   "source": [
    "d = {1:'One', 2:'Two', 'Five':5}"
   ]
  },
  {
   "cell_type": "code",
   "execution_count": 38,
   "id": "6be3af40",
   "metadata": {},
   "outputs": [
    {
     "data": {
      "text/plain": [
       "{'One': 1, 'Two': 2, 5: 'Five'}"
      ]
     },
     "execution_count": 38,
     "metadata": {},
     "output_type": "execute_result"
    }
   ],
   "source": [
    "{val: key for key, val in d.items()}    # expression for items in iterables"
   ]
  },
  {
   "cell_type": "markdown",
   "id": "9b50f3b7",
   "metadata": {},
   "source": [
    "# Nested Dictionary"
   ]
  },
  {
   "cell_type": "code",
   "execution_count": 39,
   "id": "ea9a2360",
   "metadata": {},
   "outputs": [],
   "source": [
    "children = {\n",
    "    'child1': {'Name': 'Kush', 'Age': 7, 'Father': 'Ram'},\n",
    "    'child2': {'Name': 'Luv', 'Age': 8, 'Mother': 'Sita', 'Father': 'Ram'}\n",
    "}"
   ]
  },
  {
   "cell_type": "code",
   "execution_count": 41,
   "id": "d3947b4e",
   "metadata": {},
   "outputs": [
    {
     "data": {
      "text/plain": [
       "8"
      ]
     },
     "execution_count": 41,
     "metadata": {},
     "output_type": "execute_result"
    }
   ],
   "source": [
    "children['child2']['Age']"
   ]
  },
  {
   "cell_type": "code",
   "execution_count": 42,
   "id": "0591ce1b",
   "metadata": {},
   "outputs": [
    {
     "ename": "KeyError",
     "evalue": "'Mother'",
     "output_type": "error",
     "traceback": [
      "\u001b[0;31m---------------------------------------------------------------------------\u001b[0m",
      "\u001b[0;31mKeyError\u001b[0m                                  Traceback (most recent call last)",
      "Cell \u001b[0;32mIn [42], line 1\u001b[0m\n\u001b[0;32m----> 1\u001b[0m \u001b[43mchildren\u001b[49m\u001b[43m[\u001b[49m\u001b[38;5;124;43m'\u001b[39;49m\u001b[38;5;124;43mchild1\u001b[39;49m\u001b[38;5;124;43m'\u001b[39;49m\u001b[43m]\u001b[49m\u001b[43m[\u001b[49m\u001b[38;5;124;43m'\u001b[39;49m\u001b[38;5;124;43mMother\u001b[39;49m\u001b[38;5;124;43m'\u001b[39;49m\u001b[43m]\u001b[49m \u001b[38;5;66;03m# KeyError\u001b[39;00m\n",
      "\u001b[0;31mKeyError\u001b[0m: 'Mother'"
     ]
    }
   ],
   "source": [
    "children['child1']['Mother'] # KeyError"
   ]
  },
  {
   "cell_type": "code",
   "execution_count": 43,
   "id": "d316dced",
   "metadata": {},
   "outputs": [
    {
     "data": {
      "text/plain": [
       "'Sita'"
      ]
     },
     "execution_count": 43,
     "metadata": {},
     "output_type": "execute_result"
    }
   ],
   "source": [
    "children['child2']['Mother']"
   ]
  },
  {
   "cell_type": "code",
   "execution_count": 44,
   "id": "c97d9f11",
   "metadata": {},
   "outputs": [
    {
     "name": "stdout",
     "output_type": "stream",
     "text": [
      "Kush\n",
      "Luv\n"
     ]
    }
   ],
   "source": [
    "for key in children:\n",
    "    print(children[key]['Name'])"
   ]
  }
 ],
 "metadata": {
  "kernelspec": {
   "display_name": "Python 3 (ipykernel)",
   "language": "python",
   "name": "python3"
  },
  "language_info": {
   "codemirror_mode": {
    "name": "ipython",
    "version": 3
   },
   "file_extension": ".py",
   "mimetype": "text/x-python",
   "name": "python",
   "nbconvert_exporter": "python",
   "pygments_lexer": "ipython3",
   "version": "3.10.7"
  }
 },
 "nbformat": 4,
 "nbformat_minor": 5
}
