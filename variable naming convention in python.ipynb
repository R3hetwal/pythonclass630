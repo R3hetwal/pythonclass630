{
 "cells": [
  {
   "cell_type": "markdown",
   "id": "ea0fa530",
   "metadata": {},
   "source": [
    "# Variable naming convention in python\n",
    "* Keywords cannot be used as variable name"
   ]
  },
  {
   "cell_type": "code",
   "execution_count": 1,
   "id": "acba664c",
   "metadata": {},
   "outputs": [
    {
     "ename": "SyntaxError",
     "evalue": "cannot assign to False (3916142236.py, line 1)",
     "output_type": "error",
     "traceback": [
      "\u001b[0;36m  Cell \u001b[0;32mIn [1], line 1\u001b[0;36m\u001b[0m\n\u001b[0;31m    False = 88\u001b[0m\n\u001b[0m    ^\u001b[0m\n\u001b[0;31mSyntaxError\u001b[0m\u001b[0;31m:\u001b[0m cannot assign to False\n"
     ]
    }
   ],
   "source": [
    "False = 88"
   ]
  },
  {
   "cell_type": "code",
   "execution_count": 2,
   "id": "2a5ec9f7",
   "metadata": {},
   "outputs": [
    {
     "ename": "SyntaxError",
     "evalue": "invalid syntax (3289177360.py, line 1)",
     "output_type": "error",
     "traceback": [
      "\u001b[0;36m  Cell \u001b[0;32mIn [2], line 1\u001b[0;36m\u001b[0m\n\u001b[0;31m    in = 88\u001b[0m\n\u001b[0m    ^\u001b[0m\n\u001b[0;31mSyntaxError\u001b[0m\u001b[0;31m:\u001b[0m invalid syntax\n"
     ]
    }
   ],
   "source": [
    "in = 88"
   ]
  },
  {
   "cell_type": "code",
   "execution_count": 3,
   "id": "99598e98",
   "metadata": {},
   "outputs": [
    {
     "ename": "SyntaxError",
     "evalue": "invalid syntax (1537566957.py, line 1)",
     "output_type": "error",
     "traceback": [
      "\u001b[0;36m  Cell \u001b[0;32mIn [3], line 1\u001b[0;36m\u001b[0m\n\u001b[0;31m    def = 63\u001b[0m\n\u001b[0m        ^\u001b[0m\n\u001b[0;31mSyntaxError\u001b[0m\u001b[0;31m:\u001b[0m invalid syntax\n"
     ]
    }
   ],
   "source": [
    "def = 63"
   ]
  },
  {
   "cell_type": "markdown",
   "id": "22b0026f",
   "metadata": {},
   "source": [
    "# Case sensitive\n",
    "* Uppercase and lowercase in variable name is different in case sensitive language"
   ]
  },
  {
   "cell_type": "code",
   "execution_count": 4,
   "id": "b025fa52",
   "metadata": {},
   "outputs": [],
   "source": [
    "false = 88"
   ]
  },
  {
   "cell_type": "code",
   "execution_count": 5,
   "id": "080d05eb",
   "metadata": {},
   "outputs": [
    {
     "ename": "SyntaxError",
     "evalue": "cannot assign to False (3916142236.py, line 1)",
     "output_type": "error",
     "traceback": [
      "\u001b[0;36m  Cell \u001b[0;32mIn [5], line 1\u001b[0;36m\u001b[0m\n\u001b[0;31m    False = 88\u001b[0m\n\u001b[0m    ^\u001b[0m\n\u001b[0;31mSyntaxError\u001b[0m\u001b[0;31m:\u001b[0m cannot assign to False\n"
     ]
    }
   ],
   "source": [
    "False = 88"
   ]
  },
  {
   "cell_type": "markdown",
   "id": "e27f42e5",
   "metadata": {},
   "source": [
    "\n",
    "# We cannot use special symbols like !, @, #, $, % etc in our identifier"
   ]
  },
  {
   "cell_type": "code",
   "execution_count": 6,
   "id": "e31c6548",
   "metadata": {},
   "outputs": [
    {
     "ename": "SyntaxError",
     "evalue": "invalid syntax (3432803907.py, line 1)",
     "output_type": "error",
     "traceback": [
      "\u001b[0;36m  Cell \u001b[0;32mIn [6], line 1\u001b[0;36m\u001b[0m\n\u001b[0;31m    $name = 'Rakshya'\u001b[0m\n\u001b[0m    ^\u001b[0m\n\u001b[0;31mSyntaxError\u001b[0m\u001b[0;31m:\u001b[0m invalid syntax\n"
     ]
    }
   ],
   "source": [
    "$name = 'Rakshya'"
   ]
  },
  {
   "cell_type": "code",
   "execution_count": 7,
   "id": "2a75819b",
   "metadata": {},
   "outputs": [
    {
     "name": "stderr",
     "output_type": "stream",
     "text": [
      "UsageError: Line magic function `%a` not found.\n"
     ]
    }
   ],
   "source": [
    "%a = 5"
   ]
  },
  {
   "cell_type": "code",
   "execution_count": 8,
   "id": "f85645e7",
   "metadata": {},
   "outputs": [
    {
     "ename": "SyntaxError",
     "evalue": "invalid syntax. Maybe you meant '==' or ':=' instead of '='? (3229905819.py, line 1)",
     "output_type": "error",
     "traceback": [
      "\u001b[0;36m  Cell \u001b[0;32mIn [8], line 1\u001b[0;36m\u001b[0m\n\u001b[0;31m    @name = 'Python'\u001b[0m\n\u001b[0m     ^\u001b[0m\n\u001b[0;31mSyntaxError\u001b[0m\u001b[0;31m:\u001b[0m invalid syntax. Maybe you meant '==' or ':=' instead of '='?\n"
     ]
    }
   ],
   "source": [
    "@name = 'Python'"
   ]
  },
  {
   "cell_type": "markdown",
   "id": "7b809f1f",
   "metadata": {},
   "source": [
    "# How can we define variable name or identifier?\n"
   ]
  },
  {
   "cell_type": "code",
   "execution_count": 9,
   "id": "5bff6a3d",
   "metadata": {},
   "outputs": [
    {
     "name": "stdout",
     "output_type": "stream",
     "text": [
      "Rakshya\n"
     ]
    }
   ],
   "source": [
    "my_name = 'Rakshya'\n",
    "print(my_name)"
   ]
  },
  {
   "cell_type": "code",
   "execution_count": 10,
   "id": "6c2a93d2",
   "metadata": {},
   "outputs": [
    {
     "ename": "SyntaxError",
     "evalue": "invalid syntax (3702003354.py, line 1)",
     "output_type": "error",
     "traceback": [
      "\u001b[0;36m  Cell \u001b[0;32mIn [10], line 1\u001b[0;36m\u001b[0m\n\u001b[0;31m    my name = 'Rakshya'\u001b[0m\n\u001b[0m       ^\u001b[0m\n\u001b[0;31mSyntaxError\u001b[0m\u001b[0;31m:\u001b[0m invalid syntax\n"
     ]
    }
   ],
   "source": [
    "my name = 'Rakshya'\n",
    "print(my name)"
   ]
  },
  {
   "cell_type": "code",
   "execution_count": 11,
   "id": "60758ad1",
   "metadata": {},
   "outputs": [
    {
     "name": "stdout",
     "output_type": "stream",
     "text": [
      "Ruby\n"
     ]
    }
   ],
   "source": [
    "Name5 = 'Ruby'\n",
    "print(Name5)"
   ]
  },
  {
   "cell_type": "code",
   "execution_count": 12,
   "id": "86dce1c1",
   "metadata": {},
   "outputs": [
    {
     "ename": "SyntaxError",
     "evalue": "invalid decimal literal (1435509610.py, line 1)",
     "output_type": "error",
     "traceback": [
      "\u001b[0;36m  Cell \u001b[0;32mIn [12], line 1\u001b[0;36m\u001b[0m\n\u001b[0;31m    5Name = 'Reema'\u001b[0m\n\u001b[0m    ^\u001b[0m\n\u001b[0;31mSyntaxError\u001b[0m\u001b[0;31m:\u001b[0m invalid decimal literal\n"
     ]
    }
   ],
   "source": [
    "5Name = 'Reema'\n",
    "print(5Name)"
   ]
  },
  {
   "cell_type": "code",
   "execution_count": 14,
   "id": "a568dd29",
   "metadata": {},
   "outputs": [
    {
     "name": "stdout",
     "output_type": "stream",
     "text": [
      "Taurus\n"
     ]
    }
   ],
   "source": [
    "zodiac = \"Taurus\"\n",
    "print(zodiac)"
   ]
  },
  {
   "cell_type": "markdown",
   "id": "235226cf",
   "metadata": {},
   "source": [
    "# Python is a case-sensitive language\n",
    "* Variable and variable are not the same"
   ]
  },
  {
   "cell_type": "code",
   "execution_count": 17,
   "id": "2d859392",
   "metadata": {},
   "outputs": [
    {
     "name": "stdout",
     "output_type": "stream",
     "text": [
      "Variable value is:  5\n",
      "variable value is:  6\n"
     ]
    }
   ],
   "source": [
    "Variable = 5\n",
    "variable = 6\n",
    "print('Variable value is: ', Variable)\n",
    "print(\"variable value is: \", variable)"
   ]
  },
  {
   "cell_type": "code",
   "execution_count": 31,
   "id": "13c0eb47",
   "metadata": {
    "scrolled": true
   },
   "outputs": [
    {
     "name": "stdout",
     "output_type": "stream",
     "text": [
      "I was born in May 15.\n"
     ]
    }
   ],
   "source": [
    "dd = 15\n",
    "mm ='May'\n",
    "print(f\"I was born in {mm} {dd}.\")"
   ]
  },
  {
   "cell_type": "code",
   "execution_count": 24,
   "id": "d3b8509e",
   "metadata": {},
   "outputs": [
    {
     "name": "stdout",
     "output_type": "stream",
     "text": [
      "The value of a and b is 9,6\n"
     ]
    }
   ],
   "source": [
    "a = 9\n",
    "b = 6\n",
    "print(\"The value of a and b is {},{}\".format(a,b))"
   ]
  },
  {
   "cell_type": "code",
   "execution_count": 29,
   "id": "23b56bc7",
   "metadata": {},
   "outputs": [
    {
     "name": "stdout",
     "output_type": "stream",
     "text": [
      "The value of a and b is 15 , 16.\n"
     ]
    }
   ],
   "source": [
    "a = 15\n",
    "b = 16\n",
    "print(f\"The value of a and b is {a} , {b}.\")"
   ]
  },
  {
   "cell_type": "markdown",
   "id": "04102446",
   "metadata": {},
   "source": [
    "# How can we change a variable value in program?"
   ]
  },
  {
   "cell_type": "code",
   "execution_count": 32,
   "id": "09a4dfa0",
   "metadata": {},
   "outputs": [
    {
     "name": "stdout",
     "output_type": "stream",
     "text": [
      "The first value is 5\n",
      "The second value is 99\n"
     ]
    }
   ],
   "source": [
    "a = 5\n",
    "print(\"The first value is {}\". format(a))\n",
    "a = 99\n",
    "print(f\"The second value is {a}\")"
   ]
  },
  {
   "cell_type": "markdown",
   "id": "b13c62d8",
   "metadata": {},
   "source": [
    "# Assigning multiple values to multiple variable"
   ]
  },
  {
   "cell_type": "code",
   "execution_count": 37,
   "id": "182f1c88",
   "metadata": {},
   "outputs": [],
   "source": [
    "a = 20\n",
    "b = 6"
   ]
  },
  {
   "cell_type": "code",
   "execution_count": 38,
   "id": "4e327318",
   "metadata": {},
   "outputs": [],
   "source": [
    "a, b = 20.5, 6.0"
   ]
  },
  {
   "cell_type": "code",
   "execution_count": 39,
   "id": "ac85b25e",
   "metadata": {},
   "outputs": [
    {
     "name": "stdout",
     "output_type": "stream",
     "text": [
      "20.5\n",
      "6.0\n"
     ]
    }
   ],
   "source": [
    "print(a)\n",
    "print(b)"
   ]
  },
  {
   "cell_type": "code",
   "execution_count": 40,
   "id": "f847ac4c",
   "metadata": {},
   "outputs": [
    {
     "name": "stdout",
     "output_type": "stream",
     "text": [
      "20.5 6.0\n"
     ]
    }
   ],
   "source": [
    "print(a, b)"
   ]
  },
  {
   "cell_type": "code",
   "execution_count": 41,
   "id": "20948225",
   "metadata": {},
   "outputs": [
    {
     "ename": "ValueError",
     "evalue": "not enough values to unpack (expected 3, got 2)",
     "output_type": "error",
     "traceback": [
      "\u001b[0;31m---------------------------------------------------------------------------\u001b[0m",
      "\u001b[0;31mValueError\u001b[0m                                Traceback (most recent call last)",
      "Cell \u001b[0;32mIn [41], line 1\u001b[0m\n\u001b[0;32m----> 1\u001b[0m a, b, c \u001b[38;5;241m=\u001b[39m \u001b[38;5;241m2.5\u001b[39m, \u001b[38;5;241m6.8\u001b[39m\n",
      "\u001b[0;31mValueError\u001b[0m: not enough values to unpack (expected 3, got 2)"
     ]
    }
   ],
   "source": [
    "a, b, c = 2.5, 6.8"
   ]
  },
  {
   "cell_type": "code",
   "execution_count": 42,
   "id": "20513465",
   "metadata": {},
   "outputs": [
    {
     "ename": "ValueError",
     "evalue": "too many values to unpack (expected 2)",
     "output_type": "error",
     "traceback": [
      "\u001b[0;31m---------------------------------------------------------------------------\u001b[0m",
      "\u001b[0;31mValueError\u001b[0m                                Traceback (most recent call last)",
      "Cell \u001b[0;32mIn [42], line 1\u001b[0m\n\u001b[0;32m----> 1\u001b[0m a, b \u001b[38;5;241m=\u001b[39m \u001b[38;5;241m6.0\u001b[39m, \u001b[38;5;241m2.3\u001b[39m, \u001b[38;5;241m9.0\u001b[39m\n",
      "\u001b[0;31mValueError\u001b[0m: too many values to unpack (expected 2)"
     ]
    }
   ],
   "source": [
    "a, b = 6.0, 2.3, 9.0"
   ]
  },
  {
   "cell_type": "code",
   "execution_count": 43,
   "id": "0e047878",
   "metadata": {},
   "outputs": [
    {
     "name": "stdout",
     "output_type": "stream",
     "text": [
      "(2-0.9j)\n"
     ]
    }
   ],
   "source": [
    "a, b, c = 4, 0.2, 2 - 0.9j\n",
    "print(c)"
   ]
  },
  {
   "cell_type": "markdown",
   "id": "e6567e2e",
   "metadata": {},
   "source": [
    "# Type Checking\n",
    "* I want to find the data type of each value"
   ]
  },
  {
   "cell_type": "code",
   "execution_count": 45,
   "id": "cf79845c",
   "metadata": {},
   "outputs": [
    {
     "data": {
      "text/plain": [
       "int"
      ]
     },
     "execution_count": 45,
     "metadata": {},
     "output_type": "execute_result"
    }
   ],
   "source": [
    "type(a)"
   ]
  },
  {
   "cell_type": "code",
   "execution_count": 46,
   "id": "ea82ca82",
   "metadata": {},
   "outputs": [
    {
     "data": {
      "text/plain": [
       "float"
      ]
     },
     "execution_count": 46,
     "metadata": {},
     "output_type": "execute_result"
    }
   ],
   "source": [
    "type(b)"
   ]
  },
  {
   "cell_type": "code",
   "execution_count": 47,
   "id": "3505f9f2",
   "metadata": {},
   "outputs": [
    {
     "data": {
      "text/plain": [
       "complex"
      ]
     },
     "execution_count": 47,
     "metadata": {},
     "output_type": "execute_result"
    }
   ],
   "source": [
    "type(c)"
   ]
  },
  {
   "cell_type": "markdown",
   "id": "50ba2f9d",
   "metadata": {},
   "source": [
    "# Swap values between variables"
   ]
  },
  {
   "cell_type": "code",
   "execution_count": 1,
   "id": "be191c98",
   "metadata": {},
   "outputs": [
    {
     "data": {
      "text/plain": [
       "(2.5, 0.36)"
      ]
     },
     "execution_count": 1,
     "metadata": {},
     "output_type": "execute_result"
    }
   ],
   "source": [
    "num1 = 2.5\n",
    "num2 = 0.36\n",
    "num1, num2"
   ]
  },
  {
   "cell_type": "code",
   "execution_count": 2,
   "id": "2b5dcb10",
   "metadata": {},
   "outputs": [
    {
     "data": {
      "text/plain": [
       "(0.36, 2.5)"
      ]
     },
     "execution_count": 2,
     "metadata": {},
     "output_type": "execute_result"
    }
   ],
   "source": [
    "tmp = num1\n",
    "num1 = num2\n",
    "num2 = tmp\n",
    "num1, num2"
   ]
  },
  {
   "cell_type": "markdown",
   "id": "388ce5d0",
   "metadata": {},
   "source": [
    "## Another method"
   ]
  },
  {
   "cell_type": "code",
   "execution_count": 3,
   "id": "0490839a",
   "metadata": {},
   "outputs": [
    {
     "data": {
      "text/plain": [
       "(3.5, 9.0)"
      ]
     },
     "execution_count": 3,
     "metadata": {},
     "output_type": "execute_result"
    }
   ],
   "source": [
    "num1 = 9.0\n",
    "num2 = 3.5\n",
    "num1, num2 = num2, num1\n",
    "num1, num2"
   ]
  },
  {
   "cell_type": "markdown",
   "id": "879c4b4f",
   "metadata": {},
   "source": [
    "## Without extra variable"
   ]
  },
  {
   "cell_type": "code",
   "execution_count": 4,
   "id": "007b039e",
   "metadata": {},
   "outputs": [
    {
     "data": {
      "text/plain": [
       "(60, 78)"
      ]
     },
     "execution_count": 4,
     "metadata": {},
     "output_type": "execute_result"
    }
   ],
   "source": [
    "num1 = 78\n",
    "num2 = 60\n",
    "num1 = num1 + num2\n",
    "num2 = num1 - num2\n",
    "num1 = num1 - num2\n",
    "num1, num2"
   ]
  },
  {
   "cell_type": "markdown",
   "id": "bd6bf3fe",
   "metadata": {},
   "source": [
    "# Floating point arithmetic"
   ]
  },
  {
   "cell_type": "code",
   "execution_count": 5,
   "id": "646fae19",
   "metadata": {},
   "outputs": [
    {
     "data": {
      "text/plain": [
       "14.969999999999999"
      ]
     },
     "execution_count": 5,
     "metadata": {},
     "output_type": "execute_result"
    }
   ],
   "source": [
    "24.95 - 9.98"
   ]
  },
  {
   "cell_type": "markdown",
   "id": "93b72692",
   "metadata": {},
   "source": [
    "* Floating point arithmetic is a problem in all programming languages. So IEEE 754 Standard to round it to certain number of digits was introduced."
   ]
  },
  {
   "cell_type": "code",
   "execution_count": 7,
   "id": "d0fe0601",
   "metadata": {},
   "outputs": [
    {
     "data": {
      "text/plain": [
       "14.97"
      ]
     },
     "execution_count": 7,
     "metadata": {},
     "output_type": "execute_result"
    }
   ],
   "source": [
    "#IEEE 754 standard. 2 rounds it only upto 2 digits.\n",
    "round(24.95 - 9.98, 2)"
   ]
  }
 ],
 "metadata": {
  "kernelspec": {
   "display_name": "Python 3 (ipykernel)",
   "language": "python",
   "name": "python3"
  },
  "language_info": {
   "codemirror_mode": {
    "name": "ipython",
    "version": 3
   },
   "file_extension": ".py",
   "mimetype": "text/x-python",
   "name": "python",
   "nbconvert_exporter": "python",
   "pygments_lexer": "ipython3",
   "version": "3.10.7"
  }
 },
 "nbformat": 4,
 "nbformat_minor": 5
}
