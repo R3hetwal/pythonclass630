{
 "cells": [
  {
   "cell_type": "markdown",
   "id": "791d711a",
   "metadata": {},
   "source": [
    "## Opening a file\n",
    "* Syntax:\n",
    "```` python\n",
    "    open(filename, mode)\n",
    "````\n",
    "\n",
    "Modes: \n",
    "* read: 'r'\n",
    "* write: 'w'\n",
    "* append: 'a'\n",
    "* create: 'x'"
   ]
  },
  {
   "cell_type": "code",
   "execution_count": 1,
   "id": "3cb771a6",
   "metadata": {},
   "outputs": [],
   "source": [
    "obj = open('News.txt', 'r') # open the file"
   ]
  },
  {
   "cell_type": "code",
   "execution_count": 2,
   "id": "3d1a975e",
   "metadata": {},
   "outputs": [],
   "source": [
    "text = obj.read() # read the file"
   ]
  },
  {
   "cell_type": "code",
   "execution_count": 3,
   "id": "a5342787",
   "metadata": {},
   "outputs": [
    {
     "data": {
      "text/plain": [
       "'Python is a high-level, general-purpose programming language. Its design philosophy emphasizes code readability with the use of significant indentation.\\n\\nPython is dynamically-typed and garbage-collected. It supports multiple programming paradigms, including structured (particularly procedural), object-oriented and functional programming. It is often described as a \"batteries included\" language due to its comprehensive standard library'"
      ]
     },
     "execution_count": 3,
     "metadata": {},
     "output_type": "execute_result"
    }
   ],
   "source": [
    "text"
   ]
  },
  {
   "cell_type": "code",
   "execution_count": 4,
   "id": "3a27d1de",
   "metadata": {},
   "outputs": [
    {
     "name": "stdout",
     "output_type": "stream",
     "text": [
      "Python is a high-level, general-purpose programming language. Its design philosophy emphasizes code readability with the use of significant indentation.\n",
      "\n",
      "Python is dynamically-typed and garbage-collected. It supports multiple programming paradigms, including structured (particularly procedural), object-oriented and functional programming. It is often described as a \"batteries included\" language due to its comprehensive standard library\n"
     ]
    }
   ],
   "source": [
    "print(text)"
   ]
  },
  {
   "cell_type": "code",
   "execution_count": 5,
   "id": "bdf9fd81",
   "metadata": {},
   "outputs": [],
   "source": [
    "obj.close() # you should clos file after opening it."
   ]
  },
  {
   "cell_type": "code",
   "execution_count": 6,
   "id": "89081f87",
   "metadata": {},
   "outputs": [
    {
     "data": {
      "text/plain": [
       "'Python is a high-level, general-purpose programming language. Its design philosophy emphasizes code readability with the use of significant indentation.\\n\\nPython is dynamically-typed and garbage-collected. It supports multiple programming paradigms, including structured (particularly procedural), object-oriented and functional programming. It is often described as a \"batteries included\" language due to its comprehensive standard library'"
      ]
     },
     "execution_count": 6,
     "metadata": {},
     "output_type": "execute_result"
    }
   ],
   "source": [
    "text"
   ]
  },
  {
   "cell_type": "code",
   "execution_count": 7,
   "id": "f54c44c9",
   "metadata": {},
   "outputs": [],
   "source": [
    "# Alterntaive way / Preferred way\n",
    "\n",
    "with open('News.txt', 'r') as file:\n",
    "    text = file.read()"
   ]
  },
  {
   "cell_type": "code",
   "execution_count": 8,
   "id": "6b9000e9",
   "metadata": {},
   "outputs": [
    {
     "name": "stdout",
     "output_type": "stream",
     "text": [
      "Python is a high-level, general-purpose programming language. Its design philosophy emphasizes code readability with the use of significant indentation.\n",
      "\n",
      "Python is dynamically-typed and garbage-collected. It supports multiple programming paradigms, including structured (particularly procedural), object-oriented and functional programming. It is often described as a \"batteries included\" language due to its comprehensive standard library\n"
     ]
    }
   ],
   "source": [
    "print(text)"
   ]
  },
  {
   "cell_type": "code",
   "execution_count": 9,
   "id": "e1d6b4b5",
   "metadata": {},
   "outputs": [],
   "source": [
    "# file reading methods"
   ]
  },
  {
   "cell_type": "code",
   "execution_count": 10,
   "id": "6ec42bc5",
   "metadata": {},
   "outputs": [],
   "source": [
    "with open('News.txt', 'r') as file:\n",
    "    text = file.readline() # readline reads first paragraph of text"
   ]
  },
  {
   "cell_type": "code",
   "execution_count": 11,
   "id": "438f3efb",
   "metadata": {},
   "outputs": [
    {
     "data": {
      "text/plain": [
       "'Python is a high-level, general-purpose programming language. Its design philosophy emphasizes code readability with the use of significant indentation.\\n'"
      ]
     },
     "execution_count": 11,
     "metadata": {},
     "output_type": "execute_result"
    }
   ],
   "source": [
    "text"
   ]
  },
  {
   "cell_type": "code",
   "execution_count": 12,
   "id": "c150cada",
   "metadata": {},
   "outputs": [
    {
     "data": {
      "text/plain": [
       "153"
      ]
     },
     "execution_count": 12,
     "metadata": {},
     "output_type": "execute_result"
    }
   ],
   "source": [
    "len(text)"
   ]
  },
  {
   "cell_type": "code",
   "execution_count": 13,
   "id": "2b119223",
   "metadata": {},
   "outputs": [
    {
     "data": {
      "text/plain": [
       "str"
      ]
     },
     "execution_count": 13,
     "metadata": {},
     "output_type": "execute_result"
    }
   ],
   "source": [
    "type(text)"
   ]
  },
  {
   "cell_type": "code",
   "execution_count": 14,
   "id": "7727be63",
   "metadata": {},
   "outputs": [],
   "source": [
    "# Write mode: creates file if it doesn't exist"
   ]
  },
  {
   "cell_type": "code",
   "execution_count": 35,
   "id": "5fcc21e9",
   "metadata": {},
   "outputs": [],
   "source": [
    "with open('write.txt', 'w')as file:\n",
    "    file.write(\"I love Python\")"
   ]
  },
  {
   "cell_type": "code",
   "execution_count": 36,
   "id": "a582adde",
   "metadata": {},
   "outputs": [
    {
     "data": {
      "text/plain": [
       "'I love Python'"
      ]
     },
     "execution_count": 36,
     "metadata": {},
     "output_type": "execute_result"
    }
   ],
   "source": [
    "with open('write.txt', 'r')as file:\n",
    "    text = file.read()\n",
    "    \n",
    "text"
   ]
  },
  {
   "cell_type": "code",
   "execution_count": 37,
   "id": "1edf771b",
   "metadata": {},
   "outputs": [],
   "source": [
    "with open('write.txt', 'w')as file:\n",
    "    file.write(\"I love Programming\")"
   ]
  },
  {
   "cell_type": "code",
   "execution_count": 38,
   "id": "01cf1019",
   "metadata": {},
   "outputs": [
    {
     "data": {
      "text/plain": [
       "'I love Programming'"
      ]
     },
     "execution_count": 38,
     "metadata": {},
     "output_type": "execute_result"
    }
   ],
   "source": [
    "with open('write.txt', 'r')as file:\n",
    "    text = file.read()\n",
    "    \n",
    "text"
   ]
  },
  {
   "cell_type": "markdown",
   "id": "eff185ad",
   "metadata": {},
   "source": [
    "## append mode"
   ]
  },
  {
   "cell_type": "code",
   "execution_count": 28,
   "id": "28159273",
   "metadata": {},
   "outputs": [],
   "source": [
    "with open('write.txt', 'a')as file: # appends text on EOL\n",
    "    file.write(\" Python is my favourite language.\")"
   ]
  },
  {
   "cell_type": "code",
   "execution_count": 31,
   "id": "b0bbb550",
   "metadata": {},
   "outputs": [
    {
     "data": {
      "text/plain": [
       "'I love Programming Python is my favourite language.'"
      ]
     },
     "execution_count": 31,
     "metadata": {},
     "output_type": "execute_result"
    }
   ],
   "source": [
    "with open('write.txt', 'r')as file:\n",
    "    text = file.read()\n",
    "\n",
    "text"
   ]
  },
  {
   "cell_type": "code",
   "execution_count": 33,
   "id": "2a8f3060",
   "metadata": {},
   "outputs": [],
   "source": [
    "with open('append.txt', 'a')as f:\n",
    "    f.write(\"Append mode creates a new file if it doesn't exist.\")"
   ]
  },
  {
   "cell_type": "code",
   "execution_count": 34,
   "id": "36e24f86",
   "metadata": {},
   "outputs": [
    {
     "ename": "UnsupportedOperation",
     "evalue": "not readable",
     "output_type": "error",
     "traceback": [
      "\u001b[0;31m---------------------------------------------------------------------------\u001b[0m",
      "\u001b[0;31mUnsupportedOperation\u001b[0m                      Traceback (most recent call last)",
      "Cell \u001b[0;32mIn [34], line 2\u001b[0m\n\u001b[1;32m      1\u001b[0m \u001b[38;5;28;01mwith\u001b[39;00m \u001b[38;5;28mopen\u001b[39m(\u001b[38;5;124m'\u001b[39m\u001b[38;5;124mappend.txt\u001b[39m\u001b[38;5;124m'\u001b[39m, \u001b[38;5;124m'\u001b[39m\u001b[38;5;124ma\u001b[39m\u001b[38;5;124m'\u001b[39m)\u001b[38;5;28;01mas\u001b[39;00m f:\n\u001b[0;32m----> 2\u001b[0m     txt \u001b[38;5;241m=\u001b[39m \u001b[43mf\u001b[49m\u001b[38;5;241;43m.\u001b[39;49m\u001b[43mread\u001b[49m\u001b[43m(\u001b[49m\u001b[43m)\u001b[49m\n\u001b[1;32m      4\u001b[0m txt\n",
      "\u001b[0;31mUnsupportedOperation\u001b[0m: not readable"
     ]
    }
   ],
   "source": [
    "with open('append.txt', 'a')as f:\n",
    "    txt = f.read()\n",
    "\n",
    "txt"
   ]
  },
  {
   "cell_type": "code",
   "execution_count": null,
   "id": "d287e17c",
   "metadata": {},
   "outputs": [],
   "source": []
  }
 ],
 "metadata": {
  "kernelspec": {
   "display_name": "Python 3 (ipykernel)",
   "language": "python",
   "name": "python3"
  },
  "language_info": {
   "codemirror_mode": {
    "name": "ipython",
    "version": 3
   },
   "file_extension": ".py",
   "mimetype": "text/x-python",
   "name": "python",
   "nbconvert_exporter": "python",
   "pygments_lexer": "ipython3",
   "version": "3.10.7"
  }
 },
 "nbformat": 4,
 "nbformat_minor": 5
}
