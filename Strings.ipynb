{
 "cells": [
  {
   "cell_type": "code",
   "execution_count": 1,
   "id": "c4efd6a0",
   "metadata": {},
   "outputs": [
    {
     "data": {
      "text/plain": [
       "True"
      ]
     },
     "execution_count": 1,
     "metadata": {},
     "output_type": "execute_result"
    }
   ],
   "source": [
    "str1 = 'Hi'\n",
    "str2 = \"Hi\"\n",
    "str1 == str2"
   ]
  },
  {
   "cell_type": "code",
   "execution_count": 2,
   "id": "53ee8065",
   "metadata": {},
   "outputs": [],
   "source": [
    "# assert is another way to validate data. If it results in nothing while using assert, it means the case is True.\n",
    "\n",
    "assert str1 == str2"
   ]
  },
  {
   "cell_type": "code",
   "execution_count": 3,
   "id": "70609151",
   "metadata": {},
   "outputs": [
    {
     "ename": "AssertionError",
     "evalue": "",
     "output_type": "error",
     "traceback": [
      "\u001b[0;31m---------------------------------------------------------------------------\u001b[0m",
      "\u001b[0;31mAssertionError\u001b[0m                            Traceback (most recent call last)",
      "Cell \u001b[0;32mIn [3], line 6\u001b[0m\n\u001b[1;32m      3\u001b[0m str1 \u001b[38;5;241m=\u001b[39m \u001b[38;5;124m'\u001b[39m\u001b[38;5;124mHi\u001b[39m\u001b[38;5;124m'\u001b[39m\n\u001b[1;32m      4\u001b[0m str2 \u001b[38;5;241m=\u001b[39m \u001b[38;5;124m\"\u001b[39m\u001b[38;5;124mhi\u001b[39m\u001b[38;5;124m\"\u001b[39m\n\u001b[0;32m----> 6\u001b[0m \u001b[38;5;28;01massert\u001b[39;00m str1 \u001b[38;5;241m==\u001b[39m str2\n",
      "\u001b[0;31mAssertionError\u001b[0m: "
     ]
    }
   ],
   "source": [
    "# If condition is False, assert raises AssertionError which is an exception.\n",
    "\n",
    "str1 = 'Hi'\n",
    "str2 = \"hi\"\n",
    "\n",
    "assert str1 == str2"
   ]
  },
  {
   "cell_type": "markdown",
   "id": "6ba17bbe",
   "metadata": {},
   "source": [
    "# Single-line and Multi-line string"
   ]
  },
  {
   "cell_type": "code",
   "execution_count": 4,
   "id": "5e2dbed5",
   "metadata": {},
   "outputs": [],
   "source": [
    "text = \"Hi! My name is Rakshya.\""
   ]
  },
  {
   "cell_type": "code",
   "execution_count": 5,
   "id": "1f4ee2ec",
   "metadata": {},
   "outputs": [
    {
     "ename": "SyntaxError",
     "evalue": "unterminated string literal (detected at line 3) (580013075.py, line 3)",
     "output_type": "error",
     "traceback": [
      "\u001b[0;36m  Cell \u001b[0;32mIn [5], line 3\u001b[0;36m\u001b[0m\n\u001b[0;31m    text = \"Hi!\u001b[0m\n\u001b[0m           ^\u001b[0m\n\u001b[0;31mSyntaxError\u001b[0m\u001b[0;31m:\u001b[0m unterminated string literal (detected at line 3)\n"
     ]
    }
   ],
   "source": [
    "# not allowed\n",
    "\n",
    "text = \"Hi!\n",
    "        My name is Rakshya.\""
   ]
  },
  {
   "cell_type": "code",
   "execution_count": 6,
   "id": "438c8ba4",
   "metadata": {},
   "outputs": [],
   "source": [
    "# use triple quotes to write multi line string\n",
    "\n",
    "text = \"\"\" Hi!\n",
    " How are you? \"\"\""
   ]
  },
  {
   "cell_type": "code",
   "execution_count": 7,
   "id": "59649f5e",
   "metadata": {},
   "outputs": [],
   "source": [
    "text = ''' Hey there!\n",
    " How have you been? '''"
   ]
  },
  {
   "cell_type": "code",
   "execution_count": 8,
   "id": "7575bc66",
   "metadata": {},
   "outputs": [
    {
     "data": {
      "text/plain": [
       "' Hey there!\\n How have you been? '"
      ]
     },
     "execution_count": 8,
     "metadata": {},
     "output_type": "execute_result"
    }
   ],
   "source": [
    "text # \\n means newline"
   ]
  },
  {
   "cell_type": "code",
   "execution_count": 9,
   "id": "5cecaa32",
   "metadata": {},
   "outputs": [
    {
     "data": {
      "text/plain": [
       "str"
      ]
     },
     "execution_count": 9,
     "metadata": {},
     "output_type": "execute_result"
    }
   ],
   "source": [
    "type(text) # multi-line string also has type string"
   ]
  },
  {
   "cell_type": "markdown",
   "id": "42da0195",
   "metadata": {},
   "source": [
    "# Accessing index of string"
   ]
  },
  {
   "cell_type": "code",
   "execution_count": 10,
   "id": "68fc7c96",
   "metadata": {},
   "outputs": [],
   "source": [
    "txt = \"Hello World!\""
   ]
  },
  {
   "cell_type": "code",
   "execution_count": 11,
   "id": "448df752",
   "metadata": {},
   "outputs": [
    {
     "data": {
      "text/plain": [
       "'H'"
      ]
     },
     "execution_count": 11,
     "metadata": {},
     "output_type": "execute_result"
    }
   ],
   "source": [
    "txt[0] # Index starts with 0"
   ]
  },
  {
   "cell_type": "code",
   "execution_count": 12,
   "id": "64d4b667",
   "metadata": {},
   "outputs": [
    {
     "data": {
      "text/plain": [
       "'e'"
      ]
     },
     "execution_count": 12,
     "metadata": {},
     "output_type": "execute_result"
    }
   ],
   "source": [
    "txt[1]"
   ]
  },
  {
   "cell_type": "code",
   "execution_count": 13,
   "id": "5c20a735",
   "metadata": {},
   "outputs": [
    {
     "data": {
      "text/plain": [
       "' '"
      ]
     },
     "execution_count": 13,
     "metadata": {},
     "output_type": "execute_result"
    }
   ],
   "source": [
    "txt[5]"
   ]
  },
  {
   "cell_type": "code",
   "execution_count": 14,
   "id": "4a54d876",
   "metadata": {},
   "outputs": [
    {
     "ename": "IndexError",
     "evalue": "string index out of range",
     "output_type": "error",
     "traceback": [
      "\u001b[0;31m---------------------------------------------------------------------------\u001b[0m",
      "\u001b[0;31mIndexError\u001b[0m                                Traceback (most recent call last)",
      "Cell \u001b[0;32mIn [14], line 1\u001b[0m\n\u001b[0;32m----> 1\u001b[0m \u001b[43mtxt\u001b[49m\u001b[43m[\u001b[49m\u001b[38;5;241;43m12\u001b[39;49m\u001b[43m]\u001b[49m\n",
      "\u001b[0;31mIndexError\u001b[0m: string index out of range"
     ]
    }
   ],
   "source": [
    "txt[12]"
   ]
  },
  {
   "cell_type": "code",
   "execution_count": 15,
   "id": "aebe31ae",
   "metadata": {},
   "outputs": [
    {
     "ename": "TypeError",
     "evalue": "string indices must be integers",
     "output_type": "error",
     "traceback": [
      "\u001b[0;31m---------------------------------------------------------------------------\u001b[0m",
      "\u001b[0;31mTypeError\u001b[0m                                 Traceback (most recent call last)",
      "Cell \u001b[0;32mIn [15], line 1\u001b[0m\n\u001b[0;32m----> 1\u001b[0m \u001b[43mtxt\u001b[49m\u001b[43m[\u001b[49m\u001b[38;5;241;43m1.2\u001b[39;49m\u001b[43m]\u001b[49m \u001b[38;5;66;03m# index cannot be a float number\u001b[39;00m\n",
      "\u001b[0;31mTypeError\u001b[0m: string indices must be integers"
     ]
    }
   ],
   "source": [
    "txt[1.2] # index cannot be a float number"
   ]
  },
  {
   "cell_type": "code",
   "execution_count": 16,
   "id": "2fa472a4",
   "metadata": {},
   "outputs": [
    {
     "data": {
      "text/plain": [
       "19"
      ]
     },
     "execution_count": 16,
     "metadata": {},
     "output_type": "execute_result"
    }
   ],
   "source": [
    "text = \"My name is Rakshya.\"\n",
    "len(text)"
   ]
  },
  {
   "cell_type": "markdown",
   "id": "0905716a",
   "metadata": {},
   "source": [
    "* Find the length of your own name."
   ]
  },
  {
   "cell_type": "code",
   "execution_count": 17,
   "id": "c0331954",
   "metadata": {},
   "outputs": [
    {
     "data": {
      "text/plain": [
       "15"
      ]
     },
     "execution_count": 17,
     "metadata": {},
     "output_type": "execute_result"
    }
   ],
   "source": [
    "my_name = 'Rakshya Bhetwal'\n",
    "len(my_name)"
   ]
  },
  {
   "cell_type": "markdown",
   "id": "ebff8705",
   "metadata": {},
   "source": [
    "## Range Function\n",
    "```python\n",
    "range(start, end, step)\n",
    "```"
   ]
  },
  {
   "cell_type": "code",
   "execution_count": 18,
   "id": "ef84e21e",
   "metadata": {},
   "outputs": [
    {
     "data": {
      "text/plain": [
       "[0, 1, 2, 3, 4]"
      ]
     },
     "execution_count": 18,
     "metadata": {},
     "output_type": "execute_result"
    }
   ],
   "source": [
    "list(range(0, 5, 1))"
   ]
  },
  {
   "cell_type": "code",
   "execution_count": 19,
   "id": "b43d080e",
   "metadata": {},
   "outputs": [
    {
     "data": {
      "text/plain": [
       "[2, 3, 4, 5, 6, 7, 8, 9]"
      ]
     },
     "execution_count": 19,
     "metadata": {},
     "output_type": "execute_result"
    }
   ],
   "source": [
    "list(range(2, 10, 1))"
   ]
  },
  {
   "cell_type": "code",
   "execution_count": 20,
   "id": "4ac6e4d1",
   "metadata": {},
   "outputs": [
    {
     "data": {
      "text/plain": [
       "[0, 1, 2, 3, 4, 5, 6, 7, 8, 9, 10, 11]"
      ]
     },
     "execution_count": 20,
     "metadata": {},
     "output_type": "execute_result"
    }
   ],
   "source": [
    "txt = \"Hello World!\"\n",
    "list(range(0, len(txt), 1))"
   ]
  },
  {
   "cell_type": "code",
   "execution_count": 21,
   "id": "8f50756d",
   "metadata": {},
   "outputs": [
    {
     "data": {
      "text/plain": [
       "'e'"
      ]
     },
     "execution_count": 21,
     "metadata": {},
     "output_type": "execute_result"
    }
   ],
   "source": [
    "index = 1\n",
    "txt[index]"
   ]
  },
  {
   "cell_type": "code",
   "execution_count": 22,
   "id": "dfcc2e92",
   "metadata": {},
   "outputs": [
    {
     "name": "stdout",
     "output_type": "stream",
     "text": [
      "0\n",
      "1\n",
      "2\n",
      "3\n",
      "4\n",
      "5\n",
      "6\n",
      "7\n",
      "8\n",
      "9\n",
      "10\n"
     ]
    }
   ],
   "source": [
    "txt = \"hello world\"\n",
    "start = 0\n",
    "end = len(txt)\n",
    "step = 1\n",
    "\n",
    "for index in range(start, end, step):\n",
    "    print(index)"
   ]
  },
  {
   "cell_type": "code",
   "execution_count": 23,
   "id": "4dc46181",
   "metadata": {},
   "outputs": [
    {
     "name": "stdout",
     "output_type": "stream",
     "text": [
      "h\n",
      "e\n",
      "l\n",
      "l\n",
      "o\n",
      " \n",
      "w\n",
      "o\n",
      "r\n",
      "l\n",
      "d\n"
     ]
    }
   ],
   "source": [
    "txt = \"hello world\"\n",
    "start = 0\n",
    "end = len(txt)\n",
    "step = 1\n",
    "\n",
    "for index in range(start, end, step):\n",
    "    letter = txt[index]               # access character using indexing\n",
    "    print(letter)"
   ]
  },
  {
   "cell_type": "code",
   "execution_count": 24,
   "id": "7cc2cb73",
   "metadata": {},
   "outputs": [
    {
     "name": "stdout",
     "output_type": "stream",
     "text": [
      "The index is: 0\n",
      "The letter is: h\n",
      "The index is: 1\n",
      "The letter is: e\n",
      "The index is: 2\n",
      "The letter is: l\n",
      "The index is: 3\n",
      "The letter is: l\n",
      "The index is: 4\n",
      "The letter is: o\n",
      "The index is: 5\n",
      "The letter is:  \n",
      "The index is: 6\n",
      "The letter is: w\n",
      "The index is: 7\n",
      "The letter is: o\n",
      "The index is: 8\n",
      "The letter is: r\n",
      "The index is: 9\n",
      "The letter is: l\n",
      "The index is: 10\n",
      "The letter is: d\n"
     ]
    }
   ],
   "source": [
    "txt = \"hello world\"\n",
    "start = 0\n",
    "end = len(txt)\n",
    "step = 1\n",
    "\n",
    "for index in range(start, end, step):\n",
    "    letter = txt[index]               # access character using indexing\n",
    "    print(\"The index is: {}\".format(index))\n",
    "    print(\"The letter is: {}\".format(letter))"
   ]
  },
  {
   "cell_type": "code",
   "execution_count": 25,
   "id": "d5925600",
   "metadata": {},
   "outputs": [
    {
     "name": "stdout",
     "output_type": "stream",
     "text": [
      "The index is: 0 & The letter is: R\n",
      "The index is: 1 & The letter is: A\n",
      "The index is: 2 & The letter is: K\n",
      "The index is: 3 & The letter is: S\n",
      "The index is: 4 & The letter is: H\n",
      "The index is: 5 & The letter is: Y\n",
      "The index is: 6 & The letter is: A\n",
      "The index is: 7 & The letter is:  \n",
      "The index is: 8 & The letter is: B\n",
      "The index is: 9 & The letter is: H\n",
      "The index is: 10 & The letter is: E\n",
      "The index is: 11 & The letter is: T\n",
      "The index is: 12 & The letter is: W\n",
      "The index is: 13 & The letter is: A\n",
      "The index is: 14 & The letter is: L\n"
     ]
    }
   ],
   "source": [
    "txt = \"RAKSHYA BHETWAL\"\n",
    "start = 0\n",
    "end = len(txt)\n",
    "step = 1\n",
    "\n",
    "for index in range(start, end, step):\n",
    "    letter = txt[index] \n",
    "    print(f\"The index is: {index} & The letter is: {letter}\")"
   ]
  },
  {
   "cell_type": "markdown",
   "id": "11150532",
   "metadata": {},
   "source": [
    "* WAP to show reverse order (to show end to start) using loops and range() function"
   ]
  },
  {
   "cell_type": "code",
   "execution_count": 26,
   "id": "af6f183d",
   "metadata": {},
   "outputs": [
    {
     "name": "stdout",
     "output_type": "stream",
     "text": [
      "The index is: 6 & The letter is: A\n",
      "The index is: 5 & The letter is: Y\n",
      "The index is: 4 & The letter is: H\n",
      "The index is: 3 & The letter is: S\n",
      "The index is: 2 & The letter is: K\n",
      "The index is: 1 & The letter is: A\n",
      "The index is: 0 & The letter is: R\n"
     ]
    }
   ],
   "source": [
    "txt = \"RAKSHYA\"\n",
    "start = len(txt) - 1\n",
    "end = -1\n",
    "step = -1\n",
    "\n",
    "for index in range(start, end, step):\n",
    "    letter = txt[index] \n",
    "    print(f\"The index is: {index} & The letter is: {letter}\")"
   ]
  },
  {
   "cell_type": "markdown",
   "id": "b97aef3d",
   "metadata": {},
   "source": [
    "* WAP to print vowels and consonants in given string\n",
    "```python\n",
    "s = 'consonant and vowel'\n",
    "```"
   ]
  },
  {
   "cell_type": "code",
   "execution_count": 27,
   "id": "d65adfa7",
   "metadata": {},
   "outputs": [
    {
     "name": "stdout",
     "output_type": "stream",
     "text": [
      "c\n",
      "The letter c is a consonant\n",
      "o\n",
      "The letter o is a vowel\n",
      "n\n",
      "The letter n is a consonant\n",
      "s\n",
      "The letter s is a consonant\n",
      "o\n",
      "The letter o is a vowel\n",
      "n\n",
      "The letter n is a consonant\n",
      "a\n",
      "The letter a is a vowel\n",
      "n\n",
      "The letter n is a consonant\n",
      "t\n",
      "The letter t is a consonant\n",
      " \n",
      "  is neither vowel nor consonant\n",
      "a\n",
      "The letter a is a vowel\n",
      "n\n",
      "The letter n is a consonant\n",
      "d\n",
      "The letter d is a consonant\n",
      " \n",
      "  is neither vowel nor consonant\n",
      "v\n",
      "The letter v is a consonant\n",
      "o\n",
      "The letter o is a vowel\n",
      "w\n",
      "The letter w is a consonant\n",
      "e\n",
      "The letter e is a vowel\n",
      "l\n",
      "The letter l is a consonant\n"
     ]
    }
   ],
   "source": [
    "s = 'consonant and vowel'\n",
    "\n",
    "start = 0\n",
    "end = len(s)\n",
    "step = 1\n",
    "\n",
    "for index in range(start, end, step):\n",
    "    letter = s[index]\n",
    "    print(letter)\n",
    "    \n",
    "    if letter == 'a' or  letter == 'e' or letter == 'i'  or letter == 'o' or letter == 'u':\n",
    "        print(f'The letter {letter} is a vowel')\n",
    "\n",
    "    elif letter == ' ':\n",
    "        print(f'{letter} is neither vowel nor consonant')\n",
    "    \n",
    "    else:\n",
    "        print(f'The letter {letter} is a consonant')"
   ]
  },
  {
   "cell_type": "markdown",
   "id": "708f388d",
   "metadata": {},
   "source": [
    "# Difference between continue, break and pass statement"
   ]
  },
  {
   "cell_type": "markdown",
   "id": "fc740a49",
   "metadata": {},
   "source": [
    "* continue statement"
   ]
  },
  {
   "cell_type": "code",
   "execution_count": 2,
   "id": "5aa83689",
   "metadata": {},
   "outputs": [
    {
     "name": "stdout",
     "output_type": "stream",
     "text": [
      "Consonant = C\n",
      "Vowel = o\n",
      "Consonant = n\n",
      "Consonant = s\n",
      "Vowel = o\n",
      "Consonant = n\n",
      "Vowel = a\n",
      "Consonant = n\n",
      "Consonant = t\n",
      "Consonant = s\n",
      "Vowel = a\n",
      "Consonant = n\n",
      "Consonant = d\n",
      "Consonant = V\n",
      "Vowel = o\n",
      "Consonant = w\n",
      "Vowel = e\n",
      "Consonant = l\n",
      "Consonant = s\n",
      "Consonant = t\n",
      "Vowel = e\n",
      "Consonant = s\n",
      "Consonant = t\n",
      " \n",
      "Total no. of vowels = 7\n",
      "Total no. of consonants = 16\n"
     ]
    }
   ],
   "source": [
    "txt = 'Consonants and Vowels test'\n",
    "\n",
    "vowel, consonant = 0, 0 # assigning multiple values to multiple variables\n",
    "\n",
    "for index in range(0, len(txt), 1):\n",
    "    letter = txt[index]\n",
    "    \n",
    "    if letter == 'A' or  letter == 'E' or letter == 'I'  or letter == 'O' or letter == 'U' or letter == 'a' or  letter == 'e' or letter == 'i'  or letter == 'o' or letter == 'u':\n",
    "        print(f'Vowel = {letter}')\n",
    "        vowel = vowel + 1\n",
    "    \n",
    "    elif letter == ' ':\n",
    "        continue       # continue statement skips one iteration of a loop if condition match\n",
    "        print('After continue')\n",
    "    \n",
    "    else:\n",
    "        print(f'Consonant = {letter}')\n",
    "        consonant = consonant + 1\n",
    "\n",
    "        \n",
    "print(' ')\n",
    "print(f'Total no. of vowels = {vowel}')\n",
    "print(f'Total no. of consonants = {consonant}')"
   ]
  },
  {
   "cell_type": "markdown",
   "id": "54131d76",
   "metadata": {},
   "source": [
    "* break statement"
   ]
  },
  {
   "cell_type": "code",
   "execution_count": 4,
   "id": "1f37e862",
   "metadata": {},
   "outputs": [
    {
     "name": "stdout",
     "output_type": "stream",
     "text": [
      "Consonant = C\n",
      "Vowel = o\n",
      "Consonant = n\n",
      "Consonant = s\n",
      "Vowel = o\n",
      "Consonant = n\n",
      "Vowel = a\n",
      "Consonant = n\n",
      "Consonant = t\n",
      "Consonant = s\n",
      " \n",
      "This statement runs after break\n"
     ]
    }
   ],
   "source": [
    "txt = 'Consonants and Vowels test'\n",
    "\n",
    "vowel, consonant = 0, 0 # assigning multiple values to multiple variables\n",
    "\n",
    "for index in range(0, len(txt), 1):\n",
    "    letter = txt[index]\n",
    "    \n",
    "    if letter == 'A' or  letter == 'E' or letter == 'I'  or letter == 'O' or letter == 'U' or letter == 'a' or  letter == 'e' or letter == 'i'  or letter == 'o' or letter == 'u':\n",
    "        print(f'Vowel = {letter}')\n",
    "        vowel = vowel + 1\n",
    "    \n",
    "    elif letter == ' ':\n",
    "        break     # break statement breaks down loop, the loop won't run any further if the condition is true\n",
    "        print('After break')\n",
    "    \n",
    "    else:\n",
    "        print(f'Consonant = {letter}')\n",
    "        consonant = consonant + 1\n",
    "\n",
    "print(' ')\n",
    "print('This statement runs after break')\n"
   ]
  },
  {
   "cell_type": "markdown",
   "id": "54a53e44",
   "metadata": {},
   "source": [
    "* pass statement"
   ]
  },
  {
   "cell_type": "code",
   "execution_count": 6,
   "id": "d6438f07",
   "metadata": {},
   "outputs": [
    {
     "name": "stdout",
     "output_type": "stream",
     "text": [
      "Consonant = C\n",
      "Vowel = o\n",
      "Consonant = n\n",
      "Consonant = s\n",
      "Vowel = o\n",
      "Consonant = n\n",
      "Vowel = a\n",
      "Consonant = n\n",
      "Consonant = t\n",
      "Consonant = s\n"
     ]
    }
   ],
   "source": [
    "txt = 'Consonants and Vowels test'\n",
    "\n",
    "vowel, consonant = 0, 0 # assigning multiple values to multiple variables\n",
    "\n",
    "for index in range(0, len(txt), 1):\n",
    "    letter = txt[index]\n",
    "    \n",
    "    if letter == 'A' or  letter == 'E' or letter == 'I'  or letter == 'O' or letter == 'U' or letter == 'a' or  letter == 'e' or letter == 'i'  or letter == 'o' or letter == 'u':\n",
    "        print(f'Vowel = {letter}')\n",
    "        vowel = vowel + 1\n",
    "    \n",
    "    elif letter == ' ':\n",
    "        break     # pass is a placeholder to write a code\n",
    "        print('After pass')\n",
    "    \n",
    "    else:\n",
    "        print(f'Consonant = {letter}')\n",
    "        consonant = consonant + 1\n",
    "\n",
    "\n"
   ]
  },
  {
   "cell_type": "code",
   "execution_count": null,
   "id": "bb2002a1",
   "metadata": {},
   "outputs": [],
   "source": []
  }
 ],
 "metadata": {
  "kernelspec": {
   "display_name": "Python 3 (ipykernel)",
   "language": "python",
   "name": "python3"
  },
  "language_info": {
   "codemirror_mode": {
    "name": "ipython",
    "version": 3
   },
   "file_extension": ".py",
   "mimetype": "text/x-python",
   "name": "python",
   "nbconvert_exporter": "python",
   "pygments_lexer": "ipython3",
   "version": "3.10.7"
  }
 },
 "nbformat": 4,
 "nbformat_minor": 5
}
