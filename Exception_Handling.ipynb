{
  "nbformat": 4,
  "nbformat_minor": 0,
  "metadata": {
    "colab": {
      "provenance": []
    },
    "kernelspec": {
      "name": "python3",
      "display_name": "Python 3"
    },
    "language_info": {
      "name": "python"
    }
  },
  "cells": [
    {
      "cell_type": "code",
      "execution_count": 1,
      "metadata": {
        "id": "HTsft2QE70nE"
      },
      "outputs": [],
      "source": [
        "# Exception Handling"
      ]
    },
    {
      "cell_type": "code",
      "source": [
        "# use try: ...except: ... to handle Exceptions"
      ],
      "metadata": {
        "id": "FLLsf04k74SM"
      },
      "execution_count": 2,
      "outputs": []
    },
    {
      "cell_type": "code",
      "source": [
        "try:\n",
        "  a = 5\n",
        "  b = 0\n",
        "  c = a / b\n",
        "except:\n",
        "  print(\"Divide by zero\")\n",
        "\n",
        "print(\"Other code logic\")"
      ],
      "metadata": {
        "colab": {
          "base_uri": "https://localhost:8080/"
        },
        "id": "Nhg5oxrP8Dqd",
        "outputId": "684efafe-47e5-4ec0-e7dc-441e98262fef"
      },
      "execution_count": 4,
      "outputs": [
        {
          "output_type": "stream",
          "name": "stdout",
          "text": [
            "Divide by zero\n",
            "Other code logic\n"
          ]
        }
      ]
    },
    {
      "cell_type": "code",
      "source": [
        "try:\n",
        "  a = 5\n",
        "  b = 0\n",
        "  c = a / b\n",
        "except ZeroDivisionError as e:\n",
        "  print(str(e))\n",
        "\n",
        "print(\"Other code logic\")"
      ],
      "metadata": {
        "colab": {
          "base_uri": "https://localhost:8080/"
        },
        "id": "STMer1ro8V5G",
        "outputId": "50994584-8d87-4068-e0d4-9a0151d67b4c"
      },
      "execution_count": 7,
      "outputs": [
        {
          "output_type": "stream",
          "name": "stdout",
          "text": [
            "division by zero\n",
            "Other code logic\n"
          ]
        }
      ]
    },
    {
      "cell_type": "code",
      "source": [
        "# Exception Handling in files"
      ],
      "metadata": {
        "id": "jYPbbJyw8uzL"
      },
      "execution_count": 8,
      "outputs": []
    },
    {
      "cell_type": "code",
      "source": [
        "f = open('navakofile.text', 'w')"
      ],
      "metadata": {
        "id": "ydKqc-zM84R5"
      },
      "execution_count": 9,
      "outputs": []
    },
    {
      "cell_type": "code",
      "source": [
        "try: \n",
        "  with open('navakofile.txt', 'r')as file:\n",
        "    text = file.read()\n",
        "  \n",
        "except FileNotFoundError as e:\n",
        "  print(str(e))"
      ],
      "metadata": {
        "colab": {
          "base_uri": "https://localhost:8080/"
        },
        "id": "1vylPycO9JKk",
        "outputId": "70e4c4be-fc2b-4d9c-d83d-b72e721f366c"
      },
      "execution_count": 10,
      "outputs": [
        {
          "output_type": "stream",
          "name": "stdout",
          "text": [
            "[Errno 2] No such file or directory: 'navakofile.txt'\n"
          ]
        }
      ]
    },
    {
      "cell_type": "code",
      "source": [
        "# Another example, if file doesn't exist, create a new one."
      ],
      "metadata": {
        "id": "Yqi85XqO9-Xw"
      },
      "execution_count": 11,
      "outputs": []
    },
    {
      "cell_type": "code",
      "source": [
        "try: \n",
        "  with open('navakofile.txt', 'r')as file:\n",
        "    text = file.read()\n",
        "\n",
        "except Exception as e:\n",
        "  print(str(e))\n",
        "  print(\"Creating a new file.....\")\n",
        "  with open('navakofile.txt', 'a')as file:\n",
        "    file.write(\"Yo exception bata banako file ho.\")"
      ],
      "metadata": {
        "colab": {
          "base_uri": "https://localhost:8080/"
        },
        "id": "im32tYuB-tHS",
        "outputId": "d5093aef-5da6-4147-9219-ddd27f5b0746"
      },
      "execution_count": 14,
      "outputs": [
        {
          "output_type": "stream",
          "name": "stdout",
          "text": [
            "[Errno 2] No such file or directory: 'navakofile.txt'\n",
            "Creating a new file.....\n"
          ]
        }
      ]
    },
    {
      "cell_type": "code",
      "source": [
        "with open('navakofile.txt', 'r')as f:\n",
        "  text = f.read()\n",
        "text"
      ],
      "metadata": {
        "colab": {
          "base_uri": "https://localhost:8080/",
          "height": 35
        },
        "id": "Wt7BYJSg-02d",
        "outputId": "f2f9c399-3ac5-4639-adf0-2273f36b600d"
      },
      "execution_count": 16,
      "outputs": [
        {
          "output_type": "execute_result",
          "data": {
            "text/plain": [
              "'Yo exception bata banako file ho.'"
            ],
            "application/vnd.google.colaboratory.intrinsic+json": {
              "type": "string"
            }
          },
          "metadata": {},
          "execution_count": 16
        }
      ]
    },
    {
      "cell_type": "code",
      "source": [],
      "metadata": {
        "id": "nvhABAe4_aqp"
      },
      "execution_count": null,
      "outputs": []
    }
  ]
}