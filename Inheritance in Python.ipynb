{
 "cells": [
  {
   "cell_type": "markdown",
   "id": "5da67d56",
   "metadata": {},
   "source": [
    "# Single Inheritance"
   ]
  },
  {
   "cell_type": "code",
   "execution_count": 4,
   "id": "97a4d0d5",
   "metadata": {},
   "outputs": [],
   "source": [
    "class Computer:\n",
    "    def __init__(self, storage, display_panel):\n",
    "        self.storage = storage\n",
    "        self.display_panel = display_panel"
   ]
  },
  {
   "cell_type": "code",
   "execution_count": 5,
   "id": "2023a008",
   "metadata": {},
   "outputs": [],
   "source": [
    "class Mobile:\n",
    "    def __init__(self, size):\n",
    "        super().__init__(storage, display_panel)\n",
    "        self.size = size"
   ]
  },
  {
   "cell_type": "code",
   "execution_count": 6,
   "id": "af38952b",
   "metadata": {},
   "outputs": [
    {
     "ename": "TypeError",
     "evalue": "Mobile.__init__() takes 2 positional arguments but 4 were given",
     "output_type": "error",
     "traceback": [
      "\u001b[0;31m---------------------------------------------------------------------------\u001b[0m",
      "\u001b[0;31mTypeError\u001b[0m                                 Traceback (most recent call last)",
      "Cell \u001b[0;32mIn [6], line 1\u001b[0m\n\u001b[0;32m----> 1\u001b[0m m \u001b[38;5;241m=\u001b[39m \u001b[43mMobile\u001b[49m\u001b[43m(\u001b[49m\u001b[38;5;241;43m6\u001b[39;49m\u001b[43m,\u001b[49m\u001b[43m \u001b[49m\u001b[38;5;241;43m128\u001b[39;49m\u001b[43m,\u001b[49m\u001b[43m \u001b[49m\u001b[38;5;124;43m'\u001b[39;49m\u001b[38;5;124;43mOLED\u001b[39;49m\u001b[38;5;124;43m'\u001b[39;49m\u001b[43m)\u001b[49m\n",
      "\u001b[0;31mTypeError\u001b[0m: Mobile.__init__() takes 2 positional arguments but 4 were given"
     ]
    }
   ],
   "source": [
    "m = Mobile(6, 128, 'OLED')"
   ]
  },
  {
   "cell_type": "code",
   "execution_count": 7,
   "id": "cc5105e1",
   "metadata": {},
   "outputs": [
    {
     "ename": "NameError",
     "evalue": "name 'm' is not defined",
     "output_type": "error",
     "traceback": [
      "\u001b[0;31m---------------------------------------------------------------------------\u001b[0m",
      "\u001b[0;31mNameError\u001b[0m                                 Traceback (most recent call last)",
      "Cell \u001b[0;32mIn [7], line 1\u001b[0m\n\u001b[0;32m----> 1\u001b[0m \u001b[43mm\u001b[49m\u001b[38;5;241m.\u001b[39msize\n",
      "\u001b[0;31mNameError\u001b[0m: name 'm' is not defined"
     ]
    }
   ],
   "source": [
    "m.size"
   ]
  },
  {
   "cell_type": "code",
   "execution_count": 8,
   "id": "7c464d6c",
   "metadata": {},
   "outputs": [
    {
     "ename": "NameError",
     "evalue": "name 'm' is not defined",
     "output_type": "error",
     "traceback": [
      "\u001b[0;31m---------------------------------------------------------------------------\u001b[0m",
      "\u001b[0;31mNameError\u001b[0m                                 Traceback (most recent call last)",
      "Cell \u001b[0;32mIn [8], line 1\u001b[0m\n\u001b[0;32m----> 1\u001b[0m \u001b[43mm\u001b[49m\u001b[38;5;241m.\u001b[39mstorage\n",
      "\u001b[0;31mNameError\u001b[0m: name 'm' is not defined"
     ]
    }
   ],
   "source": [
    "m.storage"
   ]
  },
  {
   "cell_type": "markdown",
   "id": "eab9efc6",
   "metadata": {},
   "source": [
    "# Multiple Inheritance"
   ]
  },
  {
   "cell_type": "code",
   "execution_count": 9,
   "id": "bbb7a5b8",
   "metadata": {},
   "outputs": [],
   "source": [
    "class Father:\n",
    "    def __init__(self, f_name):\n",
    "        self.f_name = f_name"
   ]
  },
  {
   "cell_type": "code",
   "execution_count": 10,
   "id": "f700188c",
   "metadata": {},
   "outputs": [],
   "source": [
    "class Mother:\n",
    "    def __init__(self, m_name):\n",
    "        self.m_name = m_name"
   ]
  },
  {
   "cell_type": "code",
   "execution_count": 11,
   "id": "9e8c3ede",
   "metadata": {},
   "outputs": [],
   "source": [
    "class Child(Father, Mother):\n",
    "    def __init__(self, name, f_name, m_name):\n",
    "        Father.__init__ (self, f_name) # classname.__init__ use garne\n",
    "        Mother.__init__ (self, m_name)\n",
    "        self.name = name"
   ]
  },
  {
   "cell_type": "code",
   "execution_count": 12,
   "id": "b6fbe3be",
   "metadata": {},
   "outputs": [],
   "source": [
    "c = Child('Luv-kush', 'Ram', 'Sita')"
   ]
  },
  {
   "cell_type": "code",
   "execution_count": 14,
   "id": "602b7541",
   "metadata": {},
   "outputs": [
    {
     "data": {
      "text/plain": [
       "'Sita'"
      ]
     },
     "execution_count": 14,
     "metadata": {},
     "output_type": "execute_result"
    }
   ],
   "source": [
    "c.m_name"
   ]
  },
  {
   "cell_type": "markdown",
   "id": "c77dfd9c",
   "metadata": {},
   "source": [
    "# Multilevel Inheritance -- assignment"
   ]
  },
  {
   "cell_type": "code",
   "execution_count": null,
   "id": "403c6c22",
   "metadata": {},
   "outputs": [],
   "source": []
  },
  {
   "cell_type": "code",
   "execution_count": null,
   "id": "f6bf0339",
   "metadata": {},
   "outputs": [],
   "source": [
    "ac1 + ac2"
   ]
  }
 ],
 "metadata": {
  "kernelspec": {
   "display_name": "Python 3 (ipykernel)",
   "language": "python",
   "name": "python3"
  },
  "language_info": {
   "codemirror_mode": {
    "name": "ipython",
    "version": 3
   },
   "file_extension": ".py",
   "mimetype": "text/x-python",
   "name": "python",
   "nbconvert_exporter": "python",
   "pygments_lexer": "ipython3",
   "version": "3.10.7"
  }
 },
 "nbformat": 4,
 "nbformat_minor": 5
}
