{
 "cells": [
  {
   "cell_type": "code",
   "execution_count": 1,
   "id": "3ccf81a9",
   "metadata": {},
   "outputs": [
    {
     "name": "stdout",
     "output_type": "stream",
     "text": [
      "17\n"
     ]
    }
   ],
   "source": [
    "x = 8\n",
    "y = 9\n",
    "total = x + y\n",
    "print(total)"
   ]
  },
  {
   "cell_type": "markdown",
   "id": "baee09fc",
   "metadata": {},
   "source": [
    "# Syntax\n",
    "```python\n",
    "def functionname(argument):\n",
    "    # function body\n",
    "    return expression\n",
    "```"
   ]
  },
  {
   "cell_type": "code",
   "execution_count": 2,
   "id": "52352434",
   "metadata": {},
   "outputs": [],
   "source": [
    "def add():\n",
    "    x = 8\n",
    "    y = 9\n",
    "    total = x + y\n",
    "    print(total)"
   ]
  },
  {
   "cell_type": "code",
   "execution_count": 3,
   "id": "7b9e46fd",
   "metadata": {},
   "outputs": [
    {
     "name": "stdout",
     "output_type": "stream",
     "text": [
      "17\n"
     ]
    }
   ],
   "source": [
    "add() # you can call function as many times as you want"
   ]
  },
  {
   "cell_type": "code",
   "execution_count": 4,
   "id": "08640f7e",
   "metadata": {},
   "outputs": [
    {
     "name": "stdout",
     "output_type": "stream",
     "text": [
      "17\n"
     ]
    }
   ],
   "source": [
    "add()"
   ]
  },
  {
   "cell_type": "code",
   "execution_count": 5,
   "id": "ac50e2a2",
   "metadata": {},
   "outputs": [],
   "source": [
    "def add(x, y):\n",
    "    total = x + y\n",
    "    print(total)"
   ]
  },
  {
   "cell_type": "code",
   "execution_count": 6,
   "id": "60396730",
   "metadata": {},
   "outputs": [
    {
     "name": "stdout",
     "output_type": "stream",
     "text": [
      "7\n"
     ]
    }
   ],
   "source": [
    "add(5, 2)"
   ]
  },
  {
   "cell_type": "code",
   "execution_count": 7,
   "id": "60d14403",
   "metadata": {},
   "outputs": [
    {
     "name": "stdout",
     "output_type": "stream",
     "text": [
      "8\n"
     ]
    }
   ],
   "source": [
    "add(-1, 9)"
   ]
  },
  {
   "cell_type": "code",
   "execution_count": 8,
   "id": "bce5a9c3",
   "metadata": {},
   "outputs": [
    {
     "name": "stdout",
     "output_type": "stream",
     "text": [
      "97\n"
     ]
    }
   ],
   "source": [
    "add(x = 9, y = 88)"
   ]
  },
  {
   "cell_type": "code",
   "execution_count": 9,
   "id": "a8147dba",
   "metadata": {},
   "outputs": [
    {
     "name": "stdout",
     "output_type": "stream",
     "text": [
      "97\n"
     ]
    }
   ],
   "source": [
    "add(y = 88, x = 9) # Positional arguments"
   ]
  },
  {
   "cell_type": "code",
   "execution_count": 10,
   "id": "31b80343",
   "metadata": {},
   "outputs": [
    {
     "name": "stdout",
     "output_type": "stream",
     "text": [
      "7\n"
     ]
    },
    {
     "ename": "TypeError",
     "evalue": "unsupported operand type(s) for ** or pow(): 'NoneType' and 'int'",
     "output_type": "error",
     "traceback": [
      "\u001b[0;31m---------------------------------------------------------------------------\u001b[0m",
      "\u001b[0;31mTypeError\u001b[0m                                 Traceback (most recent call last)",
      "Cell \u001b[0;32mIn [10], line 1\u001b[0m\n\u001b[0;32m----> 1\u001b[0m \u001b[43madd\u001b[49m\u001b[43m(\u001b[49m\u001b[38;5;241;43m2\u001b[39;49m\u001b[43m,\u001b[49m\u001b[43m \u001b[49m\u001b[38;5;241;43m5\u001b[39;49m\u001b[43m)\u001b[49m\u001b[43m \u001b[49m\u001b[38;5;241;43m*\u001b[39;49m\u001b[38;5;241;43m*\u001b[39;49m\u001b[43m \u001b[49m\u001b[38;5;241;43m2\u001b[39;49m    \u001b[38;5;66;03m# Since any value is not returned from the function, this is not allowed\u001b[39;00m\n",
      "\u001b[0;31mTypeError\u001b[0m: unsupported operand type(s) for ** or pow(): 'NoneType' and 'int'"
     ]
    }
   ],
   "source": [
    "add(2, 5) ** 2    # Since any value is not returned from the function, this is not allowed"
   ]
  },
  {
   "cell_type": "code",
   "execution_count": 11,
   "id": "812073b6",
   "metadata": {},
   "outputs": [],
   "source": [
    "def add(x, y):\n",
    "    total = x + y\n",
    "    return total    # returns sum or total of x and y when called"
   ]
  },
  {
   "cell_type": "code",
   "execution_count": 12,
   "id": "10b0b9e0",
   "metadata": {},
   "outputs": [
    {
     "data": {
      "text/plain": [
       "49"
      ]
     },
     "execution_count": 12,
     "metadata": {},
     "output_type": "execute_result"
    }
   ],
   "source": [
    "add(2, 5) ** 2 "
   ]
  },
  {
   "cell_type": "code",
   "execution_count": 13,
   "id": "e4a0665e",
   "metadata": {},
   "outputs": [
    {
     "data": {
      "text/plain": [
       "36"
      ]
     },
     "execution_count": 13,
     "metadata": {},
     "output_type": "execute_result"
    }
   ],
   "source": [
    "grand_total = add(2,4)\n",
    "grand_total ** 2"
   ]
  },
  {
   "cell_type": "code",
   "execution_count": 14,
   "id": "3e94fd02",
   "metadata": {},
   "outputs": [],
   "source": [
    "def diff(x, y):\n",
    "    sub = x - y\n",
    "    return sub"
   ]
  },
  {
   "cell_type": "code",
   "execution_count": 15,
   "id": "bb9998fc",
   "metadata": {},
   "outputs": [],
   "source": [
    "data = diff(10, 5)"
   ]
  },
  {
   "cell_type": "code",
   "execution_count": 16,
   "id": "5854685b",
   "metadata": {},
   "outputs": [
    {
     "data": {
      "text/plain": [
       "25"
      ]
     },
     "execution_count": 16,
     "metadata": {},
     "output_type": "execute_result"
    }
   ],
   "source": [
    "data ** 2"
   ]
  },
  {
   "cell_type": "code",
   "execution_count": 17,
   "id": "0614ba6c",
   "metadata": {},
   "outputs": [
    {
     "name": "stdout",
     "output_type": "stream",
     "text": [
      "50\n",
      "2500\n"
     ]
    }
   ],
   "source": [
    "def mul(x, y):\n",
    "    return x * y\n",
    "\n",
    "product = mul(5, 10)\n",
    "\n",
    "sq = product ** 2\n",
    "\n",
    "print(product)\n",
    "print(sq)"
   ]
  },
  {
   "cell_type": "code",
   "execution_count": 18,
   "id": "35add987",
   "metadata": {},
   "outputs": [
    {
     "name": "stdout",
     "output_type": "stream",
     "text": [
      "125.0\n",
      "15625.0\n"
     ]
    }
   ],
   "source": [
    "def div(x, y):\n",
    "    return y / x\n",
    "\n",
    "difference = div(5, 625)\n",
    "\n",
    "sq = difference ** 2\n",
    "\n",
    "print(difference)\n",
    "print(sq)"
   ]
  },
  {
   "cell_type": "markdown",
   "id": "f31cef23",
   "metadata": {},
   "source": [
    "## Part 2"
   ]
  },
  {
   "cell_type": "code",
   "execution_count": 19,
   "id": "fa4e3462",
   "metadata": {},
   "outputs": [],
   "source": [
    "def greet():\n",
    "    print(\"Hello Goodmorning!\")"
   ]
  },
  {
   "cell_type": "code",
   "execution_count": 20,
   "id": "b3f8279a",
   "metadata": {},
   "outputs": [
    {
     "name": "stdout",
     "output_type": "stream",
     "text": [
      "Hello Goodmorning!\n"
     ]
    }
   ],
   "source": [
    "greet()"
   ]
  },
  {
   "cell_type": "code",
   "execution_count": 21,
   "id": "c123be9c",
   "metadata": {},
   "outputs": [],
   "source": [
    "def greet(msg):    # msg is a parameter or argument passed to the function(sent by user)\n",
    "    print(\"Inside function:\")\n",
    "    print(msg)"
   ]
  },
  {
   "cell_type": "code",
   "execution_count": 22,
   "id": "f19d0884",
   "metadata": {},
   "outputs": [
    {
     "name": "stdout",
     "output_type": "stream",
     "text": [
      "Enter your message: \n",
      "Inside function:\n",
      "\n"
     ]
    }
   ],
   "source": [
    "msg = input(\"Enter your message: \")\n",
    "greet(msg)"
   ]
  },
  {
   "cell_type": "markdown",
   "id": "fec5510b",
   "metadata": {},
   "source": [
    "# Returning multiple values in a function"
   ]
  },
  {
   "cell_type": "code",
   "execution_count": 27,
   "id": "d94c5058",
   "metadata": {},
   "outputs": [],
   "source": [
    "def addition(num1, num2):\n",
    "    c = num1 + num2\n",
    "    return num1, num2, c    # returning multiple values from a function (in tuples)"
   ]
  },
  {
   "cell_type": "code",
   "execution_count": 25,
   "id": "753262c3",
   "metadata": {},
   "outputs": [
    {
     "data": {
      "text/plain": [
       "11"
      ]
     },
     "execution_count": 25,
     "metadata": {},
     "output_type": "execute_result"
    }
   ],
   "source": [
    "addition(5, 6)"
   ]
  },
  {
   "cell_type": "code",
   "execution_count": 28,
   "id": "fc8bbc18",
   "metadata": {},
   "outputs": [],
   "source": [
    "first_num, second_num, total = addition(2, 3) # unpacking tuples"
   ]
  },
  {
   "cell_type": "code",
   "execution_count": 29,
   "id": "8cb59c99",
   "metadata": {},
   "outputs": [
    {
     "data": {
      "text/plain": [
       "2"
      ]
     },
     "execution_count": 29,
     "metadata": {},
     "output_type": "execute_result"
    }
   ],
   "source": [
    "first_num"
   ]
  },
  {
   "cell_type": "code",
   "execution_count": 30,
   "id": "7cb6c004",
   "metadata": {},
   "outputs": [
    {
     "data": {
      "text/plain": [
       "3"
      ]
     },
     "execution_count": 30,
     "metadata": {},
     "output_type": "execute_result"
    }
   ],
   "source": [
    "second_num"
   ]
  },
  {
   "cell_type": "code",
   "execution_count": 31,
   "id": "34cbee26",
   "metadata": {},
   "outputs": [
    {
     "data": {
      "text/plain": [
       "5"
      ]
     },
     "execution_count": 31,
     "metadata": {},
     "output_type": "execute_result"
    }
   ],
   "source": [
    "total"
   ]
  },
  {
   "cell_type": "code",
   "execution_count": 32,
   "id": "30e45fe9",
   "metadata": {},
   "outputs": [],
   "source": [
    "def solve(num1, num2):\n",
    "    add = num1 + num2\n",
    "    diff = num1 - num2\n",
    "    return add, diff    # returning multiple values from a function (in tuples)"
   ]
  },
  {
   "cell_type": "code",
   "execution_count": 33,
   "id": "cc6e765a",
   "metadata": {},
   "outputs": [],
   "source": [
    "add, diff = solve(2, 3)"
   ]
  },
  {
   "cell_type": "code",
   "execution_count": 34,
   "id": "3ab7ce58",
   "metadata": {},
   "outputs": [
    {
     "data": {
      "text/plain": [
       "5"
      ]
     },
     "execution_count": 34,
     "metadata": {},
     "output_type": "execute_result"
    }
   ],
   "source": [
    "add"
   ]
  },
  {
   "cell_type": "code",
   "execution_count": 35,
   "id": "20e0171f",
   "metadata": {},
   "outputs": [
    {
     "data": {
      "text/plain": [
       "-1"
      ]
     },
     "execution_count": 35,
     "metadata": {},
     "output_type": "execute_result"
    }
   ],
   "source": [
    "diff"
   ]
  },
  {
   "cell_type": "markdown",
   "id": "6094393d",
   "metadata": {},
   "source": [
    "# default and non default argument in python"
   ]
  },
  {
   "cell_type": "code",
   "execution_count": 38,
   "id": "d0bb5e47",
   "metadata": {},
   "outputs": [
    {
     "data": {
      "text/plain": [
       "45"
      ]
     },
     "execution_count": 38,
     "metadata": {},
     "output_type": "execute_result"
    }
   ],
   "source": [
    "def multiply_by_5(x, y):\n",
    "    prod = x * y\n",
    "    return prod\n",
    "\n",
    "multiply_by_5(5, 9)"
   ]
  },
  {
   "cell_type": "code",
   "execution_count": 39,
   "id": "f87817be",
   "metadata": {},
   "outputs": [
    {
     "data": {
      "text/plain": [
       "30"
      ]
     },
     "execution_count": 39,
     "metadata": {},
     "output_type": "execute_result"
    }
   ],
   "source": [
    "multiply_by_5(6, 5)"
   ]
  },
  {
   "cell_type": "code",
   "execution_count": 40,
   "id": "b40cb2b7",
   "metadata": {},
   "outputs": [
    {
     "data": {
      "text/plain": [
       "45"
      ]
     },
     "execution_count": 40,
     "metadata": {},
     "output_type": "execute_result"
    }
   ],
   "source": [
    "def multiply_by_5(x, y=5):    # y = 5 is a default argument\n",
    "    prod = x * y\n",
    "    return prod\n",
    "\n",
    "multiply_by_5(9)"
   ]
  },
  {
   "cell_type": "code",
   "execution_count": 41,
   "id": "7a3c1084",
   "metadata": {},
   "outputs": [
    {
     "data": {
      "text/plain": [
       "30"
      ]
     },
     "execution_count": 41,
     "metadata": {},
     "output_type": "execute_result"
    }
   ],
   "source": [
    "def multiply_by_5(x, y=5):    # y = 5 is a default argument\n",
    "    prod = x * y\n",
    "    return prod\n",
    "\n",
    "multiply_by_5(6)"
   ]
  },
  {
   "cell_type": "code",
   "execution_count": 42,
   "id": "f559072c",
   "metadata": {},
   "outputs": [
    {
     "data": {
      "text/plain": [
       "72"
      ]
     },
     "execution_count": 42,
     "metadata": {},
     "output_type": "execute_result"
    }
   ],
   "source": [
    "def multiply_by_5(x, y = 5):   \n",
    "    prod = x * y\n",
    "    return prod\n",
    "\n",
    "multiply_by_5(x = 9, y = 8)    # overrides y = 5 by y = 8"
   ]
  },
  {
   "cell_type": "code",
   "execution_count": 44,
   "id": "0f9b796e",
   "metadata": {},
   "outputs": [
    {
     "ename": "SyntaxError",
     "evalue": "non-default argument follows default argument (1795453607.py, line 1)",
     "output_type": "error",
     "traceback": [
      "\u001b[0;36m  Cell \u001b[0;32mIn [44], line 1\u001b[0;36m\u001b[0m\n\u001b[0;31m    def multiply(x = 5, y):    # This cannot be done as non default argument always follows default argument\u001b[0m\n\u001b[0m                        ^\u001b[0m\n\u001b[0;31mSyntaxError\u001b[0m\u001b[0;31m:\u001b[0m non-default argument follows default argument\n"
     ]
    }
   ],
   "source": [
    "def multiply(x = 5, y):    # This cannot be done as non default argument always follows default argument\n",
    "    prod = x * y\n",
    "    return prod"
   ]
  },
  {
   "cell_type": "code",
   "execution_count": 49,
   "id": "e90fc7e8",
   "metadata": {},
   "outputs": [
    {
     "name": "stdout",
     "output_type": "stream",
     "text": [
      "Hello Rakshya. Good morning!\n",
      "Hello Bruce. How do you do?\n"
     ]
    }
   ],
   "source": [
    "def greet(name, msg = \"Good morning!\"):\n",
    "    print(\"Hello\", name + '. ' + msg)\n",
    "\n",
    "greet(name = \"Rakshya\")\n",
    "greet(name = \"Bruce\", msg = \"How do you do?\")"
   ]
  },
  {
   "cell_type": "markdown",
   "id": "0cc3ad64",
   "metadata": {},
   "source": [
    "# Scope of variables in Python Functions: global and local"
   ]
  },
  {
   "cell_type": "code",
   "execution_count": 50,
   "id": "99429156",
   "metadata": {},
   "outputs": [],
   "source": [
    "def add(x, y):\n",
    "    z = x + y    # local variable of a function, cannot be accessed outside the function.\n",
    "    return z"
   ]
  },
  {
   "cell_type": "code",
   "execution_count": 51,
   "id": "02eaa3ab",
   "metadata": {},
   "outputs": [
    {
     "data": {
      "text/plain": [
       "11"
      ]
     },
     "execution_count": 51,
     "metadata": {},
     "output_type": "execute_result"
    }
   ],
   "source": [
    "add(5, 6)"
   ]
  },
  {
   "cell_type": "code",
   "execution_count": 52,
   "id": "722b8d6a",
   "metadata": {},
   "outputs": [
    {
     "ename": "NameError",
     "evalue": "name 'z' is not defined",
     "output_type": "error",
     "traceback": [
      "\u001b[0;31m---------------------------------------------------------------------------\u001b[0m",
      "\u001b[0;31mNameError\u001b[0m                                 Traceback (most recent call last)",
      "Cell \u001b[0;32mIn [52], line 1\u001b[0m\n\u001b[0;32m----> 1\u001b[0m \u001b[43mz\u001b[49m\n",
      "\u001b[0;31mNameError\u001b[0m: name 'z' is not defined"
     ]
    }
   ],
   "source": [
    "z"
   ]
  },
  {
   "cell_type": "code",
   "execution_count": 56,
   "id": "a7d86c85",
   "metadata": {},
   "outputs": [],
   "source": [
    "def add(x, y):\n",
    "    p = 7        # local variable of a function, cannot be accessed outside the function.\n",
    "    z = x + y + p  \n",
    "    return z"
   ]
  },
  {
   "cell_type": "code",
   "execution_count": 57,
   "id": "1626111f",
   "metadata": {},
   "outputs": [
    {
     "data": {
      "text/plain": [
       "24"
      ]
     },
     "execution_count": 57,
     "metadata": {},
     "output_type": "execute_result"
    }
   ],
   "source": [
    "add(8, 9)"
   ]
  },
  {
   "cell_type": "code",
   "execution_count": 58,
   "id": "1f60c38d",
   "metadata": {},
   "outputs": [
    {
     "ename": "NameError",
     "evalue": "name 'p' is not defined",
     "output_type": "error",
     "traceback": [
      "\u001b[0;31m---------------------------------------------------------------------------\u001b[0m",
      "\u001b[0;31mNameError\u001b[0m                                 Traceback (most recent call last)",
      "Cell \u001b[0;32mIn [58], line 1\u001b[0m\n\u001b[0;32m----> 1\u001b[0m \u001b[43mp\u001b[49m\n",
      "\u001b[0;31mNameError\u001b[0m: name 'p' is not defined"
     ]
    }
   ],
   "source": [
    "p"
   ]
  },
  {
   "cell_type": "code",
   "execution_count": 59,
   "id": "0ff10c4f",
   "metadata": {},
   "outputs": [],
   "source": [
    "def add(x, y):\n",
    "    global p    # makes p a global variable\n",
    "    p = 7       \n",
    "    z = x + y + p  \n",
    "    return z"
   ]
  },
  {
   "cell_type": "code",
   "execution_count": 60,
   "id": "aff0189d",
   "metadata": {},
   "outputs": [
    {
     "data": {
      "text/plain": [
       "76"
      ]
     },
     "execution_count": 60,
     "metadata": {},
     "output_type": "execute_result"
    }
   ],
   "source": [
    "add(67, 2) # function must be called in order to access the global variable"
   ]
  },
  {
   "cell_type": "code",
   "execution_count": 61,
   "id": "65185ff7",
   "metadata": {},
   "outputs": [
    {
     "data": {
      "text/plain": [
       "7"
      ]
     },
     "execution_count": 61,
     "metadata": {},
     "output_type": "execute_result"
    }
   ],
   "source": [
    "p # p can be accessed only by calling the function as in above step"
   ]
  },
  {
   "cell_type": "code",
   "execution_count": 62,
   "id": "a3b0dd5f",
   "metadata": {},
   "outputs": [],
   "source": [
    "q = 0    # global variable created outside the function\n",
    "def add(x, y):\n",
    "    global q    # makes p a global variable\n",
    "    q = 7       \n",
    "    z = x + y + q \n",
    "    return z"
   ]
  },
  {
   "cell_type": "code",
   "execution_count": 63,
   "id": "89c2c48c",
   "metadata": {},
   "outputs": [
    {
     "data": {
      "text/plain": [
       "0"
      ]
     },
     "execution_count": 63,
     "metadata": {},
     "output_type": "execute_result"
    }
   ],
   "source": [
    "q "
   ]
  },
  {
   "cell_type": "code",
   "execution_count": 64,
   "id": "4dfa854d",
   "metadata": {},
   "outputs": [
    {
     "data": {
      "text/plain": [
       "18"
      ]
     },
     "execution_count": 64,
     "metadata": {},
     "output_type": "execute_result"
    }
   ],
   "source": [
    "add(5, 6) # function call overrides the q value and the inside value of q changes from 0 --> 7"
   ]
  },
  {
   "cell_type": "code",
   "execution_count": 65,
   "id": "3017cf6a",
   "metadata": {},
   "outputs": [
    {
     "data": {
      "text/plain": [
       "7"
      ]
     },
     "execution_count": 65,
     "metadata": {},
     "output_type": "execute_result"
    }
   ],
   "source": [
    "q"
   ]
  },
  {
   "cell_type": "code",
   "execution_count": 66,
   "id": "a0fb6e9f",
   "metadata": {},
   "outputs": [],
   "source": [
    "# Avoid using global variable as much as you can. \n",
    "# This does not follow python standard convention. q must be passed as an argument for it to follow the python standard.\n",
    "\n",
    "q = 0\n",
    "def add(x, y):\n",
    "    z = x + y + q \n",
    "    return z"
   ]
  },
  {
   "cell_type": "code",
   "execution_count": 67,
   "id": "dbd4bdc2",
   "metadata": {},
   "outputs": [
    {
     "data": {
      "text/plain": [
       "0"
      ]
     },
     "execution_count": 67,
     "metadata": {},
     "output_type": "execute_result"
    }
   ],
   "source": [
    "q"
   ]
  },
  {
   "cell_type": "code",
   "execution_count": 68,
   "id": "aa2169d7",
   "metadata": {},
   "outputs": [
    {
     "data": {
      "text/plain": [
       "11"
      ]
     },
     "execution_count": 68,
     "metadata": {},
     "output_type": "execute_result"
    }
   ],
   "source": [
    "add(5, 6)"
   ]
  },
  {
   "cell_type": "code",
   "execution_count": 69,
   "id": "c0af06d1",
   "metadata": {},
   "outputs": [
    {
     "data": {
      "text/plain": [
       "0"
      ]
     },
     "execution_count": 69,
     "metadata": {},
     "output_type": "execute_result"
    }
   ],
   "source": [
    "q"
   ]
  },
  {
   "cell_type": "code",
   "execution_count": null,
   "id": "5588f08c",
   "metadata": {},
   "outputs": [],
   "source": []
  }
 ],
 "metadata": {
  "kernelspec": {
   "display_name": "Python 3 (ipykernel)",
   "language": "python",
   "name": "python3"
  },
  "language_info": {
   "codemirror_mode": {
    "name": "ipython",
    "version": 3
   },
   "file_extension": ".py",
   "mimetype": "text/x-python",
   "name": "python",
   "nbconvert_exporter": "python",
   "pygments_lexer": "ipython3",
   "version": "3.10.7"
  }
 },
 "nbformat": 4,
 "nbformat_minor": 5
}
