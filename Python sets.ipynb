{
 "cells": [
  {
   "cell_type": "code",
   "execution_count": 3,
   "id": "b10c61d9",
   "metadata": {},
   "outputs": [],
   "source": [
    "set1 = {'apple', 'papaya', 'banana', 'mango'}"
   ]
  },
  {
   "cell_type": "code",
   "execution_count": 4,
   "id": "ecae3958",
   "metadata": {},
   "outputs": [
    {
     "name": "stdout",
     "output_type": "stream",
     "text": [
      "{'papaya', 'mango', 'banana', 'apple'}\n"
     ]
    }
   ],
   "source": [
    "print(set1) # unordered -- in random order"
   ]
  },
  {
   "cell_type": "code",
   "execution_count": 5,
   "id": "ebcb150b",
   "metadata": {},
   "outputs": [
    {
     "data": {
      "text/plain": [
       "4"
      ]
     },
     "execution_count": 5,
     "metadata": {},
     "output_type": "execute_result"
    }
   ],
   "source": [
    "len(set1)"
   ]
  },
  {
   "cell_type": "code",
   "execution_count": 6,
   "id": "0808c5de",
   "metadata": {},
   "outputs": [
    {
     "ename": "TypeError",
     "evalue": "'set' object is not subscriptable",
     "output_type": "error",
     "traceback": [
      "\u001b[0;31m---------------------------------------------------------------------------\u001b[0m",
      "\u001b[0;31mTypeError\u001b[0m                                 Traceback (most recent call last)",
      "Cell \u001b[0;32mIn [6], line 2\u001b[0m\n\u001b[1;32m      1\u001b[0m \u001b[38;5;28;01mfor\u001b[39;00m index \u001b[38;5;129;01min\u001b[39;00m \u001b[38;5;28mrange\u001b[39m(\u001b[38;5;28mlen\u001b[39m(set1)):\n\u001b[0;32m----> 2\u001b[0m     item \u001b[38;5;241m=\u001b[39m \u001b[43mset1\u001b[49m\u001b[43m[\u001b[49m\u001b[43mindex\u001b[49m\u001b[43m]\u001b[49m\n",
      "\u001b[0;31mTypeError\u001b[0m: 'set' object is not subscriptable"
     ]
    }
   ],
   "source": [
    "for index in range(len(set1)):    #set are unindexed , cannot run this loop beacuse it requires index/subscript\n",
    "    item = set1[index]"
   ]
  },
  {
   "cell_type": "code",
   "execution_count": 7,
   "id": "12d11311",
   "metadata": {},
   "outputs": [
    {
     "name": "stdout",
     "output_type": "stream",
     "text": [
      "papaya\n",
      "mango\n",
      "banana\n",
      "apple\n"
     ]
    }
   ],
   "source": [
    "for item in set1:\n",
    "    print(item)"
   ]
  },
  {
   "cell_type": "markdown",
   "id": "57593a9f",
   "metadata": {},
   "source": [
    "## Mutable - add or remove if possible"
   ]
  },
  {
   "cell_type": "code",
   "execution_count": 21,
   "id": "a7d3491b",
   "metadata": {},
   "outputs": [],
   "source": [
    "car = {'Mercedes', 'Audi', 'Tesla', 'tata'}"
   ]
  },
  {
   "cell_type": "code",
   "execution_count": 22,
   "id": "62849d3d",
   "metadata": {},
   "outputs": [],
   "source": [
    "# add items in set\n",
    "car.add('BMW')"
   ]
  },
  {
   "cell_type": "code",
   "execution_count": 23,
   "id": "e27c631f",
   "metadata": {},
   "outputs": [
    {
     "data": {
      "text/plain": [
       "{'Audi', 'BMW', 'Mercedes', 'Tesla', 'tata'}"
      ]
     },
     "execution_count": 23,
     "metadata": {},
     "output_type": "execute_result"
    }
   ],
   "source": [
    "car"
   ]
  },
  {
   "cell_type": "code",
   "execution_count": 24,
   "id": "0ac056cf",
   "metadata": {},
   "outputs": [],
   "source": [
    "# remove items from set\n",
    "car.remove('tata')"
   ]
  },
  {
   "cell_type": "code",
   "execution_count": 25,
   "id": "170981ff",
   "metadata": {},
   "outputs": [
    {
     "data": {
      "text/plain": [
       "{'Audi', 'BMW', 'Mercedes', 'Tesla'}"
      ]
     },
     "execution_count": 25,
     "metadata": {},
     "output_type": "execute_result"
    }
   ],
   "source": [
    "car"
   ]
  },
  {
   "cell_type": "code",
   "execution_count": 26,
   "id": "9887c52b",
   "metadata": {},
   "outputs": [
    {
     "ename": "KeyError",
     "evalue": "'suzuki'",
     "output_type": "error",
     "traceback": [
      "\u001b[0;31m---------------------------------------------------------------------------\u001b[0m",
      "\u001b[0;31mKeyError\u001b[0m                                  Traceback (most recent call last)",
      "Cell \u001b[0;32mIn [26], line 1\u001b[0m\n\u001b[0;32m----> 1\u001b[0m \u001b[43mcar\u001b[49m\u001b[38;5;241;43m.\u001b[39;49m\u001b[43mremove\u001b[49m\u001b[43m(\u001b[49m\u001b[38;5;124;43m'\u001b[39;49m\u001b[38;5;124;43msuzuki\u001b[39;49m\u001b[38;5;124;43m'\u001b[39;49m\u001b[43m)\u001b[49m    \u001b[38;5;66;03m# you cannot remove items that are not in the list\u001b[39;00m\n",
      "\u001b[0;31mKeyError\u001b[0m: 'suzuki'"
     ]
    }
   ],
   "source": [
    "car.remove('suzuki')    # you cannot remove items that are not in the list"
   ]
  },
  {
   "cell_type": "markdown",
   "id": "42e2bc00",
   "metadata": {},
   "source": [
    "# Set operation in Python: union, intersection, difference"
   ]
  },
  {
   "cell_type": "code",
   "execution_count": 22,
   "id": "7e5c5c38",
   "metadata": {},
   "outputs": [],
   "source": [
    "A = {'apple', 'banana', 'cherry'}\n",
    "B = {'google', 'microsoft', 'apple'}"
   ]
  },
  {
   "cell_type": "code",
   "execution_count": 23,
   "id": "ea6c6b61",
   "metadata": {},
   "outputs": [
    {
     "data": {
      "text/plain": [
       "{'apple', 'banana', 'cherry', 'google', 'microsoft'}"
      ]
     },
     "execution_count": 23,
     "metadata": {},
     "output_type": "execute_result"
    }
   ],
   "source": [
    "A.union(B)"
   ]
  },
  {
   "cell_type": "code",
   "execution_count": 24,
   "id": "2805de5a",
   "metadata": {},
   "outputs": [
    {
     "data": {
      "text/plain": [
       "{'apple', 'banana', 'cherry', 'google', 'microsoft'}"
      ]
     },
     "execution_count": 24,
     "metadata": {},
     "output_type": "execute_result"
    }
   ],
   "source": [
    "B.union(A)"
   ]
  },
  {
   "cell_type": "code",
   "execution_count": 25,
   "id": "fa44fa4e",
   "metadata": {},
   "outputs": [
    {
     "data": {
      "text/plain": [
       "{'apple'}"
      ]
     },
     "execution_count": 25,
     "metadata": {},
     "output_type": "execute_result"
    }
   ],
   "source": [
    "A.intersection(B)"
   ]
  },
  {
   "cell_type": "code",
   "execution_count": 26,
   "id": "a0a90bf8",
   "metadata": {},
   "outputs": [
    {
     "data": {
      "text/plain": [
       "{'apple'}"
      ]
     },
     "execution_count": 26,
     "metadata": {},
     "output_type": "execute_result"
    }
   ],
   "source": [
    "B.intersection(A)"
   ]
  },
  {
   "cell_type": "code",
   "execution_count": 20,
   "id": "b6a0de93",
   "metadata": {},
   "outputs": [
    {
     "name": "stdout",
     "output_type": "stream",
     "text": [
      "{'google', 'apple', 'cherry', 'banana', 'microsoft'}\n"
     ]
    }
   ],
   "source": [
    "A.update(B)\n",
    "print(A)"
   ]
  },
  {
   "cell_type": "code",
   "execution_count": 21,
   "id": "d9b35827",
   "metadata": {},
   "outputs": [
    {
     "data": {
      "text/plain": [
       "{'apple', 'google', 'microsoft'}"
      ]
     },
     "execution_count": 21,
     "metadata": {},
     "output_type": "execute_result"
    }
   ],
   "source": [
    "B.intersection(A)"
   ]
  },
  {
   "cell_type": "code",
   "execution_count": 32,
   "id": "884ace27",
   "metadata": {},
   "outputs": [
    {
     "data": {
      "text/plain": [
       "{'banana', 'cherry'}"
      ]
     },
     "execution_count": 32,
     "metadata": {},
     "output_type": "execute_result"
    }
   ],
   "source": [
    "A.difference(B)"
   ]
  },
  {
   "cell_type": "code",
   "execution_count": 33,
   "id": "591c0cec",
   "metadata": {},
   "outputs": [
    {
     "data": {
      "text/plain": [
       "{'google', 'microsoft'}"
      ]
     },
     "execution_count": 33,
     "metadata": {},
     "output_type": "execute_result"
    }
   ],
   "source": [
    "B.difference(A)"
   ]
  },
  {
   "cell_type": "code",
   "execution_count": 34,
   "id": "072083c6",
   "metadata": {},
   "outputs": [
    {
     "data": {
      "text/plain": [
       "{'banana', 'cherry'}"
      ]
     },
     "execution_count": 34,
     "metadata": {},
     "output_type": "execute_result"
    }
   ],
   "source": [
    "A - B"
   ]
  },
  {
   "cell_type": "code",
   "execution_count": 36,
   "id": "40a0f5dd",
   "metadata": {},
   "outputs": [
    {
     "data": {
      "text/plain": [
       "{'google', 'microsoft'}"
      ]
     },
     "execution_count": 36,
     "metadata": {},
     "output_type": "execute_result"
    }
   ],
   "source": [
    "B - A"
   ]
  },
  {
   "cell_type": "markdown",
   "id": "51e7dde0",
   "metadata": {},
   "source": [
    "## frozenset - immutable version of python set (you cannnot see .add() and .remove())"
   ]
  },
  {
   "cell_type": "code",
   "execution_count": 37,
   "id": "5ced8c0d",
   "metadata": {},
   "outputs": [],
   "source": [
    "A = {'apple', 'banana', 'cherry'}\n",
    "A_frozenset = frozenset(A)"
   ]
  },
  {
   "cell_type": "code",
   "execution_count": 38,
   "id": "63d0d629",
   "metadata": {},
   "outputs": [
    {
     "data": {
      "text/plain": [
       "frozenset({'apple', 'banana', 'cherry'})"
      ]
     },
     "execution_count": 38,
     "metadata": {},
     "output_type": "execute_result"
    }
   ],
   "source": [
    "A_frozenset"
   ]
  },
  {
   "cell_type": "code",
   "execution_count": 39,
   "id": "d341854d",
   "metadata": {},
   "outputs": [
    {
     "ename": "AttributeError",
     "evalue": "'frozenset' object has no attribute 'add'",
     "output_type": "error",
     "traceback": [
      "\u001b[0;31m---------------------------------------------------------------------------\u001b[0m",
      "\u001b[0;31mAttributeError\u001b[0m                            Traceback (most recent call last)",
      "Cell \u001b[0;32mIn [39], line 1\u001b[0m\n\u001b[0;32m----> 1\u001b[0m \u001b[43mA_frozenset\u001b[49m\u001b[38;5;241;43m.\u001b[39;49m\u001b[43madd\u001b[49m \u001b[38;5;241m=\u001b[39m {\u001b[38;5;124m'\u001b[39m\u001b[38;5;124mpapaya\u001b[39m\u001b[38;5;124m'\u001b[39m}\n",
      "\u001b[0;31mAttributeError\u001b[0m: 'frozenset' object has no attribute 'add'"
     ]
    }
   ],
   "source": [
    "A_frozenset.add = {'papaya'}"
   ]
  }
 ],
 "metadata": {
  "kernelspec": {
   "display_name": "Python 3 (ipykernel)",
   "language": "python",
   "name": "python3"
  },
  "language_info": {
   "codemirror_mode": {
    "name": "ipython",
    "version": 3
   },
   "file_extension": ".py",
   "mimetype": "text/x-python",
   "name": "python",
   "nbconvert_exporter": "python",
   "pygments_lexer": "ipython3",
   "version": "3.10.7"
  }
 },
 "nbformat": 4,
 "nbformat_minor": 5
}
