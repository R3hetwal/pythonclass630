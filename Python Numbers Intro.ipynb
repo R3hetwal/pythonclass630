{
 "cells": [
  {
   "cell_type": "markdown",
   "id": "41ca1212",
   "metadata": {},
   "source": [
    "# Taking input from the user"
   ]
  },
  {
   "cell_type": "code",
   "execution_count": 1,
   "id": "478cc164",
   "metadata": {},
   "outputs": [
    {
     "name": "stdout",
     "output_type": "stream",
     "text": [
      "5\n"
     ]
    },
    {
     "data": {
      "text/plain": [
       "'5'"
      ]
     },
     "execution_count": 1,
     "metadata": {},
     "output_type": "execute_result"
    }
   ],
   "source": [
    "input()"
   ]
  },
  {
   "cell_type": "code",
   "execution_count": 2,
   "id": "d93ebfa0",
   "metadata": {},
   "outputs": [
    {
     "name": "stdout",
     "output_type": "stream",
     "text": [
      "Enter a number: 12\n"
     ]
    },
    {
     "data": {
      "text/plain": [
       "'12'"
      ]
     },
     "execution_count": 2,
     "metadata": {},
     "output_type": "execute_result"
    }
   ],
   "source": [
    "input(\"Enter a number: \")"
   ]
  },
  {
   "cell_type": "code",
   "execution_count": 3,
   "id": "8162bbb2",
   "metadata": {},
   "outputs": [
    {
     "name": "stdout",
     "output_type": "stream",
     "text": [
      "Enter a number: 10\n",
      "Your number is: 10\n"
     ]
    }
   ],
   "source": [
    "num1 = input(\"Enter a number: \")\n",
    "print(\"Your number is: {}\".format(num1))"
   ]
  },
  {
   "cell_type": "code",
   "execution_count": 4,
   "id": "63135196",
   "metadata": {},
   "outputs": [
    {
     "name": "stdout",
     "output_type": "stream",
     "text": [
      "Enter your first number: 2\n",
      "Enter your second number: 5\n",
      "Sum is:  25\n"
     ]
    }
   ],
   "source": [
    "num1 = input(\"Enter your first number: \")\n",
    "num2 = input(\"Enter your second number: \")\n",
    "total = num1 + num2\n",
    "print(\"Sum is: \",total)"
   ]
  },
  {
   "cell_type": "code",
   "execution_count": 5,
   "id": "ea0f074b",
   "metadata": {},
   "outputs": [
    {
     "name": "stdout",
     "output_type": "stream",
     "text": [
      "Enter your first number: 2\n"
     ]
    },
    {
     "data": {
      "text/plain": [
       "str"
      ]
     },
     "execution_count": 5,
     "metadata": {},
     "output_type": "execute_result"
    }
   ],
   "source": [
    "num1 = input(\"Enter your first number: \")\n",
    "type(num1)"
   ]
  },
  {
   "cell_type": "markdown",
   "id": "704ab478",
   "metadata": {},
   "source": [
    "* Without defining the data type if we just add it, the input taken is considered to be string. Hence, the two numbers get concatinated."
   ]
  },
  {
   "cell_type": "markdown",
   "id": "0d4625b9",
   "metadata": {},
   "source": [
    "# Typecasting in Python"
   ]
  },
  {
   "cell_type": "code",
   "execution_count": 6,
   "id": "4fabe9dd",
   "metadata": {},
   "outputs": [
    {
     "name": "stdout",
     "output_type": "stream",
     "text": [
      "Enter your first number: 45\n",
      "Enter your second number: 25\n",
      "Sum is:  70\n"
     ]
    }
   ],
   "source": [
    "num1 = int(input(\"Enter your first number: \"))\n",
    "num2 = int(input(\"Enter your second number: \"))\n",
    "total = num1 + num2\n",
    "print(\"Sum is: \",total)"
   ]
  },
  {
   "cell_type": "code",
   "execution_count": 7,
   "id": "15969786",
   "metadata": {},
   "outputs": [
    {
     "name": "stdout",
     "output_type": "stream",
     "text": [
      "Enter your first number: 4.5\n",
      "Enter your second number: 2.0\n",
      "Sum is:  6.5\n"
     ]
    }
   ],
   "source": [
    "num1 = float(input(\"Enter your first number: \"))\n",
    "num2 = float(input(\"Enter your second number: \"))\n",
    "total = num1 + num2\n",
    "print(\"Sum is: \",total)"
   ]
  },
  {
   "cell_type": "code",
   "execution_count": null,
   "id": "4fdd957d",
   "metadata": {},
   "outputs": [],
   "source": []
  }
 ],
 "metadata": {
  "kernelspec": {
   "display_name": "Python 3 (ipykernel)",
   "language": "python",
   "name": "python3"
  },
  "language_info": {
   "codemirror_mode": {
    "name": "ipython",
    "version": 3
   },
   "file_extension": ".py",
   "mimetype": "text/x-python",
   "name": "python",
   "nbconvert_exporter": "python",
   "pygments_lexer": "ipython3",
   "version": "3.10.7"
  }
 },
 "nbformat": 4,
 "nbformat_minor": 5
}
